{
 "metadata": {
  "language_info": {
   "codemirror_mode": {
    "name": "ipython",
    "version": 3
   },
   "file_extension": ".py",
   "mimetype": "text/x-python",
   "name": "python",
   "nbconvert_exporter": "python",
   "pygments_lexer": "ipython3",
   "version": "3.7.7-final"
  },
  "orig_nbformat": 2,
  "kernelspec": {
   "name": "Python 3.7.7 64-bit ('venv': conda)",
   "display_name": "Python 3.7.7 64-bit ('venv': conda)",
   "metadata": {
    "interpreter": {
     "hash": "8f31c2d6484a6540b9622c1fdd543d95c1c17d32b75d380c4c4d6eb4192201d3"
    }
   }
  }
 },
 "nbformat": 4,
 "nbformat_minor": 2,
 "cells": [
  {
   "cell_type": "code",
   "execution_count": 1,
   "metadata": {},
   "outputs": [],
   "source": [
    "import pandas as pd\n",
    "import numpy as np \n",
    "def join_files(excel_file, excel_sheets, target_dim, target_dim_replace):\n",
    "    # files\n",
    "    temp = pd.DataFrame()\n",
    "    for ele in excel_sheets:\n",
    "        df = pd.read_excel(excel_file, sheet_name=ele)\n",
    "        df.columns = df.columns.str.lower()\n",
    "        df.rename(columns={target_dim: target_dim_replace}, inplace=True)\n",
    "        temp = temp.append(df, sort=False)\n",
    "    return temp"
   ]
  },
  {
   "cell_type": "code",
   "execution_count": 2,
   "metadata": {},
   "outputs": [],
   "source": [
    "import re\n",
    "import pandas as pd\n",
    "from bamboo_lib.connectors.models import Connector\n",
    "from bamboo_lib.models import EasyPipeline, PipelineStep\n",
    "from bamboo_lib.steps import LoadStep\n",
    "#from etl.survey_indicators.helpers import join_files\n",
    "from static import COLUMNS_RENAME\n",
    "from shared import ReplaceStep"
   ]
  },
  {
   "cell_type": "code",
   "execution_count": 3,
   "metadata": {},
   "outputs": [],
   "source": [
    "REPLACE_DICT = {\n",
    "   'Explotación de minas y cante' : 'Explotación de minas y canteras',\n",
    "   'Suministro de agua, evacuación de aguas residuales, gestión de desechos y descontaminación' : 'Suministro de agua; evacuación de aguas residuales, gestión de desechos y descontaminación',\n",
    "   'Comercio al por mayor y al por menor, reparación de vehículos automotores y motocicletas' : 'Comercio al por mayor y al por menor; reparación de vehículos automotores y motocicletas',\n",
    "   'Actividades profesionales, científicas y técnica' : 'Actividades profesionales, científicas y técnicas',\n",
    "}\n",
    "\n",
    "\n",
    "COLUMNS_RENAME = {\n",
    "    'año': 'year',\n",
    "    'indicador': 'indicator_id',\n",
    "    'categoría': 'category_id'\n",
    "}\n",
    "\n",
    "SIZE_REPLACE = {\n",
    "    'Empresa micro': 1,\n",
    "    'Empresa pequeña': 2,\n",
    "    'Empresa mediana': 3,\n",
    "    'Empresa grande': 4\n",
    "}\n",
    "\n",
    "COLUMNS_RENAME = {\n",
    "    'año': 'year',\n",
    "    'indicador': 'indicator_id',\n",
    "    'categoría': 'category_id'\n",
    "}\n"
   ]
  },
  {
   "cell_type": "code",
   "execution_count": 4,
   "metadata": {},
   "outputs": [],
   "source": [
    "data = pd.ExcelFile('../../../../datasets/20201007/03. Indicadores estimados DSE - Encuestas (06-10-2020-07-10-2020))/felipe/061020 ENHAT_Indicadores.xlsx')\n",
    "\n",
    "nation = [x for x in data.sheet_names if re.findall('IND_.*_A', x) != []]\n",
    "nation.remove('IND_66_A')\n",
    "industry = [x for x in data.sheet_names if re.findall('IND_.*_C', x) != []]\n",
    "org_size = [x for x in data.sheet_names if re.findall('IND_.*_B', x) != []]\n",
    "workforce = ['IND_66_A']\n",
    "\n",
    "df = join_files(data, nation, 'nivel_desagregación', 'nation_id')\n",
    "df = df.append(join_files(data, industry, 'nivel_desagregación', 'industry_id'), sort=False)\n",
    "df = df.append(join_files(data, org_size, 'nivel_desagregación', 'size_id'), sort=False)\n",
    "df = df.append(join_files(data, workforce, 'nivel_desagregación', 'workforce_id'), sort=False)"
   ]
  },
  {
   "cell_type": "code",
   "execution_count": 5,
   "metadata": {},
   "outputs": [],
   "source": [
    "df['industry_id'] = df['industry_id'].replace(REPLACE_DICT)"
   ]
  },
  {
   "cell_type": "code",
   "execution_count": 6,
   "metadata": {},
   "outputs": [
    {
     "output_type": "execute_result",
     "data": {
      "text/plain": [
       "año                0\n",
       "indicador          0\n",
       "nation_id       3011\n",
       "categoría        206\n",
       "estimate           0\n",
       "stderr             0\n",
       "dof                0\n",
       "t                153\n",
       "p                153\n",
       "min95              0\n",
       "max95              0\n",
       "coef_var          96\n",
       "popul_size         0\n",
       "industry_id      652\n",
       "size_id         2797\n",
       "workforce_id    3218\n",
       "dtype: int64"
      ]
     },
     "metadata": {},
     "execution_count": 6
    }
   ],
   "source": [
    "df.isna().sum()"
   ]
  },
  {
   "cell_type": "code",
   "execution_count": 7,
   "metadata": {},
   "outputs": [],
   "source": [
    "#df[['industry_id', 'nation_id','industry_id','size_id','workforce_id']] = df[['industry_id', 'nation_id','industry_id','size_id','workforce_id']].fillna(0)"
   ]
  },
  {
   "cell_type": "code",
   "execution_count": 8,
   "metadata": {},
   "outputs": [
    {
     "output_type": "execute_result",
     "data": {
      "text/plain": [
       "array(['Nacional', nan], dtype=object)"
      ]
     },
     "metadata": {},
     "execution_count": 8
    }
   ],
   "source": [
    "df['nation_id'].unique()"
   ]
  },
  {
   "cell_type": "code",
   "execution_count": 9,
   "metadata": {},
   "outputs": [
    {
     "output_type": "execute_result",
     "data": {
      "text/plain": [
       "array([nan, 'Agricultura, ganadería, silvicultura y pesca',\n",
       "       'Explotación de minas y canteras', 'Industrias manufactureras',\n",
       "       'Suministro de electricidad, gas, vapor y aire acondicionado',\n",
       "       'Suministro de agua; evacuación de aguas residuales, gestión de desechos y descontaminación',\n",
       "       'Construcción',\n",
       "       'Comercio al por mayor y al por menor; reparación de vehículos automotores y motocicletas',\n",
       "       'Transporte y almacenamiento',\n",
       "       'Actividades de alojamiento y de servicio de comidas',\n",
       "       'Información y comunicaciones',\n",
       "       'Actividades financieras y de seguros',\n",
       "       'Actividades inmobiliarias',\n",
       "       'Actividades profesionales, científicas y técnicas',\n",
       "       'Actividades de servicios administrativos y de apoyo', 'Enseñanza',\n",
       "       'Actividades de atención de la salud humana y de asistencia social',\n",
       "       'Actividades artísticas, de entretenimiento y recreativas',\n",
       "       'Otras actividades de servicios'], dtype=object)"
      ]
     },
     "metadata": {},
     "execution_count": 9
    }
   ],
   "source": [
    "df['industry_id'].unique()"
   ]
  },
  {
   "cell_type": "code",
   "execution_count": 10,
   "metadata": {},
   "outputs": [
    {
     "output_type": "execute_result",
     "data": {
      "text/plain": [
       "array([nan, 'Empresa pequeña', 'Empresa mediana', 'Empresa grande'],\n",
       "      dtype=object)"
      ]
     },
     "metadata": {},
     "execution_count": 10
    }
   ],
   "source": [
    "df['size_id'].unique()"
   ]
  },
  {
   "cell_type": "code",
   "execution_count": 11,
   "metadata": {},
   "outputs": [
    {
     "output_type": "execute_result",
     "data": {
      "text/plain": [
       "array([nan, 'Directores y gerentes',\n",
       "       'Profesionales científicos e intelectuales',\n",
       "       'Profesionales técnicos', 'Jefes y empleados administrativos',\n",
       "       'Trabajodores de servicios y vendedores',\n",
       "       'Obreros, artesanos y electricistas', 'Industriales y conductores',\n",
       "       'Ocupaciones elementales'], dtype=object)"
      ]
     },
     "metadata": {},
     "execution_count": 11
    }
   ],
   "source": [
    "df['workforce_id'].unique()"
   ]
  },
  {
   "cell_type": "code",
   "execution_count": 12,
   "metadata": {},
   "outputs": [],
   "source": [
    "df1 = pd.read_csv('../../../../datasets/anexos/ISIC_Rev_4_spanish_structure.txt', encoding='latin-1')\n",
    "        \n",
    "sections = [\n",
    "    ['A', 1, 3],\n",
    "    ['B', 5, 9],\n",
    "    ['C', 10, 33],\n",
    "    ['D', 35, 35],\n",
    "    ['E', 36, 39],\n",
    "    ['F', 41, 43],\n",
    "    ['G', 45, 47],\n",
    "    ['H', 49, 53],\n",
    "    ['I', 55, 56],\n",
    "    ['J', 58, 63],\n",
    "    ['K', 64, 66],\n",
    "    ['L', 68, 68],\n",
    "    ['M', 69, 75],\n",
    "    ['N', 77, 82],\n",
    "    ['O', 84, 84],\n",
    "    ['P', 85, 85],\n",
    "    ['Q', 86, 88],\n",
    "    ['R', 90, 93],\n",
    "    ['S', 94, 96],\n",
    "    ['T', 97, 98],\n",
    "    ['U', 99, 99]\n",
    "]\n",
    "\n",
    "sections = pd.DataFrame(sections, columns=['section_id', 'interval_lower', 'interval_upper'])\n",
    "\n",
    "df1['group_id'] = df1.apply(lambda x: x['Code'][0:3] if len(x['Code']) == 4 else np.nan, axis=1)\n",
    "df1['division_id'] = df1.apply(lambda x: x['Code'][0:2] if len(x['Code']) >= 3 else np.nan, axis=1)\n",
    "df1['section_id'] = df1.apply(lambda x: float(x['division_id']), axis=1)\n",
    "\n",
    "for section in df1.section_id.unique():\n",
    "    for level in range(sections.shape[0]):\n",
    "        if (section >= sections.interval_lower[level]) & (section <= sections.interval_upper[level]):\n",
    "            df1.section_id.replace(section, str(sections.section_id[level]), inplace=True)\n",
    "            break\n",
    "\n",
    "sections_df1 = df1[df1['Code'].str.len() == 1][['Code', 'Title']].copy()\n",
    "division_df1 = df1[df1['Code'].str.len() == 2][['Code', 'Title']].copy()\n",
    "group_df1 = df1[df1['Code'].str.len() == 3][['Code', 'Title']].copy()\n",
    "df1 = df1[df1['Code'].str.len() == 4]\n",
    "\n",
    "sections_df1.rename(columns={\n",
    "    'Code': 'section_id',\n",
    "    'Title': 'section_name'\n",
    "}, inplace=True)\n",
    "\n",
    "division_df1.rename(columns={\n",
    "    'Code': 'division_id',\n",
    "    'Title': 'division_name'\n",
    "}, inplace=True)\n",
    "\n",
    "group_df1.rename(columns={\n",
    "    'Code': 'group_id',\n",
    "    'Title': 'group_name'\n",
    "}, inplace=True)\n",
    "\n",
    "df1.rename(columns={\n",
    "    'Code': 'class_id',\n",
    "    'Title': 'class_name'\n",
    "}, inplace=True)\n",
    "\n",
    "df1 = pd.merge(df1, group_df1, on='group_id', how='left')\n",
    "df1 = pd.merge(df1, division_df1, on='division_id', how='left')\n",
    "df1 = pd.merge(df1, sections_df1, on='section_id', how='left')\n",
    "\n",
    "df1 = df1[['section_name', 'division_name', 'group_name', 'class_name', 'section_id', 'division_id', 'group_id', 'class_id']]\n",
    "\n",
    "additional_df1 = pd.DataFrame(data=[['No determinado', 'No determinado', 'No determinado', 'No determinado', 'Z', '00', '000', '0000']], columns=df1.columns)\n",
    "\n",
    "df1 = df1.append(additional_df1)\n"
   ]
  },
  {
   "cell_type": "code",
   "execution_count": 13,
   "metadata": {},
   "outputs": [],
   "source": [
    "#division_map = {k:v for (k,v) in zip(df[\"division_name\"], df[\"division_id\"])}\n",
    "\n"
   ]
  },
  {
   "cell_type": "code",
   "execution_count": 14,
   "metadata": {},
   "outputs": [],
   "source": [
    "#division_map"
   ]
  },
  {
   "cell_type": "code",
   "execution_count": 15,
   "metadata": {},
   "outputs": [],
   "source": [
    "INDUSTRY_REPLACE = {k:v for (k,v) in zip(df1[\"section_name\"], df1[\"section_id\"])}"
   ]
  },
  {
   "cell_type": "code",
   "execution_count": 16,
   "metadata": {},
   "outputs": [],
   "source": [
    "## ReplaceStep()\n",
    "\n",
    "category_dim = dict(zip(df['categoría'].dropna().unique(), range(1, len(df['categoría'].unique()) + 1 )))\n",
    "df['categoría'].replace(category_dim, inplace=True)\n",
    "\n",
    "indicator_dim = dict(zip(df['indicador'].dropna().unique(), range(1, len(df['indicador'].unique()) + 1 )))\n",
    "df['indicador'].replace(indicator_dim, inplace=True)\n",
    "\n",
    "size_dim = dict(zip(df['size_id'].dropna().unique(), range(1, len(df['size_id'].unique()) + 1 )))\n",
    "df['size_id'].replace(size_dim, inplace=True)\n",
    "\n",
    "workforce_dim = dict(zip(df['workforce_id'].dropna().unique(), range(1, len(df['workforce_id'].unique()) + 1 )))\n",
    "df['workforce_id'].replace(workforce_dim, inplace=True)\n",
    "\n",
    "\n",
    "df['industry_id'].replace(INDUSTRY_REPLACE, inplace=True)"
   ]
  },
  {
   "cell_type": "code",
   "execution_count": 17,
   "metadata": {},
   "outputs": [
    {
     "output_type": "execute_result",
     "data": {
      "text/plain": [
       "{'Directores y gerentes': 1,\n",
       " 'Profesionales científicos e intelectuales': 2,\n",
       " 'Profesionales técnicos': 3,\n",
       " 'Jefes y empleados administrativos': 4,\n",
       " 'Trabajodores de servicios y vendedores': 5,\n",
       " 'Obreros, artesanos y electricistas': 6,\n",
       " 'Industriales y conductores': 7,\n",
       " 'Ocupaciones elementales': 8}"
      ]
     },
     "metadata": {},
     "execution_count": 17
    }
   ],
   "source": [
    "workforce_dim"
   ]
  },
  {
   "cell_type": "code",
   "execution_count": 18,
   "metadata": {},
   "outputs": [
    {
     "output_type": "execute_result",
     "data": {
      "text/plain": [
       "                                       index  0\n",
       "0                      Directores y gerentes  1\n",
       "1  Profesionales científicos e intelectuales  2\n",
       "2                     Profesionales técnicos  3\n",
       "3          Jefes y empleados administrativos  4\n",
       "4     Trabajodores de servicios y vendedores  5\n",
       "5         Obreros, artesanos y electricistas  6\n",
       "6                 Industriales y conductores  7\n",
       "7                    Ocupaciones elementales  8"
      ],
      "text/html": "<div>\n<style scoped>\n    .dataframe tbody tr th:only-of-type {\n        vertical-align: middle;\n    }\n\n    .dataframe tbody tr th {\n        vertical-align: top;\n    }\n\n    .dataframe thead th {\n        text-align: right;\n    }\n</style>\n<table border=\"1\" class=\"dataframe\">\n  <thead>\n    <tr style=\"text-align: right;\">\n      <th></th>\n      <th>index</th>\n      <th>0</th>\n    </tr>\n  </thead>\n  <tbody>\n    <tr>\n      <th>0</th>\n      <td>Directores y gerentes</td>\n      <td>1</td>\n    </tr>\n    <tr>\n      <th>1</th>\n      <td>Profesionales científicos e intelectuales</td>\n      <td>2</td>\n    </tr>\n    <tr>\n      <th>2</th>\n      <td>Profesionales técnicos</td>\n      <td>3</td>\n    </tr>\n    <tr>\n      <th>3</th>\n      <td>Jefes y empleados administrativos</td>\n      <td>4</td>\n    </tr>\n    <tr>\n      <th>4</th>\n      <td>Trabajodores de servicios y vendedores</td>\n      <td>5</td>\n    </tr>\n    <tr>\n      <th>5</th>\n      <td>Obreros, artesanos y electricistas</td>\n      <td>6</td>\n    </tr>\n    <tr>\n      <th>6</th>\n      <td>Industriales y conductores</td>\n      <td>7</td>\n    </tr>\n    <tr>\n      <th>7</th>\n      <td>Ocupaciones elementales</td>\n      <td>8</td>\n    </tr>\n  </tbody>\n</table>\n</div>"
     },
     "metadata": {},
     "execution_count": 18
    }
   ],
   "source": [
    "pd.DataFrame.from_dict(workforce_dim, orient='index').reset_index()"
   ]
  },
  {
   "cell_type": "code",
   "execution_count": 19,
   "metadata": {},
   "outputs": [
    {
     "output_type": "execute_result",
     "data": {
      "text/plain": [
       "{'Agricultura, ganadería, silvicultura y pesca': 'A',\n",
       " 'Explotación de minas y canteras': 'B',\n",
       " 'Industrias manufactureras': 'C',\n",
       " 'Suministro de electricidad, gas, vapor y aire acondicionado': 'D',\n",
       " 'Suministro de agua; evacuación de aguas residuales, gestión de desechos y descontaminación': 'E',\n",
       " 'Construcción': 'F',\n",
       " 'Comercio al por mayor y al por menor; reparación de vehículos automotores y motocicletas': 'G',\n",
       " 'Transporte y almacenamiento': 'H',\n",
       " 'Actividades de alojamiento y de servicio de comidas': 'I',\n",
       " 'Información y comunicaciones': 'J',\n",
       " 'Actividades financieras y de seguros': 'K',\n",
       " 'Actividades inmobiliarias': 'L',\n",
       " 'Actividades profesionales, científicas y técnicas': 'M',\n",
       " 'Actividades de servicios administrativos y de apoyo': 'N',\n",
       " 'Administración pública y defensa; planes de seguridad social de afiliación obligatoria': 'O',\n",
       " 'Enseñanza': 'P',\n",
       " 'Actividades de atención de la salud humana y de asistencia social': 'Q',\n",
       " 'Actividades artísticas, de entretenimiento y recreativas': 'R',\n",
       " 'Otras actividades de servicios': 'S',\n",
       " 'Actividades de los hogares como empleadores; actividades no diferenciadas de los hogares como productores de bienes y servicios para uso propio': 'T',\n",
       " 'Actividades de organizaciones y órganos extraterritoriales': 'U',\n",
       " 'No determinado': 'Z'}"
      ]
     },
     "metadata": {},
     "execution_count": 19
    }
   ],
   "source": [
    "INDUSTRY_REPLACE"
   ]
  },
  {
   "cell_type": "code",
   "execution_count": 20,
   "metadata": {},
   "outputs": [],
   "source": [
    "### \n",
    "\n",
    "\n",
    "df = df[['año', 'indicador', 'industry_id','size_id','workforce_id','nation_id','categoría', 'estimate', 'coef_var', 'popul_size']].copy()\n",
    "df.rename(columns=COLUMNS_RENAME, inplace=True)\n",
    "\n",
    "df['nation_id'].replace({'Nacional': 'per'}, inplace=True)\n",
    "df['nation_id'] = df['nation_id'].astype(str)\n",
    "\n",
    "df[['industry_id', 'nation_id', 'size_id', 'category_id','workforce_id']] = df[['industry_id', 'nation_id', 'size_id', 'category_id','workforce_id']].fillna(0)\n",
    "\n",
    "df[['year', 'indicator_id',  'size_id', 'category_id','workforce_id', 'estimate', 'coef_var', 'popul_size']] = df[['year', 'indicator_id',  'size_id', 'category_id','workforce_id',  'estimate', 'coef_var', 'popul_size']].astype(float)\n"
   ]
  },
  {
   "cell_type": "code",
   "execution_count": 21,
   "metadata": {},
   "outputs": [
    {
     "output_type": "execute_result",
     "data": {
      "text/plain": [
       "      year  indicator_id industry_id  size_id  workforce_id nation_id  \\\n",
       "0   2017.0           1.0           0      0.0           0.0       per   \n",
       "1   2017.0           1.0           0      0.0           0.0       per   \n",
       "2   2017.0           1.0           0      0.0           0.0       per   \n",
       "0   2017.0           2.0           0      0.0           0.0       per   \n",
       "1   2017.0           2.0           0      0.0           0.0       per   \n",
       "..     ...           ...         ...      ...           ...       ...   \n",
       "3   2017.0         102.0           0      0.0           4.0       nan   \n",
       "4   2017.0         102.0           0      0.0           5.0       nan   \n",
       "5   2017.0         102.0           0      0.0           6.0       nan   \n",
       "6   2017.0         102.0           0      0.0           7.0       nan   \n",
       "7   2017.0         102.0           0      0.0           8.0       nan   \n",
       "\n",
       "    category_id  estimate   coef_var    popul_size  \n",
       "0           1.0  0.962726   0.328233  87159.476562  \n",
       "1           2.0  0.023208  10.646262   2101.146240  \n",
       "2           3.0  0.014065  14.426764   1273.377197  \n",
       "0           4.0  0.069781   6.040935   6317.585449  \n",
       "1           5.0  0.930219   0.453167  84216.414062  \n",
       "..          ...       ...        ...           ...  \n",
       "3           0.0  3.698851  43.804337    746.351990  \n",
       "4           0.0  2.456897  19.160416    833.922119  \n",
       "5           0.0  2.531140  25.279764    246.337982  \n",
       "6           0.0  2.986001  16.187820    551.998047  \n",
       "7           0.0  2.972668  23.458021    205.249069  \n",
       "\n",
       "[3226 rows x 10 columns]"
      ],
      "text/html": "<div>\n<style scoped>\n    .dataframe tbody tr th:only-of-type {\n        vertical-align: middle;\n    }\n\n    .dataframe tbody tr th {\n        vertical-align: top;\n    }\n\n    .dataframe thead th {\n        text-align: right;\n    }\n</style>\n<table border=\"1\" class=\"dataframe\">\n  <thead>\n    <tr style=\"text-align: right;\">\n      <th></th>\n      <th>year</th>\n      <th>indicator_id</th>\n      <th>industry_id</th>\n      <th>size_id</th>\n      <th>workforce_id</th>\n      <th>nation_id</th>\n      <th>category_id</th>\n      <th>estimate</th>\n      <th>coef_var</th>\n      <th>popul_size</th>\n    </tr>\n  </thead>\n  <tbody>\n    <tr>\n      <th>0</th>\n      <td>2017.0</td>\n      <td>1.0</td>\n      <td>0</td>\n      <td>0.0</td>\n      <td>0.0</td>\n      <td>per</td>\n      <td>1.0</td>\n      <td>0.962726</td>\n      <td>0.328233</td>\n      <td>87159.476562</td>\n    </tr>\n    <tr>\n      <th>1</th>\n      <td>2017.0</td>\n      <td>1.0</td>\n      <td>0</td>\n      <td>0.0</td>\n      <td>0.0</td>\n      <td>per</td>\n      <td>2.0</td>\n      <td>0.023208</td>\n      <td>10.646262</td>\n      <td>2101.146240</td>\n    </tr>\n    <tr>\n      <th>2</th>\n      <td>2017.0</td>\n      <td>1.0</td>\n      <td>0</td>\n      <td>0.0</td>\n      <td>0.0</td>\n      <td>per</td>\n      <td>3.0</td>\n      <td>0.014065</td>\n      <td>14.426764</td>\n      <td>1273.377197</td>\n    </tr>\n    <tr>\n      <th>0</th>\n      <td>2017.0</td>\n      <td>2.0</td>\n      <td>0</td>\n      <td>0.0</td>\n      <td>0.0</td>\n      <td>per</td>\n      <td>4.0</td>\n      <td>0.069781</td>\n      <td>6.040935</td>\n      <td>6317.585449</td>\n    </tr>\n    <tr>\n      <th>1</th>\n      <td>2017.0</td>\n      <td>2.0</td>\n      <td>0</td>\n      <td>0.0</td>\n      <td>0.0</td>\n      <td>per</td>\n      <td>5.0</td>\n      <td>0.930219</td>\n      <td>0.453167</td>\n      <td>84216.414062</td>\n    </tr>\n    <tr>\n      <th>...</th>\n      <td>...</td>\n      <td>...</td>\n      <td>...</td>\n      <td>...</td>\n      <td>...</td>\n      <td>...</td>\n      <td>...</td>\n      <td>...</td>\n      <td>...</td>\n      <td>...</td>\n    </tr>\n    <tr>\n      <th>3</th>\n      <td>2017.0</td>\n      <td>102.0</td>\n      <td>0</td>\n      <td>0.0</td>\n      <td>4.0</td>\n      <td>nan</td>\n      <td>0.0</td>\n      <td>3.698851</td>\n      <td>43.804337</td>\n      <td>746.351990</td>\n    </tr>\n    <tr>\n      <th>4</th>\n      <td>2017.0</td>\n      <td>102.0</td>\n      <td>0</td>\n      <td>0.0</td>\n      <td>5.0</td>\n      <td>nan</td>\n      <td>0.0</td>\n      <td>2.456897</td>\n      <td>19.160416</td>\n      <td>833.922119</td>\n    </tr>\n    <tr>\n      <th>5</th>\n      <td>2017.0</td>\n      <td>102.0</td>\n      <td>0</td>\n      <td>0.0</td>\n      <td>6.0</td>\n      <td>nan</td>\n      <td>0.0</td>\n      <td>2.531140</td>\n      <td>25.279764</td>\n      <td>246.337982</td>\n    </tr>\n    <tr>\n      <th>6</th>\n      <td>2017.0</td>\n      <td>102.0</td>\n      <td>0</td>\n      <td>0.0</td>\n      <td>7.0</td>\n      <td>nan</td>\n      <td>0.0</td>\n      <td>2.986001</td>\n      <td>16.187820</td>\n      <td>551.998047</td>\n    </tr>\n    <tr>\n      <th>7</th>\n      <td>2017.0</td>\n      <td>102.0</td>\n      <td>0</td>\n      <td>0.0</td>\n      <td>8.0</td>\n      <td>nan</td>\n      <td>0.0</td>\n      <td>2.972668</td>\n      <td>23.458021</td>\n      <td>205.249069</td>\n    </tr>\n  </tbody>\n</table>\n<p>3226 rows × 10 columns</p>\n</div>"
     },
     "metadata": {},
     "execution_count": 21
    }
   ],
   "source": [
    "df"
   ]
  }
 ]
}