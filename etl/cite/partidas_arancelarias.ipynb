{
 "metadata": {
  "language_info": {
   "codemirror_mode": {
    "name": "ipython",
    "version": 3
   },
   "file_extension": ".py",
   "mimetype": "text/x-python",
   "name": "python",
   "nbconvert_exporter": "python",
   "pygments_lexer": "ipython3",
   "version": "3.7.7-final"
  },
  "orig_nbformat": 2,
  "kernelspec": {
   "name": "Python 3.7.7 64-bit ('venv': conda)",
   "display_name": "Python 3.7.7 64-bit ('venv': conda)",
   "metadata": {
    "interpreter": {
     "hash": "8f31c2d6484a6540b9622c1fdd543d95c1c17d32b75d380c4c4d6eb4192201d3"
    }
   }
  }
 },
 "nbformat": 4,
 "nbformat_minor": 2,
 "cells": [
  {
   "cell_type": "code",
   "execution_count": 286,
   "metadata": {},
   "outputs": [],
   "source": [
    "import numpy as np\n",
    "import pandas as pd\n",
    "import os\n",
    "from functools import reduce\n",
    "from bamboo_lib.connectors.models import Connector\n",
    "from bamboo_lib.models import EasyPipeline\n",
    "from bamboo_lib.models import Parameter\n",
    "from bamboo_lib.models import PipelineStep\n",
    "from bamboo_lib.steps import DownloadStep\n",
    "from bamboo_lib.steps import LoadStep\n",
    "from bamboo_lib.helpers import grab_connector\n",
    "\n",
    "CARPETAS_DICT = {\n",
    "    1: \"01 INFORMACIÓN INSTITUCIONAL\",\n",
    "    2: \"02 CLIENTES ATENDIDOS\",\n",
    "    3: \"03 SERVICIOS BRINDADOS\",\n",
    "    4: \"04 PROYECTOS DE INVERSIÓN PÚBLICA\",\n",
    "    5: \"05 EJECUCIÓN PRESUPUESTAL\",\n",
    "    6: \"06 RECURSOS HUMANOS\",\n",
    "    7: \"07 PARTIDAS ARANCELARIAS\",\n",
    "}\n"
   ]
  },
  {
   "cell_type": "code",
   "execution_count": 287,
   "metadata": {},
   "outputs": [],
   "source": [
    "df = pd.read_excel('../../data/01. Información ITP red CITE  (01-10-2020)/07 PARTIDAS ARANCELARIAS/TABLA_08_N01 (18-10-2020).xlsx')"
   ]
  },
  {
   "cell_type": "code",
   "execution_count": 288,
   "metadata": {},
   "outputs": [
    {
     "output_type": "execute_result",
     "data": {
      "text/plain": [
       "                              cite cadena_productiva  partida_arancelaria  \\\n",
       "0            CITEproductivo Maynas            Aguaje         8.109090e+08   \n",
       "1     CITEproductivo Madre de Dios            Aguaje         8.109090e+08   \n",
       "2            UTagroindustrial Ambo        Aguaymanto         8.109050e+08   \n",
       "3     CITEproductivo Madre de Dios        Aguaymanto         8.109050e+08   \n",
       "4      CITEagroindustrial Oxapampa        Aguaymanto         8.109050e+08   \n",
       "...                            ...               ...                  ...   \n",
       "2023         UTagroindustrial Ambo              Yuca         7.141000e+08   \n",
       "2024         UTagroindustrial Ambo              Yuca         1.901200e+09   \n",
       "2025         UTagroindustrial Ambo              Yuca         1.106209e+09   \n",
       "2026         UTagroindustrial Ambo              Yuca         2.008999e+09   \n",
       "2027         UTagroindustrial Ambo              Yuca         1.108140e+09   \n",
       "\n",
       "                                   descripcion_partida  tipo_exportación  \\\n",
       "0               LOS DEMAS FRUTAS U OTROS FRUTOS FRESCOS   NO TRADICIONAL   \n",
       "1               LOS DEMAS FRUTAS U OTROS FRUTOS FRESCOS   NO TRADICIONAL   \n",
       "2        UCHUVAS (UVILLAS) (PHYSALIS PERUVIANA) FRESCAS   NO TRADICIONAL   \n",
       "3        UCHUVAS (UVILLAS) (PHYSALIS PERUVIANA) FRESCAS   NO TRADICIONAL   \n",
       "4        UCHUVAS (UVILLAS) (PHYSALIS PERUVIANA) FRESCAS   NO TRADICIONAL   \n",
       "...                                                 ...              ...   \n",
       "2023  RAÍCES DE YUCA (MANDIOCA) FRESCAS, REFRIGERADA...   NO TRADICIONAL   \n",
       "2024  MEZCLAS Y PASTAS PARA LA PREPARACIÓN DE PRODUC...   NO TRADICIONAL   \n",
       "2025  HARINA, SÉMOLA Y POLVO DE SAGU O DE LAS RAÍCES...   NO TRADICIONAL   \n",
       "2026  DEMÁS FRUTAS O FRUTOS Y DEMÁS PARTÍCULAS COMES...   NO TRADICIONAL   \n",
       "2027                          FÉCULA DE YUCA (MANDIOCA)   NO TRADICIONAL   \n",
       "\n",
       "            sector  \n",
       "0     AGROPECUARIO  \n",
       "1     AGROPECUARIO  \n",
       "2     AGROPECUARIO  \n",
       "3     AGROPECUARIO  \n",
       "4     AGROPECUARIO  \n",
       "...            ...  \n",
       "2023  AGROPECUARIO  \n",
       "2024  AGROPECUARIO  \n",
       "2025  AGROPECUARIO  \n",
       "2026  AGROPECUARIO  \n",
       "2027  AGROPECUARIO  \n",
       "\n",
       "[2028 rows x 6 columns]"
      ],
      "text/html": "<div>\n<style scoped>\n    .dataframe tbody tr th:only-of-type {\n        vertical-align: middle;\n    }\n\n    .dataframe tbody tr th {\n        vertical-align: top;\n    }\n\n    .dataframe thead th {\n        text-align: right;\n    }\n</style>\n<table border=\"1\" class=\"dataframe\">\n  <thead>\n    <tr style=\"text-align: right;\">\n      <th></th>\n      <th>cite</th>\n      <th>cadena_productiva</th>\n      <th>partida_arancelaria</th>\n      <th>descripcion_partida</th>\n      <th>tipo_exportación</th>\n      <th>sector</th>\n    </tr>\n  </thead>\n  <tbody>\n    <tr>\n      <th>0</th>\n      <td>CITEproductivo Maynas</td>\n      <td>Aguaje</td>\n      <td>8.109090e+08</td>\n      <td>LOS DEMAS FRUTAS U OTROS FRUTOS FRESCOS</td>\n      <td>NO TRADICIONAL</td>\n      <td>AGROPECUARIO</td>\n    </tr>\n    <tr>\n      <th>1</th>\n      <td>CITEproductivo Madre de Dios</td>\n      <td>Aguaje</td>\n      <td>8.109090e+08</td>\n      <td>LOS DEMAS FRUTAS U OTROS FRUTOS FRESCOS</td>\n      <td>NO TRADICIONAL</td>\n      <td>AGROPECUARIO</td>\n    </tr>\n    <tr>\n      <th>2</th>\n      <td>UTagroindustrial Ambo</td>\n      <td>Aguaymanto</td>\n      <td>8.109050e+08</td>\n      <td>UCHUVAS (UVILLAS) (PHYSALIS PERUVIANA) FRESCAS</td>\n      <td>NO TRADICIONAL</td>\n      <td>AGROPECUARIO</td>\n    </tr>\n    <tr>\n      <th>3</th>\n      <td>CITEproductivo Madre de Dios</td>\n      <td>Aguaymanto</td>\n      <td>8.109050e+08</td>\n      <td>UCHUVAS (UVILLAS) (PHYSALIS PERUVIANA) FRESCAS</td>\n      <td>NO TRADICIONAL</td>\n      <td>AGROPECUARIO</td>\n    </tr>\n    <tr>\n      <th>4</th>\n      <td>CITEagroindustrial Oxapampa</td>\n      <td>Aguaymanto</td>\n      <td>8.109050e+08</td>\n      <td>UCHUVAS (UVILLAS) (PHYSALIS PERUVIANA) FRESCAS</td>\n      <td>NO TRADICIONAL</td>\n      <td>AGROPECUARIO</td>\n    </tr>\n    <tr>\n      <th>...</th>\n      <td>...</td>\n      <td>...</td>\n      <td>...</td>\n      <td>...</td>\n      <td>...</td>\n      <td>...</td>\n    </tr>\n    <tr>\n      <th>2023</th>\n      <td>UTagroindustrial Ambo</td>\n      <td>Yuca</td>\n      <td>7.141000e+08</td>\n      <td>RAÍCES DE YUCA (MANDIOCA) FRESCAS, REFRIGERADA...</td>\n      <td>NO TRADICIONAL</td>\n      <td>AGROPECUARIO</td>\n    </tr>\n    <tr>\n      <th>2024</th>\n      <td>UTagroindustrial Ambo</td>\n      <td>Yuca</td>\n      <td>1.901200e+09</td>\n      <td>MEZCLAS Y PASTAS PARA LA PREPARACIÓN DE PRODUC...</td>\n      <td>NO TRADICIONAL</td>\n      <td>AGROPECUARIO</td>\n    </tr>\n    <tr>\n      <th>2025</th>\n      <td>UTagroindustrial Ambo</td>\n      <td>Yuca</td>\n      <td>1.106209e+09</td>\n      <td>HARINA, SÉMOLA Y POLVO DE SAGU O DE LAS RAÍCES...</td>\n      <td>NO TRADICIONAL</td>\n      <td>AGROPECUARIO</td>\n    </tr>\n    <tr>\n      <th>2026</th>\n      <td>UTagroindustrial Ambo</td>\n      <td>Yuca</td>\n      <td>2.008999e+09</td>\n      <td>DEMÁS FRUTAS O FRUTOS Y DEMÁS PARTÍCULAS COMES...</td>\n      <td>NO TRADICIONAL</td>\n      <td>AGROPECUARIO</td>\n    </tr>\n    <tr>\n      <th>2027</th>\n      <td>UTagroindustrial Ambo</td>\n      <td>Yuca</td>\n      <td>1.108140e+09</td>\n      <td>FÉCULA DE YUCA (MANDIOCA)</td>\n      <td>NO TRADICIONAL</td>\n      <td>AGROPECUARIO</td>\n    </tr>\n  </tbody>\n</table>\n<p>2028 rows × 6 columns</p>\n</div>"
     },
     "metadata": {},
     "execution_count": 288
    }
   ],
   "source": [
    "df"
   ]
  },
  {
   "cell_type": "code",
   "execution_count": 289,
   "metadata": {},
   "outputs": [
    {
     "output_type": "execute_result",
     "data": {
      "text/plain": [
       "0       8.109090e+08\n",
       "1       8.109090e+08\n",
       "2       8.109050e+08\n",
       "3       8.109050e+08\n",
       "4       8.109050e+08\n",
       "            ...     \n",
       "2023    7.141000e+08\n",
       "2024    1.901200e+09\n",
       "2025    1.106209e+09\n",
       "2026    2.008999e+09\n",
       "2027    1.108140e+09\n",
       "Name: partida_arancelaria, Length: 2028, dtype: float64"
      ]
     },
     "metadata": {},
     "execution_count": 289
    }
   ],
   "source": [
    "df['partida_arancelaria']"
   ]
  },
  {
   "cell_type": "code",
   "execution_count": 291,
   "metadata": {},
   "outputs": [],
   "source": [
    "df = df[df['cite'].notna()]\n",
    "df = df.rename(columns={'descripcion_partida ' : 'descripcion_partida','partida_arancelaria' : 'partida_id','tipo_exportación' : 'tipo_exportacion'})\n",
    "df['descripcion_partida'] = df['descripcion_partida'].str.capitalize()\n",
    "df['tipo_exportacion'] = df['tipo_exportacion'].str.capitalize()\n",
    "df['sector'] = df['sector'].str.capitalize()\n",
    "df['partida_id'] = df['partida_id'].astype(str).str[:-6].str.zfill(6)\n",
    "df['cantidad_cite'] = 1\n",
    "df['cadena_productiva'] = df['cadena_productiva'].str.strip()"
   ]
  },
  {
   "cell_type": "code",
   "execution_count": 292,
   "metadata": {},
   "outputs": [],
   "source": [
    "## shared dim\n",
    "\n",
    "cite_list = list(df[\"cite\"].unique())\n",
    "cite_map = {k:v for (k,v) in zip(sorted(cite_list), list(range(1, len(cite_list) +1)))}\n",
    "df['cite_id'] = df['cite'].map(cite_map)"
   ]
  },
  {
   "cell_type": "code",
   "execution_count": 293,
   "metadata": {},
   "outputs": [],
   "source": [
    "## short dim\n",
    "\n",
    "sector_list = list(df[\"sector\"].unique())\n",
    "sector_map = {k:v for (k,v) in zip(sorted(sector_list), list(range(1, len(sector_list) +1)))}\n",
    "df['sector_id'] = df['sector'].map(sector_map)"
   ]
  },
  {
   "cell_type": "code",
   "execution_count": 294,
   "metadata": {},
   "outputs": [],
   "source": [
    "## short dim\n",
    "\n",
    "tipo_exp_list = list(df[\"tipo_exportacion\"].unique())\n",
    "tipo_exp_map = {k:v for (k,v) in zip(sorted(tipo_exp_list), list(range(1, len(tipo_exp_list) +1)))}\n",
    "df['tipo_exp_id'] = df['tipo_exportacion'].map(tipo_exp_map)"
   ]
  },
  {
   "cell_type": "code",
   "execution_count": 295,
   "metadata": {},
   "outputs": [],
   "source": [
    "## long dim\n",
    "\n",
    "cadena_productiva_list = list(df[\"cadena_productiva\"].unique())\n",
    "cadena_productiva_map = {k:v for (k,v) in zip(sorted(cadena_productiva_list), list(range(1, len(cadena_productiva_list) +1)))}\n",
    "df['cad_prod_id'] = df['cadena_productiva'].map(cadena_productiva_map)"
   ]
  },
  {
   "cell_type": "code",
   "execution_count": 296,
   "metadata": {},
   "outputs": [],
   "source": [
    "df = df[['cad_prod_id','cadena_productiva']]"
   ]
  },
  {
   "cell_type": "code",
   "execution_count": 297,
   "metadata": {},
   "outputs": [
    {
     "output_type": "execute_result",
     "data": {
      "text/plain": [
       "      cad_prod_id cadena_productiva\n",
       "0               1            Aguaje\n",
       "2               2        Aguaymanto\n",
       "5               3               Ajo\n",
       "8               4     Ají charapita\n",
       "18              5          Ají limo\n",
       "...           ...               ...\n",
       "1991           87            Trucha\n",
       "2000           88               Uva\n",
       "2014           89             Yacón\n",
       "2018           90           Yogurth\n",
       "2022           91              Yuca\n",
       "\n",
       "[91 rows x 2 columns]"
      ],
      "text/html": "<div>\n<style scoped>\n    .dataframe tbody tr th:only-of-type {\n        vertical-align: middle;\n    }\n\n    .dataframe tbody tr th {\n        vertical-align: top;\n    }\n\n    .dataframe thead th {\n        text-align: right;\n    }\n</style>\n<table border=\"1\" class=\"dataframe\">\n  <thead>\n    <tr style=\"text-align: right;\">\n      <th></th>\n      <th>cad_prod_id</th>\n      <th>cadena_productiva</th>\n    </tr>\n  </thead>\n  <tbody>\n    <tr>\n      <th>0</th>\n      <td>1</td>\n      <td>Aguaje</td>\n    </tr>\n    <tr>\n      <th>2</th>\n      <td>2</td>\n      <td>Aguaymanto</td>\n    </tr>\n    <tr>\n      <th>5</th>\n      <td>3</td>\n      <td>Ajo</td>\n    </tr>\n    <tr>\n      <th>8</th>\n      <td>4</td>\n      <td>Ají charapita</td>\n    </tr>\n    <tr>\n      <th>18</th>\n      <td>5</td>\n      <td>Ají limo</td>\n    </tr>\n    <tr>\n      <th>...</th>\n      <td>...</td>\n      <td>...</td>\n    </tr>\n    <tr>\n      <th>1991</th>\n      <td>87</td>\n      <td>Trucha</td>\n    </tr>\n    <tr>\n      <th>2000</th>\n      <td>88</td>\n      <td>Uva</td>\n    </tr>\n    <tr>\n      <th>2014</th>\n      <td>89</td>\n      <td>Yacón</td>\n    </tr>\n    <tr>\n      <th>2018</th>\n      <td>90</td>\n      <td>Yogurth</td>\n    </tr>\n    <tr>\n      <th>2022</th>\n      <td>91</td>\n      <td>Yuca</td>\n    </tr>\n  </tbody>\n</table>\n<p>91 rows × 2 columns</p>\n</div>"
     },
     "metadata": {},
     "execution_count": 297
    }
   ],
   "source": [
    "df.drop_duplicates()"
   ]
  },
  {
   "cell_type": "code",
   "execution_count": 298,
   "metadata": {},
   "outputs": [
    {
     "output_type": "execute_result",
     "data": {
      "text/plain": [
       "      cad_prod_id cadena_productiva\n",
       "0               1            Aguaje\n",
       "1               1            Aguaje\n",
       "2               2        Aguaymanto\n",
       "3               2        Aguaymanto\n",
       "4               2        Aguaymanto\n",
       "...           ...               ...\n",
       "2023           91              Yuca\n",
       "2024           91              Yuca\n",
       "2025           91              Yuca\n",
       "2026           91              Yuca\n",
       "2027           91              Yuca\n",
       "\n",
       "[2026 rows x 2 columns]"
      ],
      "text/html": "<div>\n<style scoped>\n    .dataframe tbody tr th:only-of-type {\n        vertical-align: middle;\n    }\n\n    .dataframe tbody tr th {\n        vertical-align: top;\n    }\n\n    .dataframe thead th {\n        text-align: right;\n    }\n</style>\n<table border=\"1\" class=\"dataframe\">\n  <thead>\n    <tr style=\"text-align: right;\">\n      <th></th>\n      <th>cad_prod_id</th>\n      <th>cadena_productiva</th>\n    </tr>\n  </thead>\n  <tbody>\n    <tr>\n      <th>0</th>\n      <td>1</td>\n      <td>Aguaje</td>\n    </tr>\n    <tr>\n      <th>1</th>\n      <td>1</td>\n      <td>Aguaje</td>\n    </tr>\n    <tr>\n      <th>2</th>\n      <td>2</td>\n      <td>Aguaymanto</td>\n    </tr>\n    <tr>\n      <th>3</th>\n      <td>2</td>\n      <td>Aguaymanto</td>\n    </tr>\n    <tr>\n      <th>4</th>\n      <td>2</td>\n      <td>Aguaymanto</td>\n    </tr>\n    <tr>\n      <th>...</th>\n      <td>...</td>\n      <td>...</td>\n    </tr>\n    <tr>\n      <th>2023</th>\n      <td>91</td>\n      <td>Yuca</td>\n    </tr>\n    <tr>\n      <th>2024</th>\n      <td>91</td>\n      <td>Yuca</td>\n    </tr>\n    <tr>\n      <th>2025</th>\n      <td>91</td>\n      <td>Yuca</td>\n    </tr>\n    <tr>\n      <th>2026</th>\n      <td>91</td>\n      <td>Yuca</td>\n    </tr>\n    <tr>\n      <th>2027</th>\n      <td>91</td>\n      <td>Yuca</td>\n    </tr>\n  </tbody>\n</table>\n<p>2026 rows × 2 columns</p>\n</div>"
     },
     "metadata": {},
     "execution_count": 298
    }
   ],
   "source": [
    "df"
   ]
  },
  {
   "cell_type": "code",
   "execution_count": 299,
   "metadata": {},
   "outputs": [
    {
     "output_type": "error",
     "ename": "KeyError",
     "evalue": "\"['partida_id', 'tipo_exp_id', 'sector_id', 'cantidad_cite', 'cite_id'] not in index\"",
     "traceback": [
      "\u001b[1;31m---------------------------------------------------------------------------\u001b[0m",
      "\u001b[1;31mKeyError\u001b[0m                                  Traceback (most recent call last)",
      "\u001b[1;32m<ipython-input-299-6c7be26d405f>\u001b[0m in \u001b[0;36m<module>\u001b[1;34m\u001b[0m\n\u001b[1;32m----> 1\u001b[1;33m \u001b[0mpivot\u001b[0m \u001b[1;33m=\u001b[0m \u001b[0mdf\u001b[0m\u001b[1;33m[\u001b[0m\u001b[1;33m[\u001b[0m\u001b[1;34m'cite_id'\u001b[0m\u001b[1;33m,\u001b[0m\u001b[1;34m'sector_id'\u001b[0m\u001b[1;33m,\u001b[0m\u001b[1;34m'cad_prod_id'\u001b[0m\u001b[1;33m,\u001b[0m\u001b[1;34m'partida_id'\u001b[0m\u001b[1;33m,\u001b[0m\u001b[1;34m'tipo_exp_id'\u001b[0m\u001b[1;33m,\u001b[0m\u001b[1;34m'cantidad_cite'\u001b[0m\u001b[1;33m]\u001b[0m\u001b[1;33m]\u001b[0m\u001b[1;33m\u001b[0m\u001b[1;33m\u001b[0m\u001b[0m\n\u001b[0m",
      "\u001b[1;32m~\\anaconda3\\envs\\venv\\lib\\site-packages\\pandas\\core\\frame.py\u001b[0m in \u001b[0;36m__getitem__\u001b[1;34m(self, key)\u001b[0m\n\u001b[0;32m   2903\u001b[0m             \u001b[1;32mif\u001b[0m \u001b[0mis_iterator\u001b[0m\u001b[1;33m(\u001b[0m\u001b[0mkey\u001b[0m\u001b[1;33m)\u001b[0m\u001b[1;33m:\u001b[0m\u001b[1;33m\u001b[0m\u001b[1;33m\u001b[0m\u001b[0m\n\u001b[0;32m   2904\u001b[0m                 \u001b[0mkey\u001b[0m \u001b[1;33m=\u001b[0m \u001b[0mlist\u001b[0m\u001b[1;33m(\u001b[0m\u001b[0mkey\u001b[0m\u001b[1;33m)\u001b[0m\u001b[1;33m\u001b[0m\u001b[1;33m\u001b[0m\u001b[0m\n\u001b[1;32m-> 2905\u001b[1;33m             \u001b[0mindexer\u001b[0m \u001b[1;33m=\u001b[0m \u001b[0mself\u001b[0m\u001b[1;33m.\u001b[0m\u001b[0mloc\u001b[0m\u001b[1;33m.\u001b[0m\u001b[0m_get_listlike_indexer\u001b[0m\u001b[1;33m(\u001b[0m\u001b[0mkey\u001b[0m\u001b[1;33m,\u001b[0m \u001b[0maxis\u001b[0m\u001b[1;33m=\u001b[0m\u001b[1;36m1\u001b[0m\u001b[1;33m,\u001b[0m \u001b[0mraise_missing\u001b[0m\u001b[1;33m=\u001b[0m\u001b[1;32mTrue\u001b[0m\u001b[1;33m)\u001b[0m\u001b[1;33m[\u001b[0m\u001b[1;36m1\u001b[0m\u001b[1;33m]\u001b[0m\u001b[1;33m\u001b[0m\u001b[1;33m\u001b[0m\u001b[0m\n\u001b[0m\u001b[0;32m   2906\u001b[0m \u001b[1;33m\u001b[0m\u001b[0m\n\u001b[0;32m   2907\u001b[0m         \u001b[1;31m# take() does not accept boolean indexers\u001b[0m\u001b[1;33m\u001b[0m\u001b[1;33m\u001b[0m\u001b[1;33m\u001b[0m\u001b[0m\n",
      "\u001b[1;32m~\\anaconda3\\envs\\venv\\lib\\site-packages\\pandas\\core\\indexing.py\u001b[0m in \u001b[0;36m_get_listlike_indexer\u001b[1;34m(self, key, axis, raise_missing)\u001b[0m\n\u001b[0;32m   1252\u001b[0m             \u001b[0mkeyarr\u001b[0m\u001b[1;33m,\u001b[0m \u001b[0mindexer\u001b[0m\u001b[1;33m,\u001b[0m \u001b[0mnew_indexer\u001b[0m \u001b[1;33m=\u001b[0m \u001b[0max\u001b[0m\u001b[1;33m.\u001b[0m\u001b[0m_reindex_non_unique\u001b[0m\u001b[1;33m(\u001b[0m\u001b[0mkeyarr\u001b[0m\u001b[1;33m)\u001b[0m\u001b[1;33m\u001b[0m\u001b[1;33m\u001b[0m\u001b[0m\n\u001b[0;32m   1253\u001b[0m \u001b[1;33m\u001b[0m\u001b[0m\n\u001b[1;32m-> 1254\u001b[1;33m         \u001b[0mself\u001b[0m\u001b[1;33m.\u001b[0m\u001b[0m_validate_read_indexer\u001b[0m\u001b[1;33m(\u001b[0m\u001b[0mkeyarr\u001b[0m\u001b[1;33m,\u001b[0m \u001b[0mindexer\u001b[0m\u001b[1;33m,\u001b[0m \u001b[0maxis\u001b[0m\u001b[1;33m,\u001b[0m \u001b[0mraise_missing\u001b[0m\u001b[1;33m=\u001b[0m\u001b[0mraise_missing\u001b[0m\u001b[1;33m)\u001b[0m\u001b[1;33m\u001b[0m\u001b[1;33m\u001b[0m\u001b[0m\n\u001b[0m\u001b[0;32m   1255\u001b[0m         \u001b[1;32mreturn\u001b[0m \u001b[0mkeyarr\u001b[0m\u001b[1;33m,\u001b[0m \u001b[0mindexer\u001b[0m\u001b[1;33m\u001b[0m\u001b[1;33m\u001b[0m\u001b[0m\n\u001b[0;32m   1256\u001b[0m \u001b[1;33m\u001b[0m\u001b[0m\n",
      "\u001b[1;32m~\\anaconda3\\envs\\venv\\lib\\site-packages\\pandas\\core\\indexing.py\u001b[0m in \u001b[0;36m_validate_read_indexer\u001b[1;34m(self, key, indexer, axis, raise_missing)\u001b[0m\n\u001b[0;32m   1302\u001b[0m             \u001b[1;32mif\u001b[0m \u001b[0mraise_missing\u001b[0m\u001b[1;33m:\u001b[0m\u001b[1;33m\u001b[0m\u001b[1;33m\u001b[0m\u001b[0m\n\u001b[0;32m   1303\u001b[0m                 \u001b[0mnot_found\u001b[0m \u001b[1;33m=\u001b[0m \u001b[0mlist\u001b[0m\u001b[1;33m(\u001b[0m\u001b[0mset\u001b[0m\u001b[1;33m(\u001b[0m\u001b[0mkey\u001b[0m\u001b[1;33m)\u001b[0m \u001b[1;33m-\u001b[0m \u001b[0mset\u001b[0m\u001b[1;33m(\u001b[0m\u001b[0max\u001b[0m\u001b[1;33m)\u001b[0m\u001b[1;33m)\u001b[0m\u001b[1;33m\u001b[0m\u001b[1;33m\u001b[0m\u001b[0m\n\u001b[1;32m-> 1304\u001b[1;33m                 \u001b[1;32mraise\u001b[0m \u001b[0mKeyError\u001b[0m\u001b[1;33m(\u001b[0m\u001b[1;34mf\"{not_found} not in index\"\u001b[0m\u001b[1;33m)\u001b[0m\u001b[1;33m\u001b[0m\u001b[1;33m\u001b[0m\u001b[0m\n\u001b[0m\u001b[0;32m   1305\u001b[0m \u001b[1;33m\u001b[0m\u001b[0m\n\u001b[0;32m   1306\u001b[0m             \u001b[1;31m# we skip the warning on Categorical\u001b[0m\u001b[1;33m\u001b[0m\u001b[1;33m\u001b[0m\u001b[1;33m\u001b[0m\u001b[0m\n",
      "\u001b[1;31mKeyError\u001b[0m: \"['partida_id', 'tipo_exp_id', 'sector_id', 'cantidad_cite', 'cite_id'] not in index\""
     ]
    }
   ],
   "source": [
    "pivot = df[['cite_id','sector_id','cad_prod_id','partida_id','tipo_exp_id','cantidad_cite']]"
   ]
  },
  {
   "cell_type": "code",
   "execution_count": 262,
   "metadata": {},
   "outputs": [
    {
     "output_type": "execute_result",
     "data": {
      "text/plain": [
       "      cite_id  sector_id  cad_prod_id partida_id  tipo_exp_id  cantidad_cite\n",
       "0          21          1            1     081090            1              1\n",
       "1          20          1            1     081090            1              1\n",
       "2          25          1            2     081090            1              1\n",
       "3          20          1            2     081090            1              1\n",
       "4           7          1            2     081090            1              1\n",
       "...       ...        ...          ...        ...          ...            ...\n",
       "2023       25          1           92     071410            1              1\n",
       "2024       25          1           92     190120            1              1\n",
       "2025       25          1           92     110620            1              1\n",
       "2026       25          1           92     200899            1              1\n",
       "2027       25          1           92     110814            1              1\n",
       "\n",
       "[2026 rows x 6 columns]"
      ],
      "text/html": "<div>\n<style scoped>\n    .dataframe tbody tr th:only-of-type {\n        vertical-align: middle;\n    }\n\n    .dataframe tbody tr th {\n        vertical-align: top;\n    }\n\n    .dataframe thead th {\n        text-align: right;\n    }\n</style>\n<table border=\"1\" class=\"dataframe\">\n  <thead>\n    <tr style=\"text-align: right;\">\n      <th></th>\n      <th>cite_id</th>\n      <th>sector_id</th>\n      <th>cad_prod_id</th>\n      <th>partida_id</th>\n      <th>tipo_exp_id</th>\n      <th>cantidad_cite</th>\n    </tr>\n  </thead>\n  <tbody>\n    <tr>\n      <th>0</th>\n      <td>21</td>\n      <td>1</td>\n      <td>1</td>\n      <td>081090</td>\n      <td>1</td>\n      <td>1</td>\n    </tr>\n    <tr>\n      <th>1</th>\n      <td>20</td>\n      <td>1</td>\n      <td>1</td>\n      <td>081090</td>\n      <td>1</td>\n      <td>1</td>\n    </tr>\n    <tr>\n      <th>2</th>\n      <td>25</td>\n      <td>1</td>\n      <td>2</td>\n      <td>081090</td>\n      <td>1</td>\n      <td>1</td>\n    </tr>\n    <tr>\n      <th>3</th>\n      <td>20</td>\n      <td>1</td>\n      <td>2</td>\n      <td>081090</td>\n      <td>1</td>\n      <td>1</td>\n    </tr>\n    <tr>\n      <th>4</th>\n      <td>7</td>\n      <td>1</td>\n      <td>2</td>\n      <td>081090</td>\n      <td>1</td>\n      <td>1</td>\n    </tr>\n    <tr>\n      <th>...</th>\n      <td>...</td>\n      <td>...</td>\n      <td>...</td>\n      <td>...</td>\n      <td>...</td>\n      <td>...</td>\n    </tr>\n    <tr>\n      <th>2023</th>\n      <td>25</td>\n      <td>1</td>\n      <td>92</td>\n      <td>071410</td>\n      <td>1</td>\n      <td>1</td>\n    </tr>\n    <tr>\n      <th>2024</th>\n      <td>25</td>\n      <td>1</td>\n      <td>92</td>\n      <td>190120</td>\n      <td>1</td>\n      <td>1</td>\n    </tr>\n    <tr>\n      <th>2025</th>\n      <td>25</td>\n      <td>1</td>\n      <td>92</td>\n      <td>110620</td>\n      <td>1</td>\n      <td>1</td>\n    </tr>\n    <tr>\n      <th>2026</th>\n      <td>25</td>\n      <td>1</td>\n      <td>92</td>\n      <td>200899</td>\n      <td>1</td>\n      <td>1</td>\n    </tr>\n    <tr>\n      <th>2027</th>\n      <td>25</td>\n      <td>1</td>\n      <td>92</td>\n      <td>110814</td>\n      <td>1</td>\n      <td>1</td>\n    </tr>\n  </tbody>\n</table>\n<p>2026 rows × 6 columns</p>\n</div>"
     },
     "metadata": {},
     "execution_count": 262
    }
   ],
   "source": [
    "pivot"
   ]
  },
  {
   "cell_type": "code",
   "execution_count": 263,
   "metadata": {},
   "outputs": [],
   "source": [
    "dim2 = df[['descripcion_partida','partida_id']]"
   ]
  },
  {
   "cell_type": "code",
   "execution_count": 264,
   "metadata": {},
   "outputs": [],
   "source": [
    "dim2 = dim2.drop_duplicates()"
   ]
  },
  {
   "cell_type": "code",
   "execution_count": 265,
   "metadata": {},
   "outputs": [
    {
     "output_type": "execute_result",
     "data": {
      "text/plain": [
       "Empty DataFrame\n",
       "Columns: [descripcion_partida, partida_id]\n",
       "Index: []"
      ],
      "text/html": "<div>\n<style scoped>\n    .dataframe tbody tr th:only-of-type {\n        vertical-align: middle;\n    }\n\n    .dataframe tbody tr th {\n        vertical-align: top;\n    }\n\n    .dataframe thead th {\n        text-align: right;\n    }\n</style>\n<table border=\"1\" class=\"dataframe\">\n  <thead>\n    <tr style=\"text-align: right;\">\n      <th></th>\n      <th>descripcion_partida</th>\n      <th>partida_id</th>\n    </tr>\n  </thead>\n  <tbody>\n  </tbody>\n</table>\n</div>"
     },
     "metadata": {},
     "execution_count": 265
    }
   ],
   "source": [
    "dim2[dim2.duplicated()]"
   ]
  },
  {
   "cell_type": "code",
   "execution_count": null,
   "metadata": {},
   "outputs": [],
   "source": []
  },
  {
   "cell_type": "code",
   "execution_count": 266,
   "metadata": {},
   "outputs": [
    {
     "output_type": "execute_result",
     "data": {
      "text/plain": [
       "                                    descripcion_partida partida_id\n",
       "0               Los demas frutas u otros frutos frescos     081090\n",
       "2        Uchuvas (uvillas) (physalis peruviana) frescas     081090\n",
       "5                          Ajos, frescos o refrigerados     070320\n",
       "6                                     Ajos para siembra     070320\n",
       "7     Ajos secos, cortados en trozos o rodajas, trit...     071290\n",
       "...                                                 ...        ...\n",
       "2018  Los demás yogur, excepto los aromatizados con ...     040310\n",
       "2020  Yogur aromatizado con frutas, cacao u otros fr...     040310\n",
       "2023  Raíces de yuca (mandioca) frescas, refrigerada...     071410\n",
       "2024  Mezclas y pastas para la preparación de produc...     190120\n",
       "2027                          Fécula de yuca (mandioca)     110814\n",
       "\n",
       "[1892 rows x 2 columns]"
      ],
      "text/html": "<div>\n<style scoped>\n    .dataframe tbody tr th:only-of-type {\n        vertical-align: middle;\n    }\n\n    .dataframe tbody tr th {\n        vertical-align: top;\n    }\n\n    .dataframe thead th {\n        text-align: right;\n    }\n</style>\n<table border=\"1\" class=\"dataframe\">\n  <thead>\n    <tr style=\"text-align: right;\">\n      <th></th>\n      <th>descripcion_partida</th>\n      <th>partida_id</th>\n    </tr>\n  </thead>\n  <tbody>\n    <tr>\n      <th>0</th>\n      <td>Los demas frutas u otros frutos frescos</td>\n      <td>081090</td>\n    </tr>\n    <tr>\n      <th>2</th>\n      <td>Uchuvas (uvillas) (physalis peruviana) frescas</td>\n      <td>081090</td>\n    </tr>\n    <tr>\n      <th>5</th>\n      <td>Ajos, frescos o refrigerados</td>\n      <td>070320</td>\n    </tr>\n    <tr>\n      <th>6</th>\n      <td>Ajos para siembra</td>\n      <td>070320</td>\n    </tr>\n    <tr>\n      <th>7</th>\n      <td>Ajos secos, cortados en trozos o rodajas, trit...</td>\n      <td>071290</td>\n    </tr>\n    <tr>\n      <th>...</th>\n      <td>...</td>\n      <td>...</td>\n    </tr>\n    <tr>\n      <th>2018</th>\n      <td>Los demás yogur, excepto los aromatizados con ...</td>\n      <td>040310</td>\n    </tr>\n    <tr>\n      <th>2020</th>\n      <td>Yogur aromatizado con frutas, cacao u otros fr...</td>\n      <td>040310</td>\n    </tr>\n    <tr>\n      <th>2023</th>\n      <td>Raíces de yuca (mandioca) frescas, refrigerada...</td>\n      <td>071410</td>\n    </tr>\n    <tr>\n      <th>2024</th>\n      <td>Mezclas y pastas para la preparación de produc...</td>\n      <td>190120</td>\n    </tr>\n    <tr>\n      <th>2027</th>\n      <td>Fécula de yuca (mandioca)</td>\n      <td>110814</td>\n    </tr>\n  </tbody>\n</table>\n<p>1892 rows × 2 columns</p>\n</div>"
     },
     "metadata": {},
     "execution_count": 266
    }
   ],
   "source": [
    "dim2"
   ]
  },
  {
   "cell_type": "code",
   "execution_count": 267,
   "metadata": {},
   "outputs": [],
   "source": [
    "        k = 1\n",
    "        df = {}\n",
    "        for i in range(1,1 +1):\n",
    "            path, dirs, files = next(os.walk(\"../../data/01. Información ITP red CITE  (01-10-2020)/{}/\".format(CARPETAS_DICT[i])))\n",
    "            file_count = len(files)\n",
    "\n",
    "\n",
    "            for j in [1,5,6,7]:\n",
    "                file_dir = \"../../data/01. Información ITP red CITE  (01-10-2020)/{}/TABLA_0{}_N0{}.csv\".format(CARPETAS_DICT[i],i,j)\n",
    "\n",
    "                df[k] = pd.read_csv(file_dir)\n",
    "                k = k + 1\n",
    "        \n",
    "        df_list = [df[i] for i in range(1,4)]\n",
    "        df = reduce(lambda df1,df2: pd.merge(df1,df2,on=['cite'],how='outer'), df_list)\n",
    "\n",
    "        cadenas = df[['cadena_resolucion','cadena_pip','cadena_atencion']]\n",
    "\n",
    "        cadena_resolucion_list = list(cadenas[\"cadena_resolucion\"].unique())\n",
    "        cadena_resolución_map = {k:v for (k,v) in zip(sorted(cadena_resolucion_list), list(range(1, len(cadena_resolucion_list) +1)))}\n",
    "        \n",
    "        cadena_pip_list = list(cadenas[\"cadena_pip\"].unique())\n",
    "        cadena_pip_map = {k:v for (k,v) in zip(sorted(cadena_pip_list), list(range(1, len(cadena_pip_list) +1)))}\n",
    "\n",
    "        cadena_atencion_list = list(cadenas[\"cadena_atencion\"].unique())\n",
    "        cadena_atencion_map = {k:v for (k,v) in zip(sorted(cadena_atencion_list), list(range(1, len(cadena_atencion_list) +1)))}\n",
    "        \n",
    "        cadenas['cadena_resolucion_id'] = cadenas['cadena_resolucion'].map(cadena_resolución_map).astype(str)\n",
    "        cadenas['cadena_pip_id'] = cadenas['cadena_pip'].map(cadena_pip_map).astype(str)\n",
    "        cadenas['cadena_atencion_id'] = cadenas['cadena_atencion'].map(cadena_atencion_map).astype(str)\n",
    "        \n",
    "        cadenas['cadena_resolucion_id_temp'] = cadenas['cadena_resolucion_id'].str.zfill(2)\n",
    "        cadenas['cadena_pip_id_temp'] = cadenas['cadena_pip_id'].str.zfill(2)\n",
    "        cadenas['cadena_atencion_id_temp'] = cadenas['cadena_atencion_id'].str.zfill(2)\n",
    "\n",
    "        cadenas['cadena_resolucion_id'] = (cadenas['cadena_resolucion_id_temp']).astype(int) \n",
    "        cadenas['cadena_pip_id'] = (cadenas['cadena_resolucion_id_temp'] + cadenas['cadena_pip_id_temp']).astype(int)  \n",
    "        cadenas['cadena_atencion_id']  = (cadenas['cadena_pip_id'].astype(str)  + cadenas['cadena_atencion_id_temp']).astype(int)  \n",
    "\n",
    "        df = cadenas[['cadena_resolucion','cadena_resolucion_id','cadena_pip','cadena_pip_id','cadena_atencion','cadena_atencion_id']]\n",
    "\n"
   ]
  },
  {
   "cell_type": "code",
   "execution_count": 268,
   "metadata": {},
   "outputs": [
    {
     "output_type": "execute_result",
     "data": {
      "text/plain": [
       "                                    cadena_resolucion  cadena_resolucion_id  \\\n",
       "0                                            Acuícola                     1   \n",
       "1                                      Agroindustrial                     2   \n",
       "2                            Café y frutas de la zona                     5   \n",
       "3                                      Agroindustrial                     2   \n",
       "4                                      Agroindustrial                     2   \n",
       "5                                      Agroindustrial                     2   \n",
       "6                                      Agroindustrial                     2   \n",
       "7                                        Café y cacao                     4   \n",
       "8                                       Cuero calzado                     8   \n",
       "9                 Cuero, calzado e industrias conexas                    10   \n",
       "10                                    Cuero y calzado                     9   \n",
       "11                                  Madera de la zona                    12   \n",
       "12                                  Madera de la zona                    12   \n",
       "13                                             Madera                    11   \n",
       "14                                           Pesquera                    13   \n",
       "15                                           Pesquera                    13   \n",
       "16                           Recursos hidrobiológicos                    15   \n",
       "17                                           Pesquera                    13   \n",
       "18                     Productos pesqueros de la zona                    14   \n",
       "19  Agroindustrial, madera, muebles y otros produc...                     3   \n",
       "20    Camu camu, aguaje, gamitana y paiche de la zona                     6   \n",
       "21                               Camélidos domésticos                     7   \n",
       "22                                           Textiles                    16   \n",
       "23                               Camélidos domésticos                     7   \n",
       "24                                     Agroindustrial                     2   \n",
       "25                                     Agroindustrial                     2   \n",
       "\n",
       "                                           cadena_pip  cadena_pip_id  \\\n",
       "0                                            Acuícola            102   \n",
       "1                                 Frutas y hortalizas            210   \n",
       "2                         Café, cacao y frutas (piña)            505   \n",
       "3      Frutos, hortalizas, menestras y granos andinos            213   \n",
       "4             Frutas, hortalizas y hierbas aromáticas            211   \n",
       "5                                Uva, palta y orégano            218   \n",
       "6                                  Granadilla y palta            214   \n",
       "7                                        Café y cacao            404   \n",
       "8                                     Cuero y calzado            808   \n",
       "9                Cuero y calzado e industrias conexas           1009   \n",
       "10                                    Cuero y calzado            908   \n",
       "11                                             Madera           1215   \n",
       "12                                             Madera           1215   \n",
       "13  (*) No cuenta con cadena de PIP, sin embargo s...           1101   \n",
       "14                                 Pesquero amazónico           1316   \n",
       "15                                 Pesquero amazónico           1316   \n",
       "16  (*) No cuenta con cadena de PIP, sin embargo s...           1501   \n",
       "17                          Productos hidrobiológicos           1317   \n",
       "18  (*) No cuenta con cadena de PIP, sin embargo s...           1401   \n",
       "19  • Agroindustrial: cacao, copoazú, castaña\\n• M...            319   \n",
       "20                       Frutos tropicales y acuícola            612   \n",
       "21                               Camélidos domésticos            706   \n",
       "22                               Camélidos domésticos           1606   \n",
       "23                               Camélidos domésticos            706   \n",
       "24                    Chirimoya, palta, durazno y vid            207   \n",
       "25  Cacao, café, piña, palta, granadilla, durazno ...            203   \n",
       "\n",
       "                                      cadena_atencion  cadena_atencion_id  \n",
       "0          Tilapia, paiche, paco, gamitana y doncella               10217  \n",
       "1              Frutas y hortalizas, derivados lácteos               21010  \n",
       "2                     Café, cacao y frutas de la zona               50503  \n",
       "3   Uva, espárrago, cebolla,  manzana, higo, pláta...               21319  \n",
       "4   Uva, hongos comestibles, derivados lácteos, ma...               21120  \n",
       "5                                Uva, palta y orégano               21821  \n",
       "6   Café, cacao, aguaymanto, granadilla, quito qui...               21404  \n",
       "7                                        Café y cacao               40402  \n",
       "8                                     Cuero y calzado               80808  \n",
       "9                                     Cuero y calzado              100908  \n",
       "10                                    Cuero y calzado               90808  \n",
       "11                                  Madera y forestal              121513  \n",
       "12                                  Madera y forestal              121513  \n",
       "13                        Madera e industrias conexas              110112  \n",
       "14                            Tilapia, paiche, trucha              131618  \n",
       "15          Paiche, paco, gamitana, doncella, tilapia              131614  \n",
       "16                          Productos hidrobiológicos              150115  \n",
       "17  Lorna, pota, jurel, bonito, anchoveta, macroal...              131711  \n",
       "18                          Productos hidrobiológicos              140115  \n",
       "19  • Agroindustrial: copoazú, cacao, ají charapit...               31922  \n",
       "20    Camu camu, aguaje, gamitana y paiche de la zona               61205  \n",
       "21                     Cadena productiva de la alpaca               70601  \n",
       "22                                           Textiles              160616  \n",
       "23                               Camélidos domésticos               70606  \n",
       "24  Chirimoya, granada, guanábana, mandarina, guin...               20707  \n",
       "25  Durazno, granadilla, rocoto, aguaymanto, yacón...               20309  "
      ],
      "text/html": "<div>\n<style scoped>\n    .dataframe tbody tr th:only-of-type {\n        vertical-align: middle;\n    }\n\n    .dataframe tbody tr th {\n        vertical-align: top;\n    }\n\n    .dataframe thead th {\n        text-align: right;\n    }\n</style>\n<table border=\"1\" class=\"dataframe\">\n  <thead>\n    <tr style=\"text-align: right;\">\n      <th></th>\n      <th>cadena_resolucion</th>\n      <th>cadena_resolucion_id</th>\n      <th>cadena_pip</th>\n      <th>cadena_pip_id</th>\n      <th>cadena_atencion</th>\n      <th>cadena_atencion_id</th>\n    </tr>\n  </thead>\n  <tbody>\n    <tr>\n      <th>0</th>\n      <td>Acuícola</td>\n      <td>1</td>\n      <td>Acuícola</td>\n      <td>102</td>\n      <td>Tilapia, paiche, paco, gamitana y doncella</td>\n      <td>10217</td>\n    </tr>\n    <tr>\n      <th>1</th>\n      <td>Agroindustrial</td>\n      <td>2</td>\n      <td>Frutas y hortalizas</td>\n      <td>210</td>\n      <td>Frutas y hortalizas, derivados lácteos</td>\n      <td>21010</td>\n    </tr>\n    <tr>\n      <th>2</th>\n      <td>Café y frutas de la zona</td>\n      <td>5</td>\n      <td>Café, cacao y frutas (piña)</td>\n      <td>505</td>\n      <td>Café, cacao y frutas de la zona</td>\n      <td>50503</td>\n    </tr>\n    <tr>\n      <th>3</th>\n      <td>Agroindustrial</td>\n      <td>2</td>\n      <td>Frutos, hortalizas, menestras y granos andinos</td>\n      <td>213</td>\n      <td>Uva, espárrago, cebolla,  manzana, higo, pláta...</td>\n      <td>21319</td>\n    </tr>\n    <tr>\n      <th>4</th>\n      <td>Agroindustrial</td>\n      <td>2</td>\n      <td>Frutas, hortalizas y hierbas aromáticas</td>\n      <td>211</td>\n      <td>Uva, hongos comestibles, derivados lácteos, ma...</td>\n      <td>21120</td>\n    </tr>\n    <tr>\n      <th>5</th>\n      <td>Agroindustrial</td>\n      <td>2</td>\n      <td>Uva, palta y orégano</td>\n      <td>218</td>\n      <td>Uva, palta y orégano</td>\n      <td>21821</td>\n    </tr>\n    <tr>\n      <th>6</th>\n      <td>Agroindustrial</td>\n      <td>2</td>\n      <td>Granadilla y palta</td>\n      <td>214</td>\n      <td>Café, cacao, aguaymanto, granadilla, quito qui...</td>\n      <td>21404</td>\n    </tr>\n    <tr>\n      <th>7</th>\n      <td>Café y cacao</td>\n      <td>4</td>\n      <td>Café y cacao</td>\n      <td>404</td>\n      <td>Café y cacao</td>\n      <td>40402</td>\n    </tr>\n    <tr>\n      <th>8</th>\n      <td>Cuero calzado</td>\n      <td>8</td>\n      <td>Cuero y calzado</td>\n      <td>808</td>\n      <td>Cuero y calzado</td>\n      <td>80808</td>\n    </tr>\n    <tr>\n      <th>9</th>\n      <td>Cuero, calzado e industrias conexas</td>\n      <td>10</td>\n      <td>Cuero y calzado e industrias conexas</td>\n      <td>1009</td>\n      <td>Cuero y calzado</td>\n      <td>100908</td>\n    </tr>\n    <tr>\n      <th>10</th>\n      <td>Cuero y calzado</td>\n      <td>9</td>\n      <td>Cuero y calzado</td>\n      <td>908</td>\n      <td>Cuero y calzado</td>\n      <td>90808</td>\n    </tr>\n    <tr>\n      <th>11</th>\n      <td>Madera de la zona</td>\n      <td>12</td>\n      <td>Madera</td>\n      <td>1215</td>\n      <td>Madera y forestal</td>\n      <td>121513</td>\n    </tr>\n    <tr>\n      <th>12</th>\n      <td>Madera de la zona</td>\n      <td>12</td>\n      <td>Madera</td>\n      <td>1215</td>\n      <td>Madera y forestal</td>\n      <td>121513</td>\n    </tr>\n    <tr>\n      <th>13</th>\n      <td>Madera</td>\n      <td>11</td>\n      <td>(*) No cuenta con cadena de PIP, sin embargo s...</td>\n      <td>1101</td>\n      <td>Madera e industrias conexas</td>\n      <td>110112</td>\n    </tr>\n    <tr>\n      <th>14</th>\n      <td>Pesquera</td>\n      <td>13</td>\n      <td>Pesquero amazónico</td>\n      <td>1316</td>\n      <td>Tilapia, paiche, trucha</td>\n      <td>131618</td>\n    </tr>\n    <tr>\n      <th>15</th>\n      <td>Pesquera</td>\n      <td>13</td>\n      <td>Pesquero amazónico</td>\n      <td>1316</td>\n      <td>Paiche, paco, gamitana, doncella, tilapia</td>\n      <td>131614</td>\n    </tr>\n    <tr>\n      <th>16</th>\n      <td>Recursos hidrobiológicos</td>\n      <td>15</td>\n      <td>(*) No cuenta con cadena de PIP, sin embargo s...</td>\n      <td>1501</td>\n      <td>Productos hidrobiológicos</td>\n      <td>150115</td>\n    </tr>\n    <tr>\n      <th>17</th>\n      <td>Pesquera</td>\n      <td>13</td>\n      <td>Productos hidrobiológicos</td>\n      <td>1317</td>\n      <td>Lorna, pota, jurel, bonito, anchoveta, macroal...</td>\n      <td>131711</td>\n    </tr>\n    <tr>\n      <th>18</th>\n      <td>Productos pesqueros de la zona</td>\n      <td>14</td>\n      <td>(*) No cuenta con cadena de PIP, sin embargo s...</td>\n      <td>1401</td>\n      <td>Productos hidrobiológicos</td>\n      <td>140115</td>\n    </tr>\n    <tr>\n      <th>19</th>\n      <td>Agroindustrial, madera, muebles y otros produc...</td>\n      <td>3</td>\n      <td>• Agroindustrial: cacao, copoazú, castaña\\n• M...</td>\n      <td>319</td>\n      <td>• Agroindustrial: copoazú, cacao, ají charapit...</td>\n      <td>31922</td>\n    </tr>\n    <tr>\n      <th>20</th>\n      <td>Camu camu, aguaje, gamitana y paiche de la zona</td>\n      <td>6</td>\n      <td>Frutos tropicales y acuícola</td>\n      <td>612</td>\n      <td>Camu camu, aguaje, gamitana y paiche de la zona</td>\n      <td>61205</td>\n    </tr>\n    <tr>\n      <th>21</th>\n      <td>Camélidos domésticos</td>\n      <td>7</td>\n      <td>Camélidos domésticos</td>\n      <td>706</td>\n      <td>Cadena productiva de la alpaca</td>\n      <td>70601</td>\n    </tr>\n    <tr>\n      <th>22</th>\n      <td>Textiles</td>\n      <td>16</td>\n      <td>Camélidos domésticos</td>\n      <td>1606</td>\n      <td>Textiles</td>\n      <td>160616</td>\n    </tr>\n    <tr>\n      <th>23</th>\n      <td>Camélidos domésticos</td>\n      <td>7</td>\n      <td>Camélidos domésticos</td>\n      <td>706</td>\n      <td>Camélidos domésticos</td>\n      <td>70606</td>\n    </tr>\n    <tr>\n      <th>24</th>\n      <td>Agroindustrial</td>\n      <td>2</td>\n      <td>Chirimoya, palta, durazno y vid</td>\n      <td>207</td>\n      <td>Chirimoya, granada, guanábana, mandarina, guin...</td>\n      <td>20707</td>\n    </tr>\n    <tr>\n      <th>25</th>\n      <td>Agroindustrial</td>\n      <td>2</td>\n      <td>Cacao, café, piña, palta, granadilla, durazno ...</td>\n      <td>203</td>\n      <td>Durazno, granadilla, rocoto, aguaymanto, yacón...</td>\n      <td>20309</td>\n    </tr>\n  </tbody>\n</table>\n</div>"
     },
     "metadata": {},
     "execution_count": 268
    }
   ],
   "source": [
    "df"
   ]
  }
 ]
}