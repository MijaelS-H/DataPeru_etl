{
 "metadata": {
  "language_info": {
   "codemirror_mode": {
    "name": "ipython",
    "version": 3
   },
   "file_extension": ".py",
   "mimetype": "text/x-python",
   "name": "python",
   "nbconvert_exporter": "python",
   "pygments_lexer": "ipython3",
   "version": "3.7.7-final"
  },
  "orig_nbformat": 2,
  "kernelspec": {
   "name": "Python 3.7.7 64-bit ('tensorflow': conda)",
   "display_name": "Python 3.7.7 64-bit ('tensorflow': conda)",
   "metadata": {
    "interpreter": {
     "hash": "d75a4257efb203d433ef64c07d638a2d7a73b941c997728a01b96a5ee897acee"
    }
   }
  }
 },
 "nbformat": 4,
 "nbformat_minor": 2,
 "cells": [
  {
   "cell_type": "code",
   "execution_count": 110,
   "metadata": {},
   "outputs": [],
   "source": [
    "import pandas as pd\n",
    "import numpy as np"
   ]
  },
  {
   "cell_type": "code",
   "execution_count": 111,
   "metadata": {},
   "outputs": [],
   "source": [
    "MISSING_UBIGEO = [\n",
    "    {\n",
    "        'department_name': 'Loreto',\n",
    "        'province_name': 'Alto Amazonas',\n",
    "        'district_name': 'Barranca',\n",
    "        'department_id': '16',\n",
    "        'province_id': '1602',\n",
    "        'district_id': '160203'\n",
    "    },\n",
    "    {\n",
    "        'department_name': 'Loreto',\n",
    "        'province_name': 'Alto Amazonas',\n",
    "        'district_name': 'Manseriche',\n",
    "        'department_id': '16',\n",
    "        'province_id': '1602',\n",
    "        'district_id': '160207'\n",
    "    },\n",
    "    {\n",
    "        'department_name': 'Loreto',\n",
    "        'province_name': 'Alto Amazonas',\n",
    "        'district_name': 'Morona',\n",
    "        'department_id': '16',\n",
    "        'province_id': '1602',\n",
    "        'district_id': '160208'\n",
    "    },\n",
    "    {\n",
    "        'department_name': 'Loreto',\n",
    "        'province_name': 'Alto Amazonas',\n",
    "        'district_name': 'Pastaza',\n",
    "        'department_id': '16',\n",
    "        'province_id': '1602',\n",
    "        'district_id': '160209'\n",
    "    },\n",
    "    {\n",
    "        'department_name': 'Otro',\n",
    "        'province_name': 'Otro',\n",
    "        'district_name': 'Otro',\n",
    "        'department_id': '99',\n",
    "        'province_id': '9999',\n",
    "        'district_id': '999999'\n",
    "    }\n",
    "]"
   ]
  },
  {
   "cell_type": "code",
   "execution_count": 112,
   "metadata": {},
   "outputs": [],
   "source": [
    "        df = pd.read_excel('../../../datasets/anexos/2.Ubigeo_descripción.xlsx', header=2, usecols='B,E,F')\n",
    "        \n",
    "        df.replace(' ', np.nan, inplace=True)\n",
    "        df.dropna(inplace=True)\n",
    "        df = df[df['DEPARTAMENTO'] != 'DEPARTAMENTO'].copy()\n",
    "\n",
    "        df.rename(columns={\n",
    "            'DEPARTAMENTO': 'department_name',\n",
    "            'PROVINCIA': 'province_name',\n",
    "            'DISTRITO': 'district_name'\n",
    "        }, inplace=True)\n",
    "\n",
    "        columns = df.columns\n",
    "\n",
    "        for column in columns:\n",
    "            df['{}_id'.format(column.split('_')[0])] = df[column].astype(str).str[0:2]\n",
    "            df[column] = df[column].astype(str).str[3:]\n",
    "\n",
    "        df['province_id'] = df['department_id'] + df['province_id']\n",
    "        df['district_id'] = df['province_id'] + df['district_id']\n",
    "\n",
    "        df['department_name'] = df['department_name'].str.strip()\n",
    "        df['province_name'] = df['province_name'].str.strip()\n",
    "        df['district_name'] = df['district_name'].str.strip()\n",
    "\n",
    "        df = df.append(MISSING_UBIGEO)\n",
    "\n",
    "        provinces = df[['department_name', 'province_name', 'department_id', 'province_id']].copy()\n",
    "        provinces = provinces.drop_duplicates()\n",
    "        provinces['district_name'] = provinces.apply(lambda x: 'Otros distritos de la provincia de {}'.format(x['province_name']), axis=1)\n",
    "        provinces['district_id'] = provinces['province_id'] + '00'\n",
    "        provinces = provinces[['department_name', 'province_name', 'district_name', 'department_id', 'province_id', 'district_id']].copy()\n",
    "        \n",
    "        departments = df[['department_name', 'department_id']].copy()\n",
    "        departments = departments.drop_duplicates()\n",
    "        departments['province_name'] = departments.apply(lambda x: 'Otras provincias del departamento de {}'.format(x['department_name']), axis=1)\n",
    "        departments['district_name'] = departments.apply(lambda x: 'Otros distritos del departamento de {}'.format(x['department_name']), axis=1)\n",
    "        departments['province_id'] = departments['department_id'] + '00'\n",
    "        departments['district_id'] = departments['province_id'] + '00'\n",
    "        departments = departments[['department_name', 'province_name', 'district_name', 'department_id', 'province_id', 'district_id']].copy()\n",
    "        \n",
    "        df = df.append(provinces)\n",
    "        df = df.append(departments)\n",
    "\n",
    "        df['nation_id'] = 'per'\n",
    "        df['nation_name'] = 'Perú'"
   ]
  },
  {
   "cell_type": "code",
   "execution_count": 113,
   "metadata": {},
   "outputs": [],
   "source": [
    "ubigeo = df"
   ]
  },
  {
   "cell_type": "code",
   "execution_count": 114,
   "metadata": {},
   "outputs": [],
   "source": [
    "nation_map = {k:v for (k,v) in zip(ubigeo[\"nation_name\"], ubigeo[\"nation_id\"])}\n",
    "department_map = {k:v for (k,v) in zip(ubigeo[\"department_name\"], ubigeo[\"department_id\"])}\n",
    "district_map = {k:v for (k,v) in zip(ubigeo[\"district_name\"], ubigeo[\"district_id\"])}\n",
    "province_map = {k:v for (k,v) in zip(ubigeo[\"province_name\"], ubigeo[\"province_id\"])}"
   ]
  },
  {
   "cell_type": "code",
   "execution_count": 115,
   "metadata": {},
   "outputs": [],
   "source": [
    "ARCHIVOS_LIST = {\n",
    "    1 : \"01. Puntos de Cultura_2020_DataPeru.xlsx\",\n",
    "    2 : \"02. RCN_2020_PJ_DATAPERU.xlsx\", \n",
    "    3 : \"03.  EEC_2019_DATAPERU.xlsx\",\n",
    "    4 : \"04. Agentes del libro_2020_PNYPJ_DATAPERU.xlsx\"\n",
    "}"
   ]
  },
  {
   "cell_type": "code",
   "execution_count": 116,
   "metadata": {},
   "outputs": [],
   "source": [
    "data = {}\n",
    "datasets = {}\n",
    "for i in range (1, 5):\n",
    "    data[i] = pd.ExcelFile(\"../../../datasets/20201018/05. Socios Estratégicos - Ministerio de Cultura (18-10-2020)/{}\".format(ARCHIVOS_LIST[i]))\n",
    "    sheet = data[i].sheet_names[1]\n",
    "    datasets[i] = pd.read_excel(data[i], data[i].sheet_names[1])"
   ]
  },
  {
   "cell_type": "code",
   "execution_count": 117,
   "metadata": {},
   "outputs": [
    {
     "output_type": "execute_result",
     "data": {
      "text/plain": [
       "Index(['N', 'Código', 'Nombre', 'Región', 'Provincia', 'Distrito', 'Web/blog',\n",
       "       'Facebook (Fan page y/o perfil)', 'Twitter', 'YouTube', 'Instagram',\n",
       "       'Otra red social', 'Tipo de organización', 'Año de fundación',\n",
       "       '¿La organización está inscrita en SUNARP?', 'N° Partida Registral',\n",
       "       'N° RUC', 'Cantidad de miembros', 'Actividad realizada N° 1',\n",
       "       'Actividad realizada N° 2', 'Manifestación artística cultural N° 1',\n",
       "       'Manifestación artística cultural N° 2',\n",
       "       'Manifestación artística cultural N° 3', 'N° Resolución Directoral',\n",
       "       'Fecha de Reconocimiento', 'Nº de Registro '],\n",
       "      dtype='object')"
      ]
     },
     "metadata": {},
     "execution_count": 117
    }
   ],
   "source": [
    "datasets[1].columns"
   ]
  },
  {
   "cell_type": "code",
   "execution_count": 118,
   "metadata": {},
   "outputs": [],
   "source": [
    "pivot = datasets[1][['Código','Nombre','Distrito','¿La organización está inscrita en SUNARP?','Actividad realizada N° 1',\n",
    "       'Actividad realizada N° 2', 'Manifestación artística cultural N° 1',\n",
    "       'Manifestación artística cultural N° 2',\n",
    "       'Manifestación artística cultural N° 3']]"
   ]
  },
  {
   "cell_type": "code",
   "execution_count": 119,
   "metadata": {},
   "outputs": [
    {
     "output_type": "execute_result",
     "data": {
      "text/plain": [
       "    Código                                            Nombre  \\\n",
       "0    S0004     Asociación de Grupo Teatral de Mala - GRUTEMA   \n",
       "1    S0001                       Creeando Arte con Propósito   \n",
       "2    S0002            Asociación Cultural Dreams Imagination   \n",
       "3    S0003                                        Agenda CIX   \n",
       "4    S0007                   Asociación Cultural Apoyo Mutuo   \n",
       "..     ...                                               ...   \n",
       "387  S0358                                        AYLLU GUTA   \n",
       "388  S0357                   ASOCIACIÓN CULTURAL LAS SHICRAS   \n",
       "389  S0356            BALLET FOLKLÓRICO HUELLAS DE MI TIERRA   \n",
       "390  S0347                         Danzas y Marinera Mi Perú   \n",
       "391  S0350  Asociación Folklorica Cultural \"Ritmos Del Perú\"   \n",
       "\n",
       "                 Distrito ¿La organización está inscrita en SUNARP?  \\\n",
       "0                    Mala                                        SI   \n",
       "1              Ventanilla                                        SI   \n",
       "2                Trujillo                                        SI   \n",
       "3                Chiclayo                                        NO   \n",
       "4              Miraflores                                        SI   \n",
       "..                    ...                                       ...   \n",
       "387              Trujillo                                        NO   \n",
       "388  San Martín de Porres                                        SI   \n",
       "389     Villa El Salvador                                        NO   \n",
       "390                Chepén                                        NO   \n",
       "391                Chepén                                        NO   \n",
       "\n",
       "                              Actividad realizada N° 1  \\\n",
       "0    Actividades constantes que desde el arte y la ...   \n",
       "1    Actividades que aportan a la recuperación y/o ...   \n",
       "2    Actividades que aportan a la recuperación y/o ...   \n",
       "3    Actividades que aportan a la recuperación y/o ...   \n",
       "4    Actividades que aportan a la recuperación y/o ...   \n",
       "..                                                 ...   \n",
       "387  Actividades que aportan a la recuperación y/o ...   \n",
       "388  Propuestas de desarrollo económico sostenible ...   \n",
       "389  Actividades constantes que desde el arte y la ...   \n",
       "390  Actividades constantes que desde el arte y la ...   \n",
       "391  Actividades constantes que desde el arte y la ...   \n",
       "\n",
       "                              Actividad realizada N° 2  \\\n",
       "0    Actividades constantes que fomentan la apropia...   \n",
       "1    Propuestas de desarrollo económico sostenible ...   \n",
       "2    Actividades constantes que desde el arte y la ...   \n",
       "3    Actividades que fortalecen las experiencias de...   \n",
       "4    Otras actividades relacionadas al arte para la...   \n",
       "..                                                 ...   \n",
       "387  Actividades constantes que fomentan la apropia...   \n",
       "388  Actividades que aportan al rescate, protección...   \n",
       "389  Actividades que promueven el respeto a la dive...   \n",
       "390  Actividades que promueven el respeto a la dive...   \n",
       "391  Otras actividades relacionadas al arte para la...   \n",
       "\n",
       "    Manifestación artística cultural N° 1  \\\n",
       "0    Animación/mediación sociocultural      \n",
       "1     Animación/mediación sociocultural     \n",
       "2         Artes escénicas - circo, teatro   \n",
       "3     Animación/mediación sociocultural     \n",
       "4     Animación/mediación sociocultural     \n",
       "..                                    ...   \n",
       "387     Animación/mediación sociocultural   \n",
       "388                Artes escénicas- danza   \n",
       "389               Artes escénicas- danza    \n",
       "390     Animación/mediación sociocultural   \n",
       "391               Artes escénicas - danza   \n",
       "\n",
       "                 Manifestación artística cultural N° 2  \\\n",
       "0          Artes escénicas - circo, teatro               \n",
       "1          Artes escénicas - danza                       \n",
       "2               Audiovisuales - cine, video y/u otros    \n",
       "3    Celebración de festividades, fiestas tradicion...   \n",
       "4               Audiovisuales - cine, video y/u otros    \n",
       "..                                                 ...   \n",
       "387                         Artes visuales y artesanía   \n",
       "388                         Artes visuales y artesanía   \n",
       "389  Celebración de festividades, fiestas tradicion...   \n",
       "390                            Artes escénicas- danza    \n",
       "391  Celebración de festividades, fiestas tradicion...   \n",
       "\n",
       "                 Manifestación artística cultural N° 3  \n",
       "0                                           Música      \n",
       "1    Celebración de festividades, fiestas tradicion...  \n",
       "2          Música                                       \n",
       "3                                               Música  \n",
       "4    Comunicaciones (periodismo, radio, podcast y/u...  \n",
       "..                                                 ...  \n",
       "387  Otro: Recuperación de espacios públicos a trav...  \n",
       "388                                                NaN  \n",
       "389                                             Música  \n",
       "390  Celebración de festividades, fiestas tradicion...  \n",
       "391                                             Música  \n",
       "\n",
       "[392 rows x 9 columns]"
      ],
      "text/html": "<div>\n<style scoped>\n    .dataframe tbody tr th:only-of-type {\n        vertical-align: middle;\n    }\n\n    .dataframe tbody tr th {\n        vertical-align: top;\n    }\n\n    .dataframe thead th {\n        text-align: right;\n    }\n</style>\n<table border=\"1\" class=\"dataframe\">\n  <thead>\n    <tr style=\"text-align: right;\">\n      <th></th>\n      <th>Código</th>\n      <th>Nombre</th>\n      <th>Distrito</th>\n      <th>¿La organización está inscrita en SUNARP?</th>\n      <th>Actividad realizada N° 1</th>\n      <th>Actividad realizada N° 2</th>\n      <th>Manifestación artística cultural N° 1</th>\n      <th>Manifestación artística cultural N° 2</th>\n      <th>Manifestación artística cultural N° 3</th>\n    </tr>\n  </thead>\n  <tbody>\n    <tr>\n      <th>0</th>\n      <td>S0004</td>\n      <td>Asociación de Grupo Teatral de Mala - GRUTEMA</td>\n      <td>Mala</td>\n      <td>SI</td>\n      <td>Actividades constantes que desde el arte y la ...</td>\n      <td>Actividades constantes que fomentan la apropia...</td>\n      <td>Animación/mediación sociocultural</td>\n      <td>Artes escénicas - circo, teatro</td>\n      <td>Música</td>\n    </tr>\n    <tr>\n      <th>1</th>\n      <td>S0001</td>\n      <td>Creeando Arte con Propósito</td>\n      <td>Ventanilla</td>\n      <td>SI</td>\n      <td>Actividades que aportan a la recuperación y/o ...</td>\n      <td>Propuestas de desarrollo económico sostenible ...</td>\n      <td>Animación/mediación sociocultural</td>\n      <td>Artes escénicas - danza</td>\n      <td>Celebración de festividades, fiestas tradicion...</td>\n    </tr>\n    <tr>\n      <th>2</th>\n      <td>S0002</td>\n      <td>Asociación Cultural Dreams Imagination</td>\n      <td>Trujillo</td>\n      <td>SI</td>\n      <td>Actividades que aportan a la recuperación y/o ...</td>\n      <td>Actividades constantes que desde el arte y la ...</td>\n      <td>Artes escénicas - circo, teatro</td>\n      <td>Audiovisuales - cine, video y/u otros</td>\n      <td>Música</td>\n    </tr>\n    <tr>\n      <th>3</th>\n      <td>S0003</td>\n      <td>Agenda CIX</td>\n      <td>Chiclayo</td>\n      <td>NO</td>\n      <td>Actividades que aportan a la recuperación y/o ...</td>\n      <td>Actividades que fortalecen las experiencias de...</td>\n      <td>Animación/mediación sociocultural</td>\n      <td>Celebración de festividades, fiestas tradicion...</td>\n      <td>Música</td>\n    </tr>\n    <tr>\n      <th>4</th>\n      <td>S0007</td>\n      <td>Asociación Cultural Apoyo Mutuo</td>\n      <td>Miraflores</td>\n      <td>SI</td>\n      <td>Actividades que aportan a la recuperación y/o ...</td>\n      <td>Otras actividades relacionadas al arte para la...</td>\n      <td>Animación/mediación sociocultural</td>\n      <td>Audiovisuales - cine, video y/u otros</td>\n      <td>Comunicaciones (periodismo, radio, podcast y/u...</td>\n    </tr>\n    <tr>\n      <th>...</th>\n      <td>...</td>\n      <td>...</td>\n      <td>...</td>\n      <td>...</td>\n      <td>...</td>\n      <td>...</td>\n      <td>...</td>\n      <td>...</td>\n      <td>...</td>\n    </tr>\n    <tr>\n      <th>387</th>\n      <td>S0358</td>\n      <td>AYLLU GUTA</td>\n      <td>Trujillo</td>\n      <td>NO</td>\n      <td>Actividades que aportan a la recuperación y/o ...</td>\n      <td>Actividades constantes que fomentan la apropia...</td>\n      <td>Animación/mediación sociocultural</td>\n      <td>Artes visuales y artesanía</td>\n      <td>Otro: Recuperación de espacios públicos a trav...</td>\n    </tr>\n    <tr>\n      <th>388</th>\n      <td>S0357</td>\n      <td>ASOCIACIÓN CULTURAL LAS SHICRAS</td>\n      <td>San Martín de Porres</td>\n      <td>SI</td>\n      <td>Propuestas de desarrollo económico sostenible ...</td>\n      <td>Actividades que aportan al rescate, protección...</td>\n      <td>Artes escénicas- danza</td>\n      <td>Artes visuales y artesanía</td>\n      <td>NaN</td>\n    </tr>\n    <tr>\n      <th>389</th>\n      <td>S0356</td>\n      <td>BALLET FOLKLÓRICO HUELLAS DE MI TIERRA</td>\n      <td>Villa El Salvador</td>\n      <td>NO</td>\n      <td>Actividades constantes que desde el arte y la ...</td>\n      <td>Actividades que promueven el respeto a la dive...</td>\n      <td>Artes escénicas- danza</td>\n      <td>Celebración de festividades, fiestas tradicion...</td>\n      <td>Música</td>\n    </tr>\n    <tr>\n      <th>390</th>\n      <td>S0347</td>\n      <td>Danzas y Marinera Mi Perú</td>\n      <td>Chepén</td>\n      <td>NO</td>\n      <td>Actividades constantes que desde el arte y la ...</td>\n      <td>Actividades que promueven el respeto a la dive...</td>\n      <td>Animación/mediación sociocultural</td>\n      <td>Artes escénicas- danza</td>\n      <td>Celebración de festividades, fiestas tradicion...</td>\n    </tr>\n    <tr>\n      <th>391</th>\n      <td>S0350</td>\n      <td>Asociación Folklorica Cultural \"Ritmos Del Perú\"</td>\n      <td>Chepén</td>\n      <td>NO</td>\n      <td>Actividades constantes que desde el arte y la ...</td>\n      <td>Otras actividades relacionadas al arte para la...</td>\n      <td>Artes escénicas - danza</td>\n      <td>Celebración de festividades, fiestas tradicion...</td>\n      <td>Música</td>\n    </tr>\n  </tbody>\n</table>\n<p>392 rows × 9 columns</p>\n</div>"
     },
     "metadata": {},
     "execution_count": 119
    }
   ],
   "source": [
    "pivot"
   ]
  },
  {
   "cell_type": "code",
   "execution_count": 120,
   "metadata": {},
   "outputs": [],
   "source": [
    "pivot[\"Código\"] = pivot[\"Código\"].str.strip()"
   ]
  },
  {
   "cell_type": "code",
   "execution_count": 121,
   "metadata": {},
   "outputs": [],
   "source": [
    "pivot[\"Actividad realizada N° 1\"] = pivot[\"Actividad realizada N° 1\"].str.strip()"
   ]
  },
  {
   "cell_type": "code",
   "execution_count": 122,
   "metadata": {},
   "outputs": [],
   "source": [
    "pivot[\"Actividad realizada N° 2\"] = pivot[\"Actividad realizada N° 2\"].str.strip()"
   ]
  },
  {
   "cell_type": "code",
   "execution_count": 123,
   "metadata": {},
   "outputs": [],
   "source": [
    "pivot[\"Actividad realizada N° 2\"] = pivot[\"Actividad realizada N° 2\"].str.strip()"
   ]
  },
  {
   "cell_type": "code",
   "execution_count": 124,
   "metadata": {},
   "outputs": [],
   "source": [
    "pivot[\"Manifestación artística cultural N° 1\"] = pivot[\"Manifestación artística cultural N° 1\"].str.strip()"
   ]
  },
  {
   "cell_type": "code",
   "execution_count": 125,
   "metadata": {},
   "outputs": [],
   "source": [
    "pivot[\"Manifestación artística cultural N° 2\"] = pivot[\"Manifestación artística cultural N° 2\"].str.strip()"
   ]
  },
  {
   "cell_type": "code",
   "execution_count": 126,
   "metadata": {},
   "outputs": [],
   "source": [
    "pivot[\"Manifestación artística cultural N° 3\"] = pivot[\"Manifestación artística cultural N° 3\"].str.strip()"
   ]
  },
  {
   "cell_type": "code",
   "execution_count": 127,
   "metadata": {},
   "outputs": [],
   "source": [
    "pivot  = pivot.rename(columns = {\"Código\" : \"codigo_asociacion\", \"¿La organización está inscrita en SUNARP?\" : \"inscrita_sunarp_id\", \"Actividad realizada N° 1\" : \"actividad_n_1_id\",  \"Actividad realizada N° 2\" : \"actividad_n_2_id\", \"Manifestación artística cultural N° 1\": \"manifestacion_n_1_id\", \"Manifestación artística cultural N° 2\": \"manifestacion_n_2_id\", \"Manifestación artística cultural N° 3\": \"manifestacion_n_3_id\",\"Distrito\" : \"district_name\",\"Nombre\" : \"asociacion_name\"})"
   ]
  },
  {
   "cell_type": "code",
   "execution_count": 128,
   "metadata": {},
   "outputs": [],
   "source": [
    "pivot['cantidad_asociacion'] = 1"
   ]
  },
  {
   "cell_type": "code",
   "execution_count": 129,
   "metadata": {},
   "outputs": [
    {
     "output_type": "execute_result",
     "data": {
      "text/plain": [
       "array(['Chachapoyas', 'Asunción', 'Balsas', ...,\n",
       "       'Otros distritos del departamento de Tumbes',\n",
       "       'Otros distritos del departamento de Ucayali',\n",
       "       'Otros distritos del departamento de Otro'], dtype=object)"
      ]
     },
     "metadata": {},
     "execution_count": 129
    }
   ],
   "source": [
    "ubigeo['district_name'].unique()"
   ]
  },
  {
   "cell_type": "code",
   "execution_count": 130,
   "metadata": {},
   "outputs": [
    {
     "output_type": "execute_result",
     "data": {
      "text/plain": [
       "array(['Mala', 'Ventanilla', 'Trujillo', 'Chiclayo', 'Miraflores',\n",
       "       'Callao', 'Chincha Alta', 'Jesús María', 'Villa el Salvador',\n",
       "       'Tarapoto', 'Villa El Salvador', 'Chepén ', 'Santiago de Surco',\n",
       "       'Huanchaco', 'Banda de Shilcayo', 'Moyobamba', 'Chorrillos',\n",
       "       'Tacna', 'San Isidro', 'San Miguel', 'El Agustino', 'Ayaviri',\n",
       "       'Coronel Gregorio Albarracín Lanchipa', 'Mariano Melgar',\n",
       "       'La Victoria ', 'Huancayo', 'Pueblo Libre',\n",
       "       'San Juan de Lurigancho', 'Alto Selva Alegre', 'El Carmen',\n",
       "       'Moquegua', 'San Bartolomé', 'Andahuaylas', 'Lurigancho',\n",
       "       'Carabayllo', 'San Jerónimo', 'Villa María del Triunfo', 'Tumbes',\n",
       "       'Rímac', 'La Esperanza ', 'Moyobamba ', 'Comas', 'Barranco',\n",
       "       'San Martin de Porres', 'Ate', 'Catacaos', 'Chazuta', 'Uchumayo',\n",
       "       'Lima', 'Moro', 'Ayavirí', 'Huaraz', 'Morales', 'La Victoria',\n",
       "       'Ventanilla ', 'Tambopata', 'Puno', 'Ferreñafe ', 'Chancay',\n",
       "       'Juanjui', 'La Perla ', 'La Perla', 'Rioja', 'Bagua',\n",
       "       'Santa María', 'MIraflores', 'Yarinacocha', 'Chulucanas',\n",
       "       'Ayacucho', 'Villa María del Triunfo ', '26 de Octubre',\n",
       "       'Chimbote', 'Yurimaguas', 'Independencia ',\n",
       "       'San Vicente de Cañete', 'Victor Larco Herrera', 'Huaura',\n",
       "       'Castilla', 'Chiclayo ', 'Piura', 'Bellavista',\n",
       "       'Veintiseis de octubre', 'Chaupimarca', 'Ate ',\n",
       "       'Magdalena del Mar', 'Arequipa', 'Huacho', 'Cayma ', 'San Borja',\n",
       "       'Castilla ', 'Gregorio Albarracín', 'Chepén',\n",
       "       'José Leonardo Ortiz', 'Wanchaq', 'Breña', 'Los Olivos', 'Motupe',\n",
       "       'La Molina', 'El Tambo', 'Veintiseis de Octubre', 'Ica', 'Ica ',\n",
       "       'La Tinguiña', 'La Unión', 'Callao ', 'Huancayo ', 'Pachacamac',\n",
       "       'Surquillo', 'San Luis', 'San Juan de Miraflores', 'Yauyos',\n",
       "       'Andrés Avelino Cáceres Dorregaray', 'Pillo Marca', 'Chota',\n",
       "       'Bagua Grande', 'Cajamarca', 'Santiago', 'Cusco', 'Cerro Colorado',\n",
       "       'Callería', 'Los Organos', 'Nuevo chimbote', 'Chachapoyas',\n",
       "       'Huancavelica', 'La banda de Silchayo', 'Saña', 'Mancora',\n",
       "       'San Martín de Porres', 'Ate Vitarte', 'Iquitos', 'Acobamba',\n",
       "       'Pardo Miguel Naranjos', 'Lamas',\n",
       "       'Huacho Mariscal Castilla N°400 (Interior 3) Huacho',\n",
       "       'San Juan Bautista', 'Tambo Grande', 'Yanacancha', 'Puente Piedra',\n",
       "       'Huánuco', 'Juliaca ', 'Jesus María', 'Ascención', 'Huamachuco',\n",
       "       'La Matanza', 'Huicungo', 'Manantay', 'La Oroya', 'LIMA',\n",
       "       'Pacasmayo', 'Chilca', 'Lince', 'Independencia', 'San Sebastián',\n",
       "       'Guadalupe', 'Challhuahuacho', 'Paucarpata', 'San José',\n",
       "       'José Luis Bustamante y Rivero', 'Ascope'], dtype=object)"
      ]
     },
     "metadata": {},
     "execution_count": 130
    }
   ],
   "source": [
    "pivot['district_name'].unique()"
   ]
  },
  {
   "cell_type": "code",
   "execution_count": 131,
   "metadata": {},
   "outputs": [
    {
     "output_type": "execute_result",
     "data": {
      "text/plain": [
       "['Villa el Salvador',\n",
       " 'Chepén ',\n",
       " 'Banda de Shilcayo',\n",
       " 'La Victoria ',\n",
       " 'La Esperanza ',\n",
       " 'Moyobamba ',\n",
       " 'San Martin de Porres',\n",
       " 'Ayavirí',\n",
       " 'Ventanilla ',\n",
       " 'Ferreñafe ',\n",
       " 'Juanjui',\n",
       " 'La Perla ',\n",
       " 'MIraflores',\n",
       " 'Villa María del Triunfo ',\n",
       " '26 de Octubre',\n",
       " 'Independencia ',\n",
       " 'Chiclayo ',\n",
       " 'Veintiseis de octubre',\n",
       " 'Ate ',\n",
       " 'Cayma ',\n",
       " 'Castilla ',\n",
       " 'Gregorio Albarracín',\n",
       " 'Chepén',\n",
       " 'Ica ',\n",
       " 'Callao ',\n",
       " 'Huancayo ',\n",
       " 'Pillo Marca',\n",
       " 'Callería',\n",
       " 'Nuevo chimbote',\n",
       " 'La banda de Silchayo',\n",
       " 'Ate Vitarte',\n",
       " 'Pardo Miguel Naranjos',\n",
       " 'Huacho Mariscal Castilla N°400 (Interior 3) Huacho',\n",
       " 'Huánuco',\n",
       " 'Juliaca ',\n",
       " 'Jesus María',\n",
       " 'Ascención',\n",
       " 'LIMA',\n",
       " 'San Sebastián',\n",
       " 'José Luis Bustamante y Rivero']"
      ]
     },
     "metadata": {},
     "execution_count": 131
    }
   ],
   "source": [
    "[x for x in pivot['district_name'].unique() if x not in ubigeo['district_name'].unique()]"
   ]
  },
  {
   "cell_type": "code",
   "execution_count": 132,
   "metadata": {},
   "outputs": [],
   "source": [
    "DISTRICT_REPLACE_1 = {\n",
    "'Villa el Salvador' : \"Villa El Salvador\",\n",
    " 'Chepén ' : \"Chepen\",\n",
    " 'Banda de Shilcayo' : \"La Banda de Shilcayo\",\n",
    " 'La Victoria ' : \"La Victoria\",\n",
    " 'La Esperanza ' : \"La Esperanza\",\n",
    " 'Moyobamba ' : \"Moyobamba\",\n",
    " 'San Martin de Porres' : \"San Martín de Porres\",\n",
    " 'Ayavirí' : \"Ayaviri\",\n",
    " 'Ventanilla ' : \"Ventanilla\",\n",
    " 'Ferreñafe ' : \"Ferreñafe\",\n",
    " 'Juanjui': \"Juanjuí\",\n",
    " 'La Perla ': \"La Perla\",\n",
    " 'MIraflores': \"Miraflores\",\n",
    " 'Villa María del Triunfo ': \"Villa María del Triunfo\",\n",
    " '26 de Octubre': \"Veintiseis de Octubre\",\n",
    " 'Independencia ': \"Independencia\",\n",
    " 'Chiclayo ': \"Chiclayo\",\n",
    " 'Veintiseis de octubre': \"Veintiseis de Octubre\",\n",
    " 'Ate ': \"Ate\",\n",
    " 'Cayma ': \"Cayma\",\n",
    " 'Castilla ': \"Castilla\",\n",
    " 'Gregorio Albarracín': \"Coronel Gregorio Albarracín Lanchipa\",\n",
    " 'Chepén' : \"Chepen\",\n",
    " 'Ica ' : \"Ica\",\n",
    " 'Callao ' : \"Callao\",\n",
    " 'Huancayo ' : \"Huancayo\",\n",
    " 'Pillo Marca' : \"Pillco Marca\",\n",
    " 'Callería' : \"Calleria\",\n",
    " 'Nuevo chimbote' : \"Nuevo Chimbote\",\n",
    " 'La banda de Silchayo' : \"La Banda de Shilcayo\",\n",
    " 'Ate Vitarte' : \"Ate\",\n",
    " 'Pardo Miguel Naranjos' : \"Pardo Miguel\",\n",
    " 'Huacho Mariscal Castilla N°400 (Interior 3) Huacho' : \"Huacho\",\n",
    " 'Huánuco' : \"Huanuco\",\n",
    " 'Juliaca ' : \"Juliaca\",\n",
    " 'Jesus María' : \"Jesús María\",\n",
    " 'Ascención' : \"Asunción\",\n",
    " 'LIMA' : \"Lima\",\n",
    " 'San Sebastián' : \"San Sebastian\",\n",
    " 'José Luis Bustamante y Rivero' : \"José Luis Bustamante Y Rivero\",\n",
    "\n",
    "}"
   ]
  },
  {
   "cell_type": "code",
   "execution_count": 133,
   "metadata": {},
   "outputs": [],
   "source": [
    "pivot['district_name'] = pivot['district_name'].replace(DISTRICT_REPLACE_1)"
   ]
  },
  {
   "cell_type": "code",
   "execution_count": 134,
   "metadata": {},
   "outputs": [],
   "source": [
    "for column in ['manifestacion_n_1_id','manifestacion_n_2_id', 'manifestacion_n_3_id']:\n",
    "    pivot[column] = pivot[column].str.replace('Otro:', '' )\n",
    "    pivot[column] = pivot[column].str.replace('Otros:', '').str.strip()"
   ]
  },
  {
   "cell_type": "code",
   "execution_count": 135,
   "metadata": {},
   "outputs": [],
   "source": [
    "pivot['manifestacion_n_2_id'] = pivot['manifestacion_n_2_id'].str.replace('Otro :: desarrollo de los elementos del HIP HOP', 'Desarrollo de los elementos del HIP HOP')"
   ]
  },
  {
   "cell_type": "code",
   "execution_count": 136,
   "metadata": {},
   "outputs": [],
   "source": [
    "asociacion_dim = dict(zip(pivot['codigo_asociacion'], pivot['asociacion_name']))"
   ]
  },
  {
   "cell_type": "code",
   "execution_count": 137,
   "metadata": {},
   "outputs": [],
   "source": [
    "actividad_n_1_dim = dict(zip(pivot['actividad_n_1_id'].dropna().unique(), range(1, len(pivot['actividad_n_1_id'].dropna().unique()) + 1 )))\n",
    "pivot['actividad_n_1_id'].replace(actividad_n_1_dim, inplace=True)"
   ]
  },
  {
   "cell_type": "code",
   "execution_count": 138,
   "metadata": {},
   "outputs": [
    {
     "output_type": "execute_result",
     "data": {
      "text/plain": [
       "{'Actividades constantes que desde el arte y la cultura atienden a poblaciones en condiciones de vulnerabilidad social': 1,\n",
       " 'Actividades que aportan a la recuperación y/o el fortalecimiento del tejido social y la vida comunitaria desde procesos artísticos, culturales, de comunicación o educación': 2,\n",
       " 'Actividades que aportan al rescate, protección, visibilización o revitalización de los saberes ancestrales, tradiciones, identidad cultural y memoria de pueblos originarios, campesinos, indígenas, rurales y poblaciones afroperuanas': 3,\n",
       " 'Otras actividades relacionadas al arte para la transformación social, desarrolladas en el marco de la Ley N° 30487, Ley de promoción de los puntos de cultura': 4,\n",
       " 'Propuestas de desarrollo económico sostenible a partir de los activos culturales de una comunidad, en respeto con la identidad cultural local y su entorno': 5,\n",
       " 'Actividades que promueven el respeto a la diversidad de identidades y reconocimiento de derechos de poblaciones y/o colectivos que históricamente han sido vulnerados a partir de procesos de formación, activismo e incidencia que desde la cultura aporten al cambio social': 6,\n",
       " 'Actividades constantes que fomentan la apropiación social del espacio público y patrimonio cultural desde acciones artísticas y culturales': 7,\n",
       " 'Actividades que fortalecen las experiencias de trabajo en red y acción colaborativa que apuntan al empoderamiento de movimientos ciudadanos, incidencia y co-construcción de políticas públicas culturales que aporten al desarrollo social': 8}"
      ]
     },
     "metadata": {},
     "execution_count": 138
    }
   ],
   "source": [
    "actividad_n_1_dim"
   ]
  },
  {
   "cell_type": "code",
   "execution_count": 139,
   "metadata": {},
   "outputs": [],
   "source": [
    "actividad_n_2_dim = dict(zip(pivot['actividad_n_2_id'].dropna().unique(), range(1, len(pivot['actividad_n_2_id'].dropna().unique()) + 1 )))\n",
    "pivot['actividad_n_2_id'].replace(actividad_n_2_dim, inplace=True)"
   ]
  },
  {
   "cell_type": "code",
   "execution_count": 140,
   "metadata": {},
   "outputs": [
    {
     "output_type": "execute_result",
     "data": {
      "text/plain": [
       "{'Actividades constantes que fomentan la apropiación social del espacio público y patrimonio cultural desde acciones artísticas y culturales': 1,\n",
       " 'Propuestas de desarrollo económico sostenible a partir de los activos culturales de una comunidad, en respeto con la identidad cultural local y su entorno': 2,\n",
       " 'Actividades constantes que desde el arte y la cultura atienden a poblaciones en condiciones de vulnerabilidad social': 3,\n",
       " 'Actividades que fortalecen las experiencias de trabajo en red y acción colaborativa que apuntan al empoderamiento de movimientos ciudadanos, incidencia y co-construcción de políticas públicas culturales que aporten al desarrollo social': 4,\n",
       " 'Otras actividades relacionadas al arte para la transformación social, desarrollados en el marco de la Ley N° 30487, Ley de promoción de los puntos de cultura': 5,\n",
       " 'Actividades que aportan al rescate, protección, visibilización o revitalización de los saberes ancestrales, tradiciones, identidad cultural y memoria de pueblos originarios, campesinos, indígenas, rurales y poblaciones afroperuanas': 6,\n",
       " 'Actividades que promueven el respeto a la diversidad de identidades y reconocimiento de derechos de poblaciones y/o colectivos que históricamente han sido vulnerados a partir de procesos de formación, activismo e incidencia que desde la cultura aporten al cambio social': 7,\n",
       " 'Otras actividades relacionadas al arte para la transformación social, desarrolladas en el marco de la Ley N° 30487, Ley de promoción de los puntos de cultura': 8}"
      ]
     },
     "metadata": {},
     "execution_count": 140
    }
   ],
   "source": [
    "actividad_n_2_dim"
   ]
  },
  {
   "cell_type": "code",
   "execution_count": 141,
   "metadata": {},
   "outputs": [],
   "source": [
    "manifestacion_n_1_dim = dict(zip(pivot['manifestacion_n_1_id'].dropna().unique(), range(1, len(pivot['manifestacion_n_1_id'].dropna().unique()) + 1 )))\n",
    "pivot['manifestacion_n_1_id'].replace(manifestacion_n_1_dim, inplace=True)"
   ]
  },
  {
   "cell_type": "code",
   "execution_count": 142,
   "metadata": {},
   "outputs": [],
   "source": [
    "manifestacion_n_2_dim = dict(zip(pivot['manifestacion_n_2_id'].dropna().unique(), range(1, len(pivot['manifestacion_n_2_id'].dropna().unique()) + 1 )))\n",
    "pivot['manifestacion_n_2_id'].replace(manifestacion_n_2_dim, inplace=True)"
   ]
  },
  {
   "cell_type": "code",
   "execution_count": 143,
   "metadata": {},
   "outputs": [],
   "source": [
    "manifestacion_n_3_dim = dict(zip(pivot['manifestacion_n_3_id'].dropna().unique(), range(1, len(pivot['manifestacion_n_3_id'].dropna().unique()) + 1 )))\n",
    "pivot['manifestacion_n_3_id'].replace(manifestacion_n_3_dim, inplace=True)"
   ]
  },
  {
   "cell_type": "code",
   "execution_count": 144,
   "metadata": {},
   "outputs": [],
   "source": [
    "inscrita_sunarp_dim = dict(zip(pivot['inscrita_sunarp_id'].dropna().unique(), range(1, len(pivot['inscrita_sunarp_id'].dropna().unique()) + 1 )))\n",
    "pivot['inscrita_sunarp_id'].replace(inscrita_sunarp_dim, inplace=True)"
   ]
  },
  {
   "cell_type": "code",
   "execution_count": 145,
   "metadata": {},
   "outputs": [
    {
     "output_type": "execute_result",
     "data": {
      "text/plain": [
       "{'SI': 1, 'NO': 2, 'No': 3}"
      ]
     },
     "metadata": {},
     "execution_count": 145
    }
   ],
   "source": [
    "inscrita_sunarp_dim"
   ]
  },
  {
   "cell_type": "code",
   "execution_count": 146,
   "metadata": {},
   "outputs": [
    {
     "output_type": "execute_result",
     "data": {
      "text/plain": [
       "{'Música': 1,\n",
       " 'Celebración de festividades, fiestas tradicionales y/o rituales': 2,\n",
       " 'Comunicaciones (periodismo, radio, podcast y/u otra)': 3,\n",
       " 'Tics, nuevos medios y/o videojuegos': 4,\n",
       " 'Deporte, recreación y/o juego': 5,\n",
       " 'Libro, lectura y/o escritura creativa': 6,\n",
       " 'Lengua de señas peruana y cultura sorda': 7,\n",
       " 'Artes visuales y artesanía': 8,\n",
       " 'Muralización': 9,\n",
       " 'Tradición oral propia de pueblos indígenas u originarios': 10,\n",
       " 'Investigación, libros, tradición, etc': 11,\n",
       " 'Comida / Gastronomía': 12,\n",
       " 'Enseñanza del inglés mediante el Teatro': 13,\n",
       " 'Artes escénicas - danza': 14,\n",
       " 'Gestión Museografia': 15,\n",
       " 'Formación de orientadores': 16,\n",
       " 'Medicina tradicional': 17,\n",
       " 'Capacitación para nuevos actores': 18,\n",
       " 'Arte Comunitario': 19,\n",
       " 'Performance - ópera hablada': 20,\n",
       " 'Foros, talleres, capacitaciones, workshops, clases maestras y charlas': 21,\n",
       " 'Audiovisuales - cine, video y/u otros': 22,\n",
       " 'Fortalecimiento de capacidades para organizaicones y agentes sociales y culturales, en pro de sus derechos humanos, sociales y culturales': 23,\n",
       " 'Capacitaciones pedagógicas en el área de Arte y Cultura': 24,\n",
       " 'Talleres de teatro': 25,\n",
       " 'Salud mental': 26,\n",
       " 'Festivales musicales': 27,\n",
       " 'Recreación e investigación traje histórico virreinato república': 28,\n",
       " 'Educación': 29,\n",
       " 'Artes plásticas y teatro (clown)': 30,\n",
       " 'Acciones formativas (talleres, capacitaciones, visitas, excursiones pedagógicas u otros)': 31,\n",
       " 'Animación/mediación sociocultural': 32,\n",
       " 'Mecanismos lúdicos culturales de participación ciudadana': 33,\n",
       " 'Encuentro de Músicos Lima Sur': 34,\n",
       " 'fotografía artesanal y artes visuales': 35,\n",
       " 'Investigación': 36,\n",
       " 'Festival de cine ambiental “sembrando cine” 10 ediciones': 37,\n",
       " 'Eventos autogestionados': 38,\n",
       " 'exposiciones de arte de artistas locales': 39,\n",
       " 'Declamación y creación de libreto/guiones de teatro': 40,\n",
       " 'Cineforos': 41,\n",
       " 'investigación de trajes típicos propios de danza': 42,\n",
       " 'Pedagogía de las artes': 43,\n",
       " 'Patrimonio histórico': 44,\n",
       " 'Capacitaciones por medio del arte': 45,\n",
       " 'Organización de festivales': 46,\n",
       " 'Artes escénicas- circo, teatro': 47,\n",
       " 'Gestión Cultural': 48,\n",
       " 'Cursos, Conversatorios, Conferencias, Asesoría y otros espacios generadores de conocimientos': 49,\n",
       " 'Arte Contemporáneo y Vanguardia en sinergia con las Ciencias Sociales': 50,\n",
       " 'Recuperación de espacios públicos a traves del arte urbano (Muralismo y Grafitti)': 51}"
      ]
     },
     "metadata": {},
     "execution_count": 146
    }
   ],
   "source": [
    "manifestacion_n_3_dim"
   ]
  },
  {
   "cell_type": "code",
   "execution_count": 147,
   "metadata": {},
   "outputs": [
    {
     "output_type": "error",
     "ename": "KeyError",
     "evalue": "\"['district_nameinscrita_sunarp_id'] not in index\"",
     "traceback": [
      "\u001b[1;31m---------------------------------------------------------------------------\u001b[0m",
      "\u001b[1;31mKeyError\u001b[0m                                  Traceback (most recent call last)",
      "\u001b[1;32m<ipython-input-147-8291cffbb70e>\u001b[0m in \u001b[0;36m<module>\u001b[1;34m\u001b[0m\n\u001b[0;32m      2\u001b[0m        \u001b[1;34m'inscrita_sunarp_id'\u001b[0m\u001b[1;33m,\u001b[0m \u001b[1;34m'actividad_n_1_id'\u001b[0m\u001b[1;33m,\u001b[0m \u001b[1;34m'actividad_n_2_id'\u001b[0m\u001b[1;33m,\u001b[0m\u001b[1;33m\u001b[0m\u001b[1;33m\u001b[0m\u001b[0m\n\u001b[0;32m      3\u001b[0m        \u001b[1;34m'manifestacion_n_1_id'\u001b[0m\u001b[1;33m,\u001b[0m \u001b[1;34m'manifestacion_n_2_id'\u001b[0m\u001b[1;33m,\u001b[0m \u001b[1;34m'manifestacion_n_3_id'\u001b[0m\u001b[1;33m,\u001b[0m\u001b[1;33m\u001b[0m\u001b[1;33m\u001b[0m\u001b[0m\n\u001b[1;32m----> 4\u001b[1;33m        'cantidad_asociacion']]\n\u001b[0m",
      "\u001b[1;32m~\\anaconda3\\envs\\tensorflow\\lib\\site-packages\\pandas\\core\\frame.py\u001b[0m in \u001b[0;36m__getitem__\u001b[1;34m(self, key)\u001b[0m\n\u001b[0;32m   2804\u001b[0m             \u001b[1;32mif\u001b[0m \u001b[0mis_iterator\u001b[0m\u001b[1;33m(\u001b[0m\u001b[0mkey\u001b[0m\u001b[1;33m)\u001b[0m\u001b[1;33m:\u001b[0m\u001b[1;33m\u001b[0m\u001b[1;33m\u001b[0m\u001b[0m\n\u001b[0;32m   2805\u001b[0m                 \u001b[0mkey\u001b[0m \u001b[1;33m=\u001b[0m \u001b[0mlist\u001b[0m\u001b[1;33m(\u001b[0m\u001b[0mkey\u001b[0m\u001b[1;33m)\u001b[0m\u001b[1;33m\u001b[0m\u001b[1;33m\u001b[0m\u001b[0m\n\u001b[1;32m-> 2806\u001b[1;33m             \u001b[0mindexer\u001b[0m \u001b[1;33m=\u001b[0m \u001b[0mself\u001b[0m\u001b[1;33m.\u001b[0m\u001b[0mloc\u001b[0m\u001b[1;33m.\u001b[0m\u001b[0m_get_listlike_indexer\u001b[0m\u001b[1;33m(\u001b[0m\u001b[0mkey\u001b[0m\u001b[1;33m,\u001b[0m \u001b[0maxis\u001b[0m\u001b[1;33m=\u001b[0m\u001b[1;36m1\u001b[0m\u001b[1;33m,\u001b[0m \u001b[0mraise_missing\u001b[0m\u001b[1;33m=\u001b[0m\u001b[1;32mTrue\u001b[0m\u001b[1;33m)\u001b[0m\u001b[1;33m[\u001b[0m\u001b[1;36m1\u001b[0m\u001b[1;33m]\u001b[0m\u001b[1;33m\u001b[0m\u001b[1;33m\u001b[0m\u001b[0m\n\u001b[0m\u001b[0;32m   2807\u001b[0m \u001b[1;33m\u001b[0m\u001b[0m\n\u001b[0;32m   2808\u001b[0m         \u001b[1;31m# take() does not accept boolean indexers\u001b[0m\u001b[1;33m\u001b[0m\u001b[1;33m\u001b[0m\u001b[1;33m\u001b[0m\u001b[0m\n",
      "\u001b[1;32m~\\anaconda3\\envs\\tensorflow\\lib\\site-packages\\pandas\\core\\indexing.py\u001b[0m in \u001b[0;36m_get_listlike_indexer\u001b[1;34m(self, key, axis, raise_missing)\u001b[0m\n\u001b[0;32m   1551\u001b[0m \u001b[1;33m\u001b[0m\u001b[0m\n\u001b[0;32m   1552\u001b[0m         self._validate_read_indexer(\n\u001b[1;32m-> 1553\u001b[1;33m             \u001b[0mkeyarr\u001b[0m\u001b[1;33m,\u001b[0m \u001b[0mindexer\u001b[0m\u001b[1;33m,\u001b[0m \u001b[0mo\u001b[0m\u001b[1;33m.\u001b[0m\u001b[0m_get_axis_number\u001b[0m\u001b[1;33m(\u001b[0m\u001b[0maxis\u001b[0m\u001b[1;33m)\u001b[0m\u001b[1;33m,\u001b[0m \u001b[0mraise_missing\u001b[0m\u001b[1;33m=\u001b[0m\u001b[0mraise_missing\u001b[0m\u001b[1;33m\u001b[0m\u001b[1;33m\u001b[0m\u001b[0m\n\u001b[0m\u001b[0;32m   1554\u001b[0m         )\n\u001b[0;32m   1555\u001b[0m         \u001b[1;32mreturn\u001b[0m \u001b[0mkeyarr\u001b[0m\u001b[1;33m,\u001b[0m \u001b[0mindexer\u001b[0m\u001b[1;33m\u001b[0m\u001b[1;33m\u001b[0m\u001b[0m\n",
      "\u001b[1;32m~\\anaconda3\\envs\\tensorflow\\lib\\site-packages\\pandas\\core\\indexing.py\u001b[0m in \u001b[0;36m_validate_read_indexer\u001b[1;34m(self, key, indexer, axis, raise_missing)\u001b[0m\n\u001b[0;32m   1644\u001b[0m             \u001b[1;32mif\u001b[0m \u001b[1;32mnot\u001b[0m \u001b[1;33m(\u001b[0m\u001b[0mself\u001b[0m\u001b[1;33m.\u001b[0m\u001b[0mname\u001b[0m \u001b[1;33m==\u001b[0m \u001b[1;34m\"loc\"\u001b[0m \u001b[1;32mand\u001b[0m \u001b[1;32mnot\u001b[0m \u001b[0mraise_missing\u001b[0m\u001b[1;33m)\u001b[0m\u001b[1;33m:\u001b[0m\u001b[1;33m\u001b[0m\u001b[1;33m\u001b[0m\u001b[0m\n\u001b[0;32m   1645\u001b[0m                 \u001b[0mnot_found\u001b[0m \u001b[1;33m=\u001b[0m \u001b[0mlist\u001b[0m\u001b[1;33m(\u001b[0m\u001b[0mset\u001b[0m\u001b[1;33m(\u001b[0m\u001b[0mkey\u001b[0m\u001b[1;33m)\u001b[0m \u001b[1;33m-\u001b[0m \u001b[0mset\u001b[0m\u001b[1;33m(\u001b[0m\u001b[0max\u001b[0m\u001b[1;33m)\u001b[0m\u001b[1;33m)\u001b[0m\u001b[1;33m\u001b[0m\u001b[1;33m\u001b[0m\u001b[0m\n\u001b[1;32m-> 1646\u001b[1;33m                 \u001b[1;32mraise\u001b[0m \u001b[0mKeyError\u001b[0m\u001b[1;33m(\u001b[0m\u001b[1;34mf\"{not_found} not in index\"\u001b[0m\u001b[1;33m)\u001b[0m\u001b[1;33m\u001b[0m\u001b[1;33m\u001b[0m\u001b[0m\n\u001b[0m\u001b[0;32m   1647\u001b[0m \u001b[1;33m\u001b[0m\u001b[0m\n\u001b[0;32m   1648\u001b[0m             \u001b[1;31m# we skip the warning on Categorical/Interval\u001b[0m\u001b[1;33m\u001b[0m\u001b[1;33m\u001b[0m\u001b[1;33m\u001b[0m\u001b[0m\n",
      "\u001b[1;31mKeyError\u001b[0m: \"['district_nameinscrita_sunarp_id'] not in index\""
     ]
    }
   ],
   "source": [
    "df1 = pivot[['codigo_asociacion','district_name'\n",
    "       'inscrita_sunarp_id', 'actividad_n_1_id', 'actividad_n_2_id',\n",
    "       'manifestacion_n_1_id', 'manifestacion_n_2_id', 'manifestacion_n_3_id',\n",
    "       'cantidad_asociacion']]"
   ]
  },
  {
   "cell_type": "code",
   "execution_count": 148,
   "metadata": {},
   "outputs": [
    {
     "output_type": "error",
     "ename": "NameError",
     "evalue": "name 'df1' is not defined",
     "traceback": [
      "\u001b[1;31m---------------------------------------------------------------------------\u001b[0m",
      "\u001b[1;31mNameError\u001b[0m                                 Traceback (most recent call last)",
      "\u001b[1;32m<ipython-input-148-6a861a8b3f1a>\u001b[0m in \u001b[0;36m<module>\u001b[1;34m\u001b[0m\n\u001b[1;32m----> 1\u001b[1;33m \u001b[0mdf1\u001b[0m\u001b[1;33m\u001b[0m\u001b[1;33m\u001b[0m\u001b[0m\n\u001b[0m",
      "\u001b[1;31mNameError\u001b[0m: name 'df1' is not defined"
     ]
    }
   ],
   "source": [
    "df1"
   ]
  },
  {
   "cell_type": "code",
   "execution_count": 134,
   "metadata": {},
   "outputs": [],
   "source": [
    "##### Registro cinematografico nacional"
   ]
  },
  {
   "cell_type": "code",
   "execution_count": 304,
   "metadata": {},
   "outputs": [],
   "source": [
    "## solo hay 1268 registros\n",
    "\n",
    "datasets[2] = datasets[2][0:1267]"
   ]
  },
  {
   "cell_type": "code",
   "execution_count": 305,
   "metadata": {},
   "outputs": [],
   "source": [
    "beta = datasets[2][['AÑO INSCRIPCIÓN',\n",
    "       'TIPO DE CONSTITUCIÓN', 'RAZON SOCIAL ',\n",
    "       'Actividad_1', 'Actividad_2', 'Actividad_3', 'Actividad_4',\n",
    "       'DISTRITO']]"
   ]
  },
  {
   "cell_type": "code",
   "execution_count": 306,
   "metadata": {},
   "outputs": [
    {
     "output_type": "execute_result",
     "data": {
      "text/plain": [
       "Index(['AÑO INSCRIPCIÓN', 'TIPO DE CONSTITUCIÓN', 'RAZON SOCIAL ',\n",
       "       'Actividad_1', 'Actividad_2', 'Actividad_3', 'Actividad_4', 'DISTRITO'],\n",
       "      dtype='object')"
      ]
     },
     "metadata": {},
     "execution_count": 306
    }
   ],
   "source": [
    "beta.columns"
   ]
  },
  {
   "cell_type": "code",
   "execution_count": 307,
   "metadata": {},
   "outputs": [],
   "source": [
    "beta = beta.rename(columns={'AÑO INSCRIPCIÓN' : \"anio_inscripcion\",\"TIPO DE CONSTITUCIÓN\" : \"tipo_constitucion_id\",\"RAZON SOCIAL \" : \"razon_social_id\", \"Actividad_1\" : \"actividad_1_id\",\"Actividad_2\":\"actividad_2_id\", \"Actividad_3\":\"actividad_3_id\", \"Actividad_4\":\"actividad_4_id\",\"DISTRITO\":\"district_name\"})"
   ]
  },
  {
   "cell_type": "code",
   "execution_count": 308,
   "metadata": {},
   "outputs": [],
   "source": [
    "beta['cantidad_org'] = 1"
   ]
  },
  {
   "cell_type": "code",
   "execution_count": 309,
   "metadata": {},
   "outputs": [
    {
     "output_type": "execute_result",
     "data": {
      "text/plain": [
       "['Cerro colorado',\n",
       " 'Huáchac',\n",
       " 'Callería',\n",
       " '-',\n",
       " 'Raimondi',\n",
       " 'Huánuco',\n",
       " 'Villa el Salvador',\n",
       " 'Samuel Pastor ',\n",
       " 'Cineguilla',\n",
       " 'José Luis Bustamante y Rivero',\n",
       " 'Ate ',\n",
       " 'San Sebastián',\n",
       " 'San Borja ',\n",
       " 'Lurín',\n",
       " 'Huangáscar',\n",
       " 'Veintiséis de Octubre',\n",
       " 'Rimac',\n",
       " 'Santa anita',\n",
       " 'La Victoria ',\n",
       " 'San borja ',\n",
       " 'Santa anita ',\n",
       " 'San Vicente',\n",
       " 'San Miguel ',\n",
       " 'Miraflores ',\n",
       " 'Comas ',\n",
       " 'Barranco ',\n",
       " 'Cusco ',\n",
       " 'Santiago  ',\n",
       " 'Santa María Del Mar',\n",
       " 'La banda de Shilcayo',\n",
       " 'Juliaca ',\n",
       " 'Ayacucho ',\n",
       " 'Cercado',\n",
       " 'Juliana',\n",
       " 'Cercado de Lima',\n",
       " nan]"
      ]
     },
     "metadata": {},
     "execution_count": 309
    }
   ],
   "source": [
    "[x for x in beta['district_name'].unique() if x not in ubigeo['district_name'].unique()]"
   ]
  },
  {
   "cell_type": "code",
   "execution_count": 310,
   "metadata": {},
   "outputs": [],
   "source": [
    "DISTRICT_REPLACE_2 = {\n",
    "'Cerro colorado' : \"Cerro Colorado\",\n",
    " 'Huáchac' : \"Huachac\",\n",
    " 'Calleria ' : \"Calleria\",\n",
    " '-' : np.nan,\n",
    " 'Raimondi' : \"Raymondi\",\n",
    " 'Huánuco' : \"Huanuco\",\n",
    " 'Villa el Salvador' : \"Villa El Salvador\",\n",
    " 'Samuel Pastor ' : \"Samuel Pastor\",\n",
    " 'Cineguilla' : \"Cieneguilla\",\n",
    " 'José Luis Bustamante y Rivero' : \"José Luis Bustamante Y Rivero\",\n",
    " 'Ate ' : \"Ate\",\n",
    " 'San Sebastián' : \"San Sebastian\",\n",
    " 'San Borja ' : \"San Borja\",\n",
    " 'Lurín' : \"Lurin\",\n",
    " 'Huangáscar' : \"Huangascar\",\n",
    " 'Veintiséis de Octubre' : \"Veintiseis de Octubre\",\n",
    " 'Rimac' : \"Rímac\",\n",
    " 'Santa anita' : \"Santa Anita\",\n",
    " 'La Victoria ' : \"La Victoria\",\n",
    " 'San borja ' : \"San Borja\",\n",
    " 'Santa anita ' : \"Santa Anita\",\n",
    " 'San Vicente' : \"San Vicente de Cañete\",\n",
    " 'San Miguel ' : \"San Miguel\",\n",
    " 'Miraflores ' : \"Miraflores\",\n",
    " 'Comas ' : \"Comas\",\n",
    " 'Barranco ' : \"Barranco\",\n",
    " 'Cusco ' : \"Cusco\",\n",
    " 'Santiago  ' : \"Santiago\",\n",
    " 'Santa María Del Mar' : \"Santa María del Mar\",\n",
    " 'La banda de Shilcayo' : \"La Banda de Shilcayo\",\n",
    " 'Juliaca ' : \"Juliaca\",\n",
    " 'Ayacucho ' : \"Ayacucho\",\n",
    " 'Cercado' : \"Lima\",\n",
    " 'Juliana' : \"Juliaca\",\n",
    " 'Cercado de Lima' : \"Lima\",\n",
    "\n",
    "\n",
    "}"
   ]
  },
  {
   "cell_type": "code",
   "execution_count": 311,
   "metadata": {},
   "outputs": [],
   "source": [
    "beta['district_name'] = beta['district_name'].replace(DISTRICT_REPLACE_2)"
   ]
  },
  {
   "cell_type": "code",
   "execution_count": 312,
   "metadata": {},
   "outputs": [],
   "source": [
    "beta['tipo_constitucion_id'] = beta['tipo_constitucion_id'].replace(\"Empresa \", \"Empresa\")"
   ]
  },
  {
   "cell_type": "code",
   "execution_count": 313,
   "metadata": {},
   "outputs": [],
   "source": [
    "beta = beta[beta['district_name'].notna()]"
   ]
  },
  {
   "cell_type": "code",
   "execution_count": 314,
   "metadata": {},
   "outputs": [],
   "source": [
    "beta = beta[beta['anio_inscripcion'] != \"ND\"]"
   ]
  },
  {
   "cell_type": "code",
   "execution_count": 315,
   "metadata": {},
   "outputs": [
    {
     "output_type": "execute_result",
     "data": {
      "text/plain": [
       "     anio_inscripcion tipo_constitucion_id  \\\n",
       "234              2018              EMPRESA   \n",
       "235              2004              EMPRESA   \n",
       "236              2012              EMPRESA   \n",
       "237              2012              EMPRESA   \n",
       "238              2012              EMPRESA   \n",
       "...               ...                  ...   \n",
       "1262             2020              EMPRESA   \n",
       "1263             2020              EMPRESA   \n",
       "1264             2020              EMPRESA   \n",
       "1265             2020              EMPRESA   \n",
       "1266             2020              EMPRESA   \n",
       "\n",
       "                                       razon_social_id actividad_1_id  \\\n",
       "234   Ave Fantasma Productora Cinematográfica E.I.R.L.     Productora   \n",
       "235                       Aguardiente Producciones SAC     Productora   \n",
       "236                             Abril Producciones SAC     Productora   \n",
       "237                   Aldea Digital Comunicaciones SAC     Productora   \n",
       "238                                    Alelo Films SAC     Productora   \n",
       "...                                                ...            ...   \n",
       "1262                          Colmena Estudia E.I.R.L.     Productora   \n",
       "1263                        Tambo Productions E.I.R.L.     Productora   \n",
       "1264                Peruana de Realización Audiovisual     Productora   \n",
       "1265                                   Vuyana E.I.R.L.     Productora   \n",
       "1266           Asociación Cultural Microcine Yuyanapaq     Productora   \n",
       "\n",
       "     actividad_2_id actividad_3_id actividad_4_id            district_name  \\\n",
       "234             NaN            NaN            NaN                     Lima   \n",
       "235             NaN            NaN            NaN              Jesús María   \n",
       "236             NaN            NaN            NaN               Miraflores   \n",
       "237             NaN            NaN            NaN        Villa El Salvador   \n",
       "238             NaN            NaN            NaN                Surquillo   \n",
       "...             ...            ...            ...                      ...   \n",
       "1262            NaN            NaN            NaN  Villa María del Triunfo   \n",
       "1263            NaN            NaN            NaN                 Barranco   \n",
       "1264            NaN            NaN            NaN             Pueblo Libre   \n",
       "1265            NaN            NaN            NaN             La Esperanza   \n",
       "1266            NaN            NaN            NaN  Villa María del Triunfo   \n",
       "\n",
       "      cantidad_org  \n",
       "234              1  \n",
       "235              1  \n",
       "236              1  \n",
       "237              1  \n",
       "238              1  \n",
       "...            ...  \n",
       "1262             1  \n",
       "1263             1  \n",
       "1264             1  \n",
       "1265             1  \n",
       "1266             1  \n",
       "\n",
       "[1032 rows x 9 columns]"
      ],
      "text/html": "<div>\n<style scoped>\n    .dataframe tbody tr th:only-of-type {\n        vertical-align: middle;\n    }\n\n    .dataframe tbody tr th {\n        vertical-align: top;\n    }\n\n    .dataframe thead th {\n        text-align: right;\n    }\n</style>\n<table border=\"1\" class=\"dataframe\">\n  <thead>\n    <tr style=\"text-align: right;\">\n      <th></th>\n      <th>anio_inscripcion</th>\n      <th>tipo_constitucion_id</th>\n      <th>razon_social_id</th>\n      <th>actividad_1_id</th>\n      <th>actividad_2_id</th>\n      <th>actividad_3_id</th>\n      <th>actividad_4_id</th>\n      <th>district_name</th>\n      <th>cantidad_org</th>\n    </tr>\n  </thead>\n  <tbody>\n    <tr>\n      <th>234</th>\n      <td>2018</td>\n      <td>EMPRESA</td>\n      <td>Ave Fantasma Productora Cinematográfica E.I.R.L.</td>\n      <td>Productora</td>\n      <td>NaN</td>\n      <td>NaN</td>\n      <td>NaN</td>\n      <td>Lima</td>\n      <td>1</td>\n    </tr>\n    <tr>\n      <th>235</th>\n      <td>2004</td>\n      <td>EMPRESA</td>\n      <td>Aguardiente Producciones SAC</td>\n      <td>Productora</td>\n      <td>NaN</td>\n      <td>NaN</td>\n      <td>NaN</td>\n      <td>Jesús María</td>\n      <td>1</td>\n    </tr>\n    <tr>\n      <th>236</th>\n      <td>2012</td>\n      <td>EMPRESA</td>\n      <td>Abril Producciones SAC</td>\n      <td>Productora</td>\n      <td>NaN</td>\n      <td>NaN</td>\n      <td>NaN</td>\n      <td>Miraflores</td>\n      <td>1</td>\n    </tr>\n    <tr>\n      <th>237</th>\n      <td>2012</td>\n      <td>EMPRESA</td>\n      <td>Aldea Digital Comunicaciones SAC</td>\n      <td>Productora</td>\n      <td>NaN</td>\n      <td>NaN</td>\n      <td>NaN</td>\n      <td>Villa El Salvador</td>\n      <td>1</td>\n    </tr>\n    <tr>\n      <th>238</th>\n      <td>2012</td>\n      <td>EMPRESA</td>\n      <td>Alelo Films SAC</td>\n      <td>Productora</td>\n      <td>NaN</td>\n      <td>NaN</td>\n      <td>NaN</td>\n      <td>Surquillo</td>\n      <td>1</td>\n    </tr>\n    <tr>\n      <th>...</th>\n      <td>...</td>\n      <td>...</td>\n      <td>...</td>\n      <td>...</td>\n      <td>...</td>\n      <td>...</td>\n      <td>...</td>\n      <td>...</td>\n      <td>...</td>\n    </tr>\n    <tr>\n      <th>1262</th>\n      <td>2020</td>\n      <td>EMPRESA</td>\n      <td>Colmena Estudia E.I.R.L.</td>\n      <td>Productora</td>\n      <td>NaN</td>\n      <td>NaN</td>\n      <td>NaN</td>\n      <td>Villa María del Triunfo</td>\n      <td>1</td>\n    </tr>\n    <tr>\n      <th>1263</th>\n      <td>2020</td>\n      <td>EMPRESA</td>\n      <td>Tambo Productions E.I.R.L.</td>\n      <td>Productora</td>\n      <td>NaN</td>\n      <td>NaN</td>\n      <td>NaN</td>\n      <td>Barranco</td>\n      <td>1</td>\n    </tr>\n    <tr>\n      <th>1264</th>\n      <td>2020</td>\n      <td>EMPRESA</td>\n      <td>Peruana de Realización Audiovisual</td>\n      <td>Productora</td>\n      <td>NaN</td>\n      <td>NaN</td>\n      <td>NaN</td>\n      <td>Pueblo Libre</td>\n      <td>1</td>\n    </tr>\n    <tr>\n      <th>1265</th>\n      <td>2020</td>\n      <td>EMPRESA</td>\n      <td>Vuyana E.I.R.L.</td>\n      <td>Productora</td>\n      <td>NaN</td>\n      <td>NaN</td>\n      <td>NaN</td>\n      <td>La Esperanza</td>\n      <td>1</td>\n    </tr>\n    <tr>\n      <th>1266</th>\n      <td>2020</td>\n      <td>EMPRESA</td>\n      <td>Asociación Cultural Microcine Yuyanapaq</td>\n      <td>Productora</td>\n      <td>NaN</td>\n      <td>NaN</td>\n      <td>NaN</td>\n      <td>Villa María del Triunfo</td>\n      <td>1</td>\n    </tr>\n  </tbody>\n</table>\n<p>1032 rows × 9 columns</p>\n</div>"
     },
     "metadata": {},
     "execution_count": 315
    }
   ],
   "source": [
    "beta"
   ]
  },
  {
   "cell_type": "code",
   "execution_count": 316,
   "metadata": {},
   "outputs": [],
   "source": [
    "  for column in ['tipo_constitucion_id']:\n",
    "\n",
    "            beta[column] = beta[column].str.strip()"
   ]
  },
  {
   "cell_type": "code",
   "execution_count": 317,
   "metadata": {},
   "outputs": [],
   "source": [
    "#tipo_constitucion_dim = dict(zip(beta['tipo_constitucion_id'].dropna().unique(), range(1, len(beta['tipo_constitucion_id']#.dropna().unique()) + 1 )))\n",
    "#beta['tipo_constitucion_id'].replace(tipo_constitucion_dim, inplace=True)\n",
    "#\n",
    "#razon_social_dim = dict(zip(beta['razon_social_id'].dropna().unique(), range(1, len(beta['razon_social_id'].dropna()#.unique()) + 1 )))\n",
    "#beta['razon_social_id'].replace(razon_social_dim, inplace=True)\n",
    "#\n",
    "#actividad_1_dim = dict(zip(beta['actividad_1_id'].dropna().unique(), range(1, len(beta['actividad_1_id'].dropna().unique()#) + 1 )))\n",
    "#beta['actividad_1_id'].replace(actividad_1_dim, inplace=True)\n",
    "#\n",
    "#actividad_2_dim = dict(zip(beta['actividad_2_id'].dropna().unique(), range(1, len(beta['actividad_2_id'].dropna().unique()#) + 1 )))\n",
    "#beta['actividad_2_id'].replace(actividad_2_dim, inplace=True)\n",
    "#\n",
    "#actividad_3_dim = dict(zip(beta['actividad_3_id'].dropna().unique(), range(1, len(beta['actividad_3_id'].dropna().unique()#) + 1 )))\n",
    "#beta['actividad_3_id'].replace(actividad_3_dim, inplace=True)"
   ]
  },
  {
   "cell_type": "code",
   "execution_count": 318,
   "metadata": {},
   "outputs": [
    {
     "output_type": "execute_result",
     "data": {
      "text/plain": [
       "{'EMPRESA': 1, 'ASOCIACIÓN': 2}"
      ]
     },
     "metadata": {},
     "execution_count": 318
    }
   ],
   "source": [
    "tipo_constitucion_dim"
   ]
  },
  {
   "cell_type": "code",
   "execution_count": 319,
   "metadata": {},
   "outputs": [],
   "source": [
    "razon_social_dim = dict(zip(beta['razon_social_id'].dropna().unique(), range(1, len(beta['razon_social_id'].dropna().unique()) + 1 )))\n",
    "beta['razon_social_id'].replace(razon_social_dim, inplace=True)"
   ]
  },
  {
   "cell_type": "code",
   "execution_count": 320,
   "metadata": {},
   "outputs": [],
   "source": [
    "actividad_1_dim = dict(zip(beta['actividad_1_id'].dropna().unique(), range(1, len(beta['actividad_1_id'].dropna().unique()) + 1 )))\n",
    "beta['actividad_1_id'].replace(actividad_1_dim, inplace=True)\n"
   ]
  },
  {
   "cell_type": "code",
   "execution_count": 321,
   "metadata": {},
   "outputs": [
    {
     "output_type": "execute_result",
     "data": {
      "text/plain": [
       "{'Productora': 1,\n",
       " 'Servicios conexos': 2,\n",
       " 'Exhibidora': 3,\n",
       " 'Distribuidora': 4,\n",
       " 'Formación': 5}"
      ]
     },
     "metadata": {},
     "execution_count": 321
    }
   ],
   "source": [
    "actividad_1_dim"
   ]
  },
  {
   "cell_type": "code",
   "execution_count": 322,
   "metadata": {},
   "outputs": [
    {
     "output_type": "execute_result",
     "data": {
      "text/plain": [
       "{'Servicios conexos': 1, 'Distribuidora': 2, 'Exhibidora': 3}"
      ]
     },
     "metadata": {},
     "execution_count": 322
    }
   ],
   "source": [
    "actividad_2_dim = dict(zip(beta['actividad_2_id'].dropna().unique(), range(1, len(beta['actividad_2_id'].dropna().unique()) + 1 )))\n",
    "beta['actividad_2_id'].replace(actividad_2_dim, inplace=True)\n",
    "actividad_2_dim"
   ]
  },
  {
   "cell_type": "code",
   "execution_count": 323,
   "metadata": {},
   "outputs": [
    {
     "output_type": "execute_result",
     "data": {
      "text/plain": [
       "{'Distribuidora': 1}"
      ]
     },
     "metadata": {},
     "execution_count": 323
    }
   ],
   "source": [
    "actividad_3_dim = dict(zip(beta['actividad_3_id'].dropna().unique(), range(1, len(beta['actividad_3_id'].dropna().unique()) + 1 )))\n",
    "beta['actividad_3_id'].replace(actividad_3_dim, inplace=True)\n",
    "actividad_3_dim"
   ]
  },
  {
   "cell_type": "code",
   "execution_count": 324,
   "metadata": {},
   "outputs": [
    {
     "output_type": "execute_result",
     "data": {
      "text/plain": [
       "{'Servicios conexos': 1}"
      ]
     },
     "metadata": {},
     "execution_count": 324
    }
   ],
   "source": [
    "actividad_4_dim = dict(zip(beta['actividad_4_id'].dropna().unique(), range(1, len(beta['actividad_4_id'].dropna().unique()) + 1 )))\n",
    "beta['actividad_4_id'].replace(actividad_4_dim, inplace=True)\n",
    "actividad_4_dim"
   ]
  },
  {
   "cell_type": "code",
   "execution_count": 325,
   "metadata": {},
   "outputs": [
    {
     "output_type": "execute_result",
     "data": {
      "text/plain": [
       "     anio_inscripcion tipo_constitucion_id  razon_social_id  actividad_1_id  \\\n",
       "234              2018              EMPRESA                1               1   \n",
       "235              2004              EMPRESA                2               1   \n",
       "236              2012              EMPRESA                3               1   \n",
       "237              2012              EMPRESA                4               1   \n",
       "238              2012              EMPRESA                5               1   \n",
       "...               ...                  ...              ...             ...   \n",
       "1262             2020              EMPRESA             1025               1   \n",
       "1263             2020              EMPRESA             1026               1   \n",
       "1264             2020              EMPRESA             1027               1   \n",
       "1265             2020              EMPRESA             1028               1   \n",
       "1266             2020              EMPRESA             1029               1   \n",
       "\n",
       "      actividad_2_id  actividad_3_id  actividad_4_id            district_name  \\\n",
       "234              NaN             NaN             NaN                     Lima   \n",
       "235              NaN             NaN             NaN              Jesús María   \n",
       "236              NaN             NaN             NaN               Miraflores   \n",
       "237              NaN             NaN             NaN        Villa El Salvador   \n",
       "238              NaN             NaN             NaN                Surquillo   \n",
       "...              ...             ...             ...                      ...   \n",
       "1262             NaN             NaN             NaN  Villa María del Triunfo   \n",
       "1263             NaN             NaN             NaN                 Barranco   \n",
       "1264             NaN             NaN             NaN             Pueblo Libre   \n",
       "1265             NaN             NaN             NaN             La Esperanza   \n",
       "1266             NaN             NaN             NaN  Villa María del Triunfo   \n",
       "\n",
       "      cantidad_org  \n",
       "234              1  \n",
       "235              1  \n",
       "236              1  \n",
       "237              1  \n",
       "238              1  \n",
       "...            ...  \n",
       "1262             1  \n",
       "1263             1  \n",
       "1264             1  \n",
       "1265             1  \n",
       "1266             1  \n",
       "\n",
       "[1032 rows x 9 columns]"
      ],
      "text/html": "<div>\n<style scoped>\n    .dataframe tbody tr th:only-of-type {\n        vertical-align: middle;\n    }\n\n    .dataframe tbody tr th {\n        vertical-align: top;\n    }\n\n    .dataframe thead th {\n        text-align: right;\n    }\n</style>\n<table border=\"1\" class=\"dataframe\">\n  <thead>\n    <tr style=\"text-align: right;\">\n      <th></th>\n      <th>anio_inscripcion</th>\n      <th>tipo_constitucion_id</th>\n      <th>razon_social_id</th>\n      <th>actividad_1_id</th>\n      <th>actividad_2_id</th>\n      <th>actividad_3_id</th>\n      <th>actividad_4_id</th>\n      <th>district_name</th>\n      <th>cantidad_org</th>\n    </tr>\n  </thead>\n  <tbody>\n    <tr>\n      <th>234</th>\n      <td>2018</td>\n      <td>EMPRESA</td>\n      <td>1</td>\n      <td>1</td>\n      <td>NaN</td>\n      <td>NaN</td>\n      <td>NaN</td>\n      <td>Lima</td>\n      <td>1</td>\n    </tr>\n    <tr>\n      <th>235</th>\n      <td>2004</td>\n      <td>EMPRESA</td>\n      <td>2</td>\n      <td>1</td>\n      <td>NaN</td>\n      <td>NaN</td>\n      <td>NaN</td>\n      <td>Jesús María</td>\n      <td>1</td>\n    </tr>\n    <tr>\n      <th>236</th>\n      <td>2012</td>\n      <td>EMPRESA</td>\n      <td>3</td>\n      <td>1</td>\n      <td>NaN</td>\n      <td>NaN</td>\n      <td>NaN</td>\n      <td>Miraflores</td>\n      <td>1</td>\n    </tr>\n    <tr>\n      <th>237</th>\n      <td>2012</td>\n      <td>EMPRESA</td>\n      <td>4</td>\n      <td>1</td>\n      <td>NaN</td>\n      <td>NaN</td>\n      <td>NaN</td>\n      <td>Villa El Salvador</td>\n      <td>1</td>\n    </tr>\n    <tr>\n      <th>238</th>\n      <td>2012</td>\n      <td>EMPRESA</td>\n      <td>5</td>\n      <td>1</td>\n      <td>NaN</td>\n      <td>NaN</td>\n      <td>NaN</td>\n      <td>Surquillo</td>\n      <td>1</td>\n    </tr>\n    <tr>\n      <th>...</th>\n      <td>...</td>\n      <td>...</td>\n      <td>...</td>\n      <td>...</td>\n      <td>...</td>\n      <td>...</td>\n      <td>...</td>\n      <td>...</td>\n      <td>...</td>\n    </tr>\n    <tr>\n      <th>1262</th>\n      <td>2020</td>\n      <td>EMPRESA</td>\n      <td>1025</td>\n      <td>1</td>\n      <td>NaN</td>\n      <td>NaN</td>\n      <td>NaN</td>\n      <td>Villa María del Triunfo</td>\n      <td>1</td>\n    </tr>\n    <tr>\n      <th>1263</th>\n      <td>2020</td>\n      <td>EMPRESA</td>\n      <td>1026</td>\n      <td>1</td>\n      <td>NaN</td>\n      <td>NaN</td>\n      <td>NaN</td>\n      <td>Barranco</td>\n      <td>1</td>\n    </tr>\n    <tr>\n      <th>1264</th>\n      <td>2020</td>\n      <td>EMPRESA</td>\n      <td>1027</td>\n      <td>1</td>\n      <td>NaN</td>\n      <td>NaN</td>\n      <td>NaN</td>\n      <td>Pueblo Libre</td>\n      <td>1</td>\n    </tr>\n    <tr>\n      <th>1265</th>\n      <td>2020</td>\n      <td>EMPRESA</td>\n      <td>1028</td>\n      <td>1</td>\n      <td>NaN</td>\n      <td>NaN</td>\n      <td>NaN</td>\n      <td>La Esperanza</td>\n      <td>1</td>\n    </tr>\n    <tr>\n      <th>1266</th>\n      <td>2020</td>\n      <td>EMPRESA</td>\n      <td>1029</td>\n      <td>1</td>\n      <td>NaN</td>\n      <td>NaN</td>\n      <td>NaN</td>\n      <td>Villa María del Triunfo</td>\n      <td>1</td>\n    </tr>\n  </tbody>\n</table>\n<p>1032 rows × 9 columns</p>\n</div>"
     },
     "metadata": {},
     "execution_count": 325
    }
   ],
   "source": [
    "beta"
   ]
  },
  {
   "cell_type": "code",
   "execution_count": 326,
   "metadata": {},
   "outputs": [
    {
     "output_type": "execute_result",
     "data": {
      "text/plain": [
       "   Nro Dirección                                        EEC  \\\n",
       "0  1.0      DAFO  C01. Proyectos de Largometraje de Ficción   \n",
       "1  2.0      DAFO  C01. Proyectos de Largometraje de Ficción   \n",
       "2  3.0      DAFO  C01. Proyectos de Largometraje de Ficción   \n",
       "3  4.0      DAFO  C01. Proyectos de Largometraje de Ficción   \n",
       "4  5.0      DAFO  C01. Proyectos de Largometraje de Ficción   \n",
       "\n",
       "  Fase de cadena de valor_E Nro de proyecto      Expediente  \\\n",
       "0             3. Producción   Proyecto 0001  CFN-2-P-001-19   \n",
       "1             3. Producción   Proyecto 0002  CFN-2-P-002-19   \n",
       "2             3. Producción   Proyecto 0003  CFN-2-P-004-19   \n",
       "3             3. Producción   Proyecto 0004  CFN-2-P-005-19   \n",
       "4             3. Producción   Proyecto 0005  CFN-2-P-006-19   \n",
       "\n",
       "       Nombre del proyecto Tipo de Postulante  \\\n",
       "0         Vallejo Inmortal   Persona Jurídica   \n",
       "1                   Mamita   Persona Jurídica   \n",
       "2            Dos Estrellas   Persona Jurídica   \n",
       "3                     CERO   Persona Jurídica   \n",
       "4  CENEPA 1995, El Legado.   Persona Jurídica   \n",
       "\n",
       "                                          Postulante  N° RUC DNI_Postulante  \\\n",
       "0                             MALVADO FILMS E.I.R.L.     NaN            NaN   \n",
       "1                                      ESFENA S.A.C.     NaN            NaN   \n",
       "2                   GALLINAZOS COMUNICACIONES S.A.C.     NaN            NaN   \n",
       "3  CAMAL ESTUDIO CREATIVO SOCIEDAD COMERCIAL DE R...     NaN            NaN   \n",
       "4                   EMPRENDECINE PRODUCCIONES S.A.C.     NaN            NaN   \n",
       "\n",
       "   País Región Provincia           Distrito  Estado revisado  \n",
       "0  PERÚ   LIMA      LIMA         MIRAFLORES  No beneficiario  \n",
       "1  PERÚ   LIMA      LIMA         MIRAFLORES  No beneficiario  \n",
       "2  PERÚ   LIMA      LIMA  SANTIAGO DE SURCO  No beneficiario  \n",
       "3  PERÚ  CUSCO     CUSCO       SAN JERONIMO  No beneficiario  \n",
       "4  PERÚ   LIMA      LIMA           SAN LUIS  No beneficiario  "
      ],
      "text/html": "<div>\n<style scoped>\n    .dataframe tbody tr th:only-of-type {\n        vertical-align: middle;\n    }\n\n    .dataframe tbody tr th {\n        vertical-align: top;\n    }\n\n    .dataframe thead th {\n        text-align: right;\n    }\n</style>\n<table border=\"1\" class=\"dataframe\">\n  <thead>\n    <tr style=\"text-align: right;\">\n      <th></th>\n      <th>Nro</th>\n      <th>Dirección</th>\n      <th>EEC</th>\n      <th>Fase de cadena de valor_E</th>\n      <th>Nro de proyecto</th>\n      <th>Expediente</th>\n      <th>Nombre del proyecto</th>\n      <th>Tipo de Postulante</th>\n      <th>Postulante</th>\n      <th>N° RUC</th>\n      <th>DNI_Postulante</th>\n      <th>País</th>\n      <th>Región</th>\n      <th>Provincia</th>\n      <th>Distrito</th>\n      <th>Estado revisado</th>\n    </tr>\n  </thead>\n  <tbody>\n    <tr>\n      <th>0</th>\n      <td>1.0</td>\n      <td>DAFO</td>\n      <td>C01. Proyectos de Largometraje de Ficción</td>\n      <td>3. Producción</td>\n      <td>Proyecto 0001</td>\n      <td>CFN-2-P-001-19</td>\n      <td>Vallejo Inmortal</td>\n      <td>Persona Jurídica</td>\n      <td>MALVADO FILMS E.I.R.L.</td>\n      <td>NaN</td>\n      <td>NaN</td>\n      <td>PERÚ</td>\n      <td>LIMA</td>\n      <td>LIMA</td>\n      <td>MIRAFLORES</td>\n      <td>No beneficiario</td>\n    </tr>\n    <tr>\n      <th>1</th>\n      <td>2.0</td>\n      <td>DAFO</td>\n      <td>C01. Proyectos de Largometraje de Ficción</td>\n      <td>3. Producción</td>\n      <td>Proyecto 0002</td>\n      <td>CFN-2-P-002-19</td>\n      <td>Mamita</td>\n      <td>Persona Jurídica</td>\n      <td>ESFENA S.A.C.</td>\n      <td>NaN</td>\n      <td>NaN</td>\n      <td>PERÚ</td>\n      <td>LIMA</td>\n      <td>LIMA</td>\n      <td>MIRAFLORES</td>\n      <td>No beneficiario</td>\n    </tr>\n    <tr>\n      <th>2</th>\n      <td>3.0</td>\n      <td>DAFO</td>\n      <td>C01. Proyectos de Largometraje de Ficción</td>\n      <td>3. Producción</td>\n      <td>Proyecto 0003</td>\n      <td>CFN-2-P-004-19</td>\n      <td>Dos Estrellas</td>\n      <td>Persona Jurídica</td>\n      <td>GALLINAZOS COMUNICACIONES S.A.C.</td>\n      <td>NaN</td>\n      <td>NaN</td>\n      <td>PERÚ</td>\n      <td>LIMA</td>\n      <td>LIMA</td>\n      <td>SANTIAGO DE SURCO</td>\n      <td>No beneficiario</td>\n    </tr>\n    <tr>\n      <th>3</th>\n      <td>4.0</td>\n      <td>DAFO</td>\n      <td>C01. Proyectos de Largometraje de Ficción</td>\n      <td>3. Producción</td>\n      <td>Proyecto 0004</td>\n      <td>CFN-2-P-005-19</td>\n      <td>CERO</td>\n      <td>Persona Jurídica</td>\n      <td>CAMAL ESTUDIO CREATIVO SOCIEDAD COMERCIAL DE R...</td>\n      <td>NaN</td>\n      <td>NaN</td>\n      <td>PERÚ</td>\n      <td>CUSCO</td>\n      <td>CUSCO</td>\n      <td>SAN JERONIMO</td>\n      <td>No beneficiario</td>\n    </tr>\n    <tr>\n      <th>4</th>\n      <td>5.0</td>\n      <td>DAFO</td>\n      <td>C01. Proyectos de Largometraje de Ficción</td>\n      <td>3. Producción</td>\n      <td>Proyecto 0005</td>\n      <td>CFN-2-P-006-19</td>\n      <td>CENEPA 1995, El Legado.</td>\n      <td>Persona Jurídica</td>\n      <td>EMPRENDECINE PRODUCCIONES S.A.C.</td>\n      <td>NaN</td>\n      <td>NaN</td>\n      <td>PERÚ</td>\n      <td>LIMA</td>\n      <td>LIMA</td>\n      <td>SAN LUIS</td>\n      <td>No beneficiario</td>\n    </tr>\n  </tbody>\n</table>\n</div>"
     },
     "metadata": {},
     "execution_count": 326
    }
   ],
   "source": [
    "datasets[3].head()"
   ]
  },
  {
   "cell_type": "code",
   "execution_count": 327,
   "metadata": {},
   "outputs": [],
   "source": [
    "gamma = datasets[3][['EEC', 'Fase de cadena de valor_E',\n",
    "       'Nombre del proyecto',\n",
    "       'Tipo de Postulante', 'Postulante','País',\n",
    "       'Distrito', 'Estado revisado']]"
   ]
  },
  {
   "cell_type": "code",
   "execution_count": 328,
   "metadata": {},
   "outputs": [],
   "source": [
    "gamma = gamma.rename(columns={'EEC' : 'estimulo_economico_id', 'Fase de cadena de valor_E' : \"fase_cadena_valor_id\", \"Nombre del proyecto\" : \"nombre_proyecto_id\", \"Tipo de Postulante\" :  \"tipo_postulante_id\",\"Postulante\" : \"postulante_id\", \"País\": \"nation_id\", \"Distrito\" : \"district_id\", 'Estado revisado' :  \"estado_id\"})"
   ]
  },
  {
   "cell_type": "code",
   "execution_count": 329,
   "metadata": {},
   "outputs": [],
   "source": [
    "gamma = gamma[gamma['district_id'].notna()]"
   ]
  },
  {
   "cell_type": "code",
   "execution_count": 330,
   "metadata": {},
   "outputs": [],
   "source": [
    "gamma['estimulo_economico_id'] = gamma['estimulo_economico_id'].str[4:].str.strip()"
   ]
  },
  {
   "cell_type": "code",
   "execution_count": 331,
   "metadata": {},
   "outputs": [],
   "source": [
    "gamma['fase_cadena_valor_id'] = gamma['fase_cadena_valor_id'].str[2:].str.strip()"
   ]
  },
  {
   "cell_type": "code",
   "execution_count": 332,
   "metadata": {},
   "outputs": [],
   "source": [
    "gamma[\"tipo_postulante_id\"] = gamma[\"tipo_postulante_id\"].replace({'Persona natural': 'Persona Natural'})"
   ]
  },
  {
   "cell_type": "code",
   "execution_count": 333,
   "metadata": {},
   "outputs": [],
   "source": [
    "gamma['nation_id'] = gamma['nation_id'].str.capitalize()"
   ]
  },
  {
   "cell_type": "code",
   "execution_count": 334,
   "metadata": {},
   "outputs": [],
   "source": [
    "gamma['district_id'] = gamma['district_id'].str.strip()\n",
    "gamma['district_id'] = gamma['district_id'].str.title()"
   ]
  },
  {
   "cell_type": "code",
   "execution_count": 335,
   "metadata": {},
   "outputs": [
    {
     "output_type": "execute_result",
     "data": {
      "text/plain": [
       "['Santiago De Surco',\n",
       " 'San Jeronimo',\n",
       " 'Villa Maria Del Triunfo',\n",
       " 'Jesus Maria',\n",
       " 'Magdalena Del Mar',\n",
       " 'San Juan De Lurigancho',\n",
       " 'Jose Luis Bustamante Y Rivero',\n",
       " 'San Martin De Porres',\n",
       " 'N/D',\n",
       " 'Belen',\n",
       " 'San Vicente De Cañete',\n",
       " 'San Juan De Miraflores',\n",
       " 'Rimac',\n",
       " 'Simon Bolivar',\n",
       " 'Ancon',\n",
       " 'Santa Maria Del Mar',\n",
       " 'Los Baños Del Inca',\n",
       " 'Jesus Nazareno',\n",
       " 'Veintiseis De Octubre',\n",
       " 'Azangaro',\n",
       " 'Jose Leonardo Ortiz',\n",
       " 'Coronel Gregorio Albarracin Lanchipa',\n",
       " 'No Aplica']"
      ]
     },
     "metadata": {},
     "execution_count": 335
    }
   ],
   "source": [
    "[x for x in gamma['district_id'].unique() if x not in ubigeo['district_name'].unique()]"
   ]
  },
  {
   "cell_type": "code",
   "execution_count": 336,
   "metadata": {},
   "outputs": [],
   "source": [
    "DISTRICT_REPLACE_3 = {\n",
    " 'Santiago De Surco' : \"Santiago de Surco\",\n",
    " 'San Jeronimo' : \"San Jerónimo\",\n",
    " 'Villa Maria Del Triunfo' : \"Villa María del Triunfo\",\n",
    " 'Jesus Maria' : \"Jesús María\",\n",
    " 'Magdalena Del Mar' : \"Magdalena del Mar\",\n",
    " 'San Juan De Lurigancho' : \"San Juan de Lurigancho\",\n",
    " 'Jose Luis Bustamante Y Rivero' : \"José Luis Bustamante Y Rivero\",\n",
    " 'San Martin De Porres' : \"San Martín de Porres\",\n",
    " 'N/D' : \"Otro\",\n",
    " 'Belen' : \"Belén\",\n",
    " 'San Vicente De Cañete' : \"San Vicente de Cañete\",\n",
    " 'San Juan De Miraflores' : \"San Juan de Miraflores\",\n",
    " 'Rimac' : \"Rímac\",\n",
    " 'Simon Bolivar' : \"Simon Bolívar\",\n",
    " 'Ancon' : \"Ancón\",\n",
    " 'Santa Maria Del Mar' : \"Santa María del Mar\",\n",
    " 'Los Baños Del Inca' : \"Los Baños del Inca\",\n",
    " 'Jesus Nazareno' : \"Jesús Nazareno\",\n",
    " 'Veintiseis De Octubre' : \"Veintiseis de Octubre\",\n",
    " 'Azangaro' : \"Azángaro\",\n",
    " 'Jose Leonardo Ortiz' : \"José Leonardo Ortiz\",\n",
    " 'Coronel Gregorio Albarracin Lanchipa' : \"Coronel Gregorio Albarracín Lanchipa\",\n",
    " 'No Aplica' : \"Otro\",\n",
    "\n",
    "}"
   ]
  },
  {
   "cell_type": "code",
   "execution_count": 337,
   "metadata": {},
   "outputs": [],
   "source": [
    "gamma['district_id'] = gamma['district_id'].replace(DISTRICT_REPLACE_3)"
   ]
  },
  {
   "cell_type": "code",
   "execution_count": 338,
   "metadata": {},
   "outputs": [],
   "source": [
    "gamma.tipo_postulante_id = gamma.tipo_postulante_id.fillna(\"Otro\")"
   ]
  },
  {
   "cell_type": "code",
   "execution_count": 339,
   "metadata": {},
   "outputs": [
    {
     "output_type": "execute_result",
     "data": {
      "text/plain": [
       "array(['Persona Jurídica', 'Persona Natural', 'Otro'], dtype=object)"
      ]
     },
     "metadata": {},
     "execution_count": 339
    }
   ],
   "source": [
    "gamma.tipo_postulante_id.unique()"
   ]
  },
  {
   "cell_type": "code",
   "execution_count": 340,
   "metadata": {},
   "outputs": [
    {
     "output_type": "execute_result",
     "data": {
      "text/plain": [
       "{'Proyectos de Largometraje de Ficción': 1,\n",
       " 'Proyectos de Gestión Cultural para el Audiovisual': 2,\n",
       " 'Cortometrajes': 3,\n",
       " 'Estímulo a la Distribución Cinematográfica': 4,\n",
       " 'Estímulo a la Promoción Internacional': 5,\n",
       " 'Proyectos de Cortometraje': 6,\n",
       " 'Desarrollo de Proyectos de Largometraje': 7,\n",
       " 'Proyectos de Documental Formato Largo': 8,\n",
       " 'Obras Experimentales': 9,\n",
       " 'Proyectos de Distribución de Largometraje': 10,\n",
       " 'Proyectos de Preproducción de Largometraje de Animación': 11,\n",
       " 'Circulación Internacional para las Artes-Primera llamada': 12,\n",
       " 'Circulación Internacional para las Artes-Segunda llamada': 13,\n",
       " 'Escritura de Literatura Infantil y Juvenil': 14,\n",
       " 'Formación Audiovisual': 15,\n",
       " 'Proyectos de Largometraje de Ficción Exclusivo para las Regiones del País (excepto Lima Metropolitana y Callao)': 16,\n",
       " 'Proyectos de Largometraje de Ficción (Estímulo Alternativo)': 17,\n",
       " 'Coproducciones Minoritarias': 18,\n",
       " 'Proyectos de Preservación Audiovisual': 19,\n",
       " 'Proyectos de Gestión de Salas de Exhibición Alternativa': 20,\n",
       " 'Pilotos de Serie': 21,\n",
       " 'Proyectos de Largometraje en Construcción (antes Postproducción de Largometraje)': 22,\n",
       " 'Fomento de la lectura y la escritura en espacios': 23,\n",
       " 'Producción Discográfica': 24,\n",
       " 'Proyectos de Nuevos Medios Audiovisuales': 25,\n",
       " 'Proyectos de Investigación sobre Cinematografía y Audiovisual': 26,\n",
       " 'Proyectos: Cortometrajes del Bicentenario': 27,\n",
       " 'Producción de Artes Escénicas': 28,\n",
       " 'Programación Cultural y Promoción del Libro': 29,\n",
       " 'Festivales, Festividades y Ferias de las Artes': 30,\n",
       " 'Publicación': 31,\n",
       " 'Arte para la Transformación e Innovación Social': 32,\n",
       " 'Desarrollo de Colecciones Bibliográficas': 33,\n",
       " 'Desarrollo de Públicos': 34,\n",
       " 'Movilidad de Editores, Autores y Mediadores de la Lectura': 35,\n",
       " 'Producción de Artes Visuales': 36,\n",
       " 'Circulación Nacional para las Artes': 37,\n",
       " 'Gestión de Salas para las Artes': 38}"
      ]
     },
     "metadata": {},
     "execution_count": 340
    }
   ],
   "source": [
    "estimulo_economico_dim = dict(zip(gamma['estimulo_economico_id'].dropna().unique(), range(1, len(gamma['estimulo_economico_id'].dropna().unique()) + 1 )))\n",
    "gamma['estimulo_economico_id'].replace(estimulo_economico_dim, inplace=True)\n",
    "estimulo_economico_dim"
   ]
  },
  {
   "cell_type": "code",
   "execution_count": 341,
   "metadata": {},
   "outputs": [
    {
     "output_type": "execute_result",
     "data": {
      "text/plain": [
       "{'Producción': 1, 'Acceso': 2, 'Creación': 3, 'Circulación': 4, 'Formación': 5}"
      ]
     },
     "metadata": {},
     "execution_count": 341
    }
   ],
   "source": [
    "fase_cadena_valor_dim = dict(zip(gamma['fase_cadena_valor_id'].dropna().unique(), range(1, len(gamma['fase_cadena_valor_id'].dropna().unique()) + 1 )))\n",
    "gamma['fase_cadena_valor_id'].replace(fase_cadena_valor_dim, inplace=True)\n",
    "fase_cadena_valor_dim"
   ]
  },
  {
   "cell_type": "code",
   "execution_count": 342,
   "metadata": {},
   "outputs": [],
   "source": [
    "nombre_proyecto_dim = dict(zip(gamma['nombre_proyecto_id'].dropna().unique(), range(1, len(gamma['nombre_proyecto_id'].dropna().unique()) + 1 )))\n",
    "gamma['nombre_proyecto_id'].replace(nombre_proyecto_dim, inplace=True)\n"
   ]
  },
  {
   "cell_type": "code",
   "execution_count": 343,
   "metadata": {},
   "outputs": [
    {
     "output_type": "execute_result",
     "data": {
      "text/plain": [
       "{'Persona Jurídica': 1, 'Persona Natural': 2, 'Otro': 3}"
      ]
     },
     "metadata": {},
     "execution_count": 343
    }
   ],
   "source": [
    "tipo_postulante_dim = dict(zip(gamma['tipo_postulante_id'].dropna().unique(), range(1, len(gamma['tipo_postulante_id'].dropna().unique()) + 1 )))\n",
    "gamma['tipo_postulante_id'].replace(tipo_postulante_dim, inplace=True)\n",
    "tipo_postulante_dim"
   ]
  },
  {
   "cell_type": "code",
   "execution_count": 344,
   "metadata": {},
   "outputs": [],
   "source": [
    "postulante_dim = dict(zip(gamma['postulante_id'].dropna().unique(), range(1, len(gamma['postulante_id'].dropna().unique()) + 1 )))\n",
    "gamma['postulante_id'].replace(postulante_dim, inplace=True)\n",
    "#postulante_dim"
   ]
  },
  {
   "cell_type": "code",
   "execution_count": 345,
   "metadata": {},
   "outputs": [
    {
     "output_type": "execute_result",
     "data": {
      "text/plain": [
       "{'No beneficiario': 1, 'Beneficiario': 2, 'No evaluado': 3}"
      ]
     },
     "metadata": {},
     "execution_count": 345
    }
   ],
   "source": [
    "estado_dim = dict(zip(gamma['estado_id'].dropna().unique(), range(1, len(gamma['estado_id'].dropna().unique()) + 1 )))\n",
    "gamma['estado_id'].replace(estado_dim, inplace=True)\n",
    "estado_dim"
   ]
  },
  {
   "cell_type": "code",
   "execution_count": 346,
   "metadata": {},
   "outputs": [
    {
     "output_type": "execute_result",
     "data": {
      "text/plain": [
       "      estimulo_economico_id  fase_cadena_valor_id  nombre_proyecto_id  \\\n",
       "0                         1                     1                   1   \n",
       "1                         1                     1                   2   \n",
       "2                         1                     1                   3   \n",
       "3                         1                     1                   4   \n",
       "4                         1                     1                   5   \n",
       "...                     ...                   ...                 ...   \n",
       "2237                      5                     4                2181   \n",
       "2238                      5                     4                2182   \n",
       "2239                      5                     4                 144   \n",
       "2240                      5                     4                2183   \n",
       "2241                      5                     4                  28   \n",
       "\n",
       "      tipo_postulante_id  postulante_id nation_id        district_id  \\\n",
       "0                      1              1      Perú         Miraflores   \n",
       "1                      1              2      Perú         Miraflores   \n",
       "2                      1              3      Perú  Santiago de Surco   \n",
       "3                      1              4      Perú       San Jerónimo   \n",
       "4                      1              5      Perú           San Luis   \n",
       "...                  ...            ...       ...                ...   \n",
       "2237                   3           1613      Perú        Jesús María   \n",
       "2238                   3           1614      Perú         Miraflores   \n",
       "2239                   3           1615      Perú         Miraflores   \n",
       "2240                   3           1616      Perú         Miraflores   \n",
       "2241                   3           1617      Perú         Miraflores   \n",
       "\n",
       "      estado_id  \n",
       "0             1  \n",
       "1             1  \n",
       "2             1  \n",
       "3             1  \n",
       "4             1  \n",
       "...         ...  \n",
       "2237          1  \n",
       "2238          1  \n",
       "2239          1  \n",
       "2240          1  \n",
       "2241          1  \n",
       "\n",
       "[2237 rows x 8 columns]"
      ],
      "text/html": "<div>\n<style scoped>\n    .dataframe tbody tr th:only-of-type {\n        vertical-align: middle;\n    }\n\n    .dataframe tbody tr th {\n        vertical-align: top;\n    }\n\n    .dataframe thead th {\n        text-align: right;\n    }\n</style>\n<table border=\"1\" class=\"dataframe\">\n  <thead>\n    <tr style=\"text-align: right;\">\n      <th></th>\n      <th>estimulo_economico_id</th>\n      <th>fase_cadena_valor_id</th>\n      <th>nombre_proyecto_id</th>\n      <th>tipo_postulante_id</th>\n      <th>postulante_id</th>\n      <th>nation_id</th>\n      <th>district_id</th>\n      <th>estado_id</th>\n    </tr>\n  </thead>\n  <tbody>\n    <tr>\n      <th>0</th>\n      <td>1</td>\n      <td>1</td>\n      <td>1</td>\n      <td>1</td>\n      <td>1</td>\n      <td>Perú</td>\n      <td>Miraflores</td>\n      <td>1</td>\n    </tr>\n    <tr>\n      <th>1</th>\n      <td>1</td>\n      <td>1</td>\n      <td>2</td>\n      <td>1</td>\n      <td>2</td>\n      <td>Perú</td>\n      <td>Miraflores</td>\n      <td>1</td>\n    </tr>\n    <tr>\n      <th>2</th>\n      <td>1</td>\n      <td>1</td>\n      <td>3</td>\n      <td>1</td>\n      <td>3</td>\n      <td>Perú</td>\n      <td>Santiago de Surco</td>\n      <td>1</td>\n    </tr>\n    <tr>\n      <th>3</th>\n      <td>1</td>\n      <td>1</td>\n      <td>4</td>\n      <td>1</td>\n      <td>4</td>\n      <td>Perú</td>\n      <td>San Jerónimo</td>\n      <td>1</td>\n    </tr>\n    <tr>\n      <th>4</th>\n      <td>1</td>\n      <td>1</td>\n      <td>5</td>\n      <td>1</td>\n      <td>5</td>\n      <td>Perú</td>\n      <td>San Luis</td>\n      <td>1</td>\n    </tr>\n    <tr>\n      <th>...</th>\n      <td>...</td>\n      <td>...</td>\n      <td>...</td>\n      <td>...</td>\n      <td>...</td>\n      <td>...</td>\n      <td>...</td>\n      <td>...</td>\n    </tr>\n    <tr>\n      <th>2237</th>\n      <td>5</td>\n      <td>4</td>\n      <td>2181</td>\n      <td>3</td>\n      <td>1613</td>\n      <td>Perú</td>\n      <td>Jesús María</td>\n      <td>1</td>\n    </tr>\n    <tr>\n      <th>2238</th>\n      <td>5</td>\n      <td>4</td>\n      <td>2182</td>\n      <td>3</td>\n      <td>1614</td>\n      <td>Perú</td>\n      <td>Miraflores</td>\n      <td>1</td>\n    </tr>\n    <tr>\n      <th>2239</th>\n      <td>5</td>\n      <td>4</td>\n      <td>144</td>\n      <td>3</td>\n      <td>1615</td>\n      <td>Perú</td>\n      <td>Miraflores</td>\n      <td>1</td>\n    </tr>\n    <tr>\n      <th>2240</th>\n      <td>5</td>\n      <td>4</td>\n      <td>2183</td>\n      <td>3</td>\n      <td>1616</td>\n      <td>Perú</td>\n      <td>Miraflores</td>\n      <td>1</td>\n    </tr>\n    <tr>\n      <th>2241</th>\n      <td>5</td>\n      <td>4</td>\n      <td>28</td>\n      <td>3</td>\n      <td>1617</td>\n      <td>Perú</td>\n      <td>Miraflores</td>\n      <td>1</td>\n    </tr>\n  </tbody>\n</table>\n<p>2237 rows × 8 columns</p>\n</div>"
     },
     "metadata": {},
     "execution_count": 346
    }
   ],
   "source": [
    "gamma"
   ]
  },
  {
   "cell_type": "code",
   "execution_count": 347,
   "metadata": {},
   "outputs": [],
   "source": [
    "gamma['cantidad_postulante'] = 1"
   ]
  },
  {
   "cell_type": "code",
   "execution_count": 348,
   "metadata": {},
   "outputs": [],
   "source": [
    "datasets[4].columns =  datasets[4].iloc[3]"
   ]
  },
  {
   "cell_type": "code",
   "execution_count": 349,
   "metadata": {},
   "outputs": [],
   "source": [
    "datasets[4] = datasets[4][4:]"
   ]
  },
  {
   "cell_type": "code",
   "execution_count": 350,
   "metadata": {},
   "outputs": [
    {
     "output_type": "execute_result",
     "data": {
      "text/plain": [
       "Index([                                                12,\n",
       "                                              'Editorial',\n",
       "                                                      nan,\n",
       "                                                      nan,\n",
       "                                                      nan,\n",
       "                            'Cascahuesos Editores S.A.C.',\n",
       "                                              20454870914,\n",
       "                                               'Arequipa',\n",
       "                                               'Arequipa',\n",
       "                                                  'Cayma',\n",
       "              'https://cascahuesoseditores.blogspot.com/',\n",
       "       'https://www.facebook.com/cascahuesoseditores.pe/',\n",
       "                                      '@cascahuesos_edit',\n",
       "                                       '@EditCascahuesos',\n",
       "                                                      nan,\n",
       "                                                      nan],\n",
       "      dtype='object', name=15)"
      ]
     },
     "metadata": {},
     "execution_count": 350
    }
   ],
   "source": [
    "datasets[4].columns"
   ]
  },
  {
   "cell_type": "code",
   "execution_count": 351,
   "metadata": {},
   "outputs": [
    {
     "output_type": "error",
     "ename": "KeyError",
     "evalue": "\"None of [Index(['Nombre y/o razón social de la organización', 'Actividad_1',\\n       'Actividad_2', 'Actividad_3', 'Actividad_4',\\n       'Distrito de la organización'],\\n      dtype='object', name=15)] are in the [columns]\"",
     "traceback": [
      "\u001b[1;31m---------------------------------------------------------------------------\u001b[0m",
      "\u001b[1;31mKeyError\u001b[0m                                  Traceback (most recent call last)",
      "\u001b[1;32m<ipython-input-351-9add60c4ad14>\u001b[0m in \u001b[0;36m<module>\u001b[1;34m\u001b[0m\n\u001b[1;32m----> 1\u001b[1;33m \u001b[0mdelta\u001b[0m \u001b[1;33m=\u001b[0m \u001b[0mdatasets\u001b[0m\u001b[1;33m[\u001b[0m\u001b[1;36m4\u001b[0m\u001b[1;33m]\u001b[0m\u001b[1;33m[\u001b[0m\u001b[1;33m[\u001b[0m\u001b[1;34m'Nombre y/o razón social de la organización'\u001b[0m\u001b[1;33m,\u001b[0m\u001b[1;34m'Actividad_1'\u001b[0m\u001b[1;33m,\u001b[0m \u001b[1;34m'Actividad_2'\u001b[0m\u001b[1;33m,\u001b[0m \u001b[1;34m'Actividad_3'\u001b[0m\u001b[1;33m,\u001b[0m \u001b[1;34m'Actividad_4'\u001b[0m\u001b[1;33m,\u001b[0m\u001b[1;34m'Distrito de la organización'\u001b[0m\u001b[1;33m]\u001b[0m\u001b[1;33m]\u001b[0m\u001b[1;33m\u001b[0m\u001b[1;33m\u001b[0m\u001b[0m\n\u001b[0m",
      "\u001b[1;32m~\\anaconda3\\envs\\tensorflow\\lib\\site-packages\\pandas\\core\\frame.py\u001b[0m in \u001b[0;36m__getitem__\u001b[1;34m(self, key)\u001b[0m\n\u001b[0;32m   2804\u001b[0m             \u001b[1;32mif\u001b[0m \u001b[0mis_iterator\u001b[0m\u001b[1;33m(\u001b[0m\u001b[0mkey\u001b[0m\u001b[1;33m)\u001b[0m\u001b[1;33m:\u001b[0m\u001b[1;33m\u001b[0m\u001b[1;33m\u001b[0m\u001b[0m\n\u001b[0;32m   2805\u001b[0m                 \u001b[0mkey\u001b[0m \u001b[1;33m=\u001b[0m \u001b[0mlist\u001b[0m\u001b[1;33m(\u001b[0m\u001b[0mkey\u001b[0m\u001b[1;33m)\u001b[0m\u001b[1;33m\u001b[0m\u001b[1;33m\u001b[0m\u001b[0m\n\u001b[1;32m-> 2806\u001b[1;33m             \u001b[0mindexer\u001b[0m \u001b[1;33m=\u001b[0m \u001b[0mself\u001b[0m\u001b[1;33m.\u001b[0m\u001b[0mloc\u001b[0m\u001b[1;33m.\u001b[0m\u001b[0m_get_listlike_indexer\u001b[0m\u001b[1;33m(\u001b[0m\u001b[0mkey\u001b[0m\u001b[1;33m,\u001b[0m \u001b[0maxis\u001b[0m\u001b[1;33m=\u001b[0m\u001b[1;36m1\u001b[0m\u001b[1;33m,\u001b[0m \u001b[0mraise_missing\u001b[0m\u001b[1;33m=\u001b[0m\u001b[1;32mTrue\u001b[0m\u001b[1;33m)\u001b[0m\u001b[1;33m[\u001b[0m\u001b[1;36m1\u001b[0m\u001b[1;33m]\u001b[0m\u001b[1;33m\u001b[0m\u001b[1;33m\u001b[0m\u001b[0m\n\u001b[0m\u001b[0;32m   2807\u001b[0m \u001b[1;33m\u001b[0m\u001b[0m\n\u001b[0;32m   2808\u001b[0m         \u001b[1;31m# take() does not accept boolean indexers\u001b[0m\u001b[1;33m\u001b[0m\u001b[1;33m\u001b[0m\u001b[1;33m\u001b[0m\u001b[0m\n",
      "\u001b[1;32m~\\anaconda3\\envs\\tensorflow\\lib\\site-packages\\pandas\\core\\indexing.py\u001b[0m in \u001b[0;36m_get_listlike_indexer\u001b[1;34m(self, key, axis, raise_missing)\u001b[0m\n\u001b[0;32m   1551\u001b[0m \u001b[1;33m\u001b[0m\u001b[0m\n\u001b[0;32m   1552\u001b[0m         self._validate_read_indexer(\n\u001b[1;32m-> 1553\u001b[1;33m             \u001b[0mkeyarr\u001b[0m\u001b[1;33m,\u001b[0m \u001b[0mindexer\u001b[0m\u001b[1;33m,\u001b[0m \u001b[0mo\u001b[0m\u001b[1;33m.\u001b[0m\u001b[0m_get_axis_number\u001b[0m\u001b[1;33m(\u001b[0m\u001b[0maxis\u001b[0m\u001b[1;33m)\u001b[0m\u001b[1;33m,\u001b[0m \u001b[0mraise_missing\u001b[0m\u001b[1;33m=\u001b[0m\u001b[0mraise_missing\u001b[0m\u001b[1;33m\u001b[0m\u001b[1;33m\u001b[0m\u001b[0m\n\u001b[0m\u001b[0;32m   1554\u001b[0m         )\n\u001b[0;32m   1555\u001b[0m         \u001b[1;32mreturn\u001b[0m \u001b[0mkeyarr\u001b[0m\u001b[1;33m,\u001b[0m \u001b[0mindexer\u001b[0m\u001b[1;33m\u001b[0m\u001b[1;33m\u001b[0m\u001b[0m\n",
      "\u001b[1;32m~\\anaconda3\\envs\\tensorflow\\lib\\site-packages\\pandas\\core\\indexing.py\u001b[0m in \u001b[0;36m_validate_read_indexer\u001b[1;34m(self, key, indexer, axis, raise_missing)\u001b[0m\n\u001b[0;32m   1638\u001b[0m             \u001b[1;32mif\u001b[0m \u001b[0mmissing\u001b[0m \u001b[1;33m==\u001b[0m \u001b[0mlen\u001b[0m\u001b[1;33m(\u001b[0m\u001b[0mindexer\u001b[0m\u001b[1;33m)\u001b[0m\u001b[1;33m:\u001b[0m\u001b[1;33m\u001b[0m\u001b[1;33m\u001b[0m\u001b[0m\n\u001b[0;32m   1639\u001b[0m                 \u001b[0maxis_name\u001b[0m \u001b[1;33m=\u001b[0m \u001b[0mself\u001b[0m\u001b[1;33m.\u001b[0m\u001b[0mobj\u001b[0m\u001b[1;33m.\u001b[0m\u001b[0m_get_axis_name\u001b[0m\u001b[1;33m(\u001b[0m\u001b[0maxis\u001b[0m\u001b[1;33m)\u001b[0m\u001b[1;33m\u001b[0m\u001b[1;33m\u001b[0m\u001b[0m\n\u001b[1;32m-> 1640\u001b[1;33m                 \u001b[1;32mraise\u001b[0m \u001b[0mKeyError\u001b[0m\u001b[1;33m(\u001b[0m\u001b[1;34mf\"None of [{key}] are in the [{axis_name}]\"\u001b[0m\u001b[1;33m)\u001b[0m\u001b[1;33m\u001b[0m\u001b[1;33m\u001b[0m\u001b[0m\n\u001b[0m\u001b[0;32m   1641\u001b[0m \u001b[1;33m\u001b[0m\u001b[0m\n\u001b[0;32m   1642\u001b[0m             \u001b[1;31m# We (temporarily) allow for some missing keys with .loc, except in\u001b[0m\u001b[1;33m\u001b[0m\u001b[1;33m\u001b[0m\u001b[1;33m\u001b[0m\u001b[0m\n",
      "\u001b[1;31mKeyError\u001b[0m: \"None of [Index(['Nombre y/o razón social de la organización', 'Actividad_1',\\n       'Actividad_2', 'Actividad_3', 'Actividad_4',\\n       'Distrito de la organización'],\\n      dtype='object', name=15)] are in the [columns]\""
     ]
    }
   ],
   "source": [
    "delta = datasets[4][['Nombre y/o razón social de la organización','Actividad_1', 'Actividad_2', 'Actividad_3', 'Actividad_4','Distrito de la organización']]"
   ]
  },
  {
   "cell_type": "code",
   "execution_count": 195,
   "metadata": {},
   "outputs": [],
   "source": [
    "delta.rename(columns={'Nombre y/o razón social de la organización': \"razon_social_id\", \"Actividad_1\" : \"actividad_1_id\", \"Actividad_2\" : \"actividad_2_id\", \"Actividad_3\" : \"actividad_3_id\", \"Actividad_4\" : \"actividad_4_id\", \"Distrito de la organización\": \"district_id\"}, inplace=True)"
   ]
  },
  {
   "cell_type": "code",
   "execution_count": 196,
   "metadata": {},
   "outputs": [
    {
     "output_type": "execute_result",
     "data": {
      "text/plain": [
       "['Cercado de Lima',\n",
       " 'Carabayllo ',\n",
       " 'Huánuco ',\n",
       " 'Pueblo libre',\n",
       " 'El Tambo ',\n",
       " 'San Sebastián',\n",
       " 'José Luis Bustamante y Rivero',\n",
       " 'Trujillo ',\n",
       " 'Villa el Salvador',\n",
       " 'Huancayo ',\n",
       " 'Sin información',\n",
       " 'Talara',\n",
       " 'Callería',\n",
       " 'Ancohuayllo Uripa']"
      ]
     },
     "metadata": {},
     "execution_count": 196
    }
   ],
   "source": [
    "[x for x in delta['district_id'].unique() if x not in ubigeo['district_name'].unique()]"
   ]
  },
  {
   "cell_type": "code",
   "execution_count": 197,
   "metadata": {},
   "outputs": [],
   "source": [
    "DISTRICT_REPLACE_4 = {\n",
    " 'Cercado de Lima' : \"Lima\",\n",
    " 'Carabayllo ' : \"Carabayllo\",\n",
    " 'Huánuco ' : \"Huanuco\",\n",
    " 'Pueblo libre' : \"Pueblo Libre\",\n",
    " 'El Tambo ': \"Huanuco\",\n",
    " 'San Sebastián': \"Huanuco\",\n",
    " 'José Luis Bustamante y Rivero': \"José Luis Bustamante Y Rivero\",\n",
    " 'Trujillo ': \"Trujillo\",\n",
    " 'Villa el Salvador': \"Villa El Salvador\",\n",
    " 'Huancayo ': \"Huancayo\",\n",
    " 'Sin información': \"Otros\",\n",
    " 'Talara': \"Chiclayo \",\n",
    " 'Callería': \"Calleria\",\n",
    " 'Ancohuayllo Uripa': \"Anco_Huallo\"\n",
    "}"
   ]
  },
  {
   "cell_type": "code",
   "execution_count": 198,
   "metadata": {},
   "outputs": [],
   "source": [
    "delta['district_id'] = delta['district_id'].replace(DISTRICT_REPLACE_4)"
   ]
  },
  {
   "cell_type": "code",
   "execution_count": 199,
   "metadata": {},
   "outputs": [
    {
     "output_type": "execute_result",
     "data": {
      "text/plain": [
       "3                                    razon_social_id actividad_1_id  \\\n",
       "4  Un puñado de tierra que respira S.R.L. (Hanan ...      Editorial   \n",
       "5                                  Editorial Cthulhu      Editorial   \n",
       "6                                    Pobre cartonera      Cartonera   \n",
       "7             Gato Viejo Producción Editorial S.A.C.      Editorial   \n",
       "8                            Vivirsinenterarse S.A.C      Editorial   \n",
       "\n",
       "3 actividad_2_id actividad_3_id actividad_4_id              district_id  \n",
       "4            NaN            NaN            NaN  Villa María del Triunfo  \n",
       "5            NaN            NaN            NaN                     Lima  \n",
       "6        Fanzine          Otros            NaN             Pueblo Libre  \n",
       "7            NaN            NaN            NaN   San Juan de Lurigancho  \n",
       "8            NaN            NaN            NaN               Carabayllo  "
      ],
      "text/html": "<div>\n<style scoped>\n    .dataframe tbody tr th:only-of-type {\n        vertical-align: middle;\n    }\n\n    .dataframe tbody tr th {\n        vertical-align: top;\n    }\n\n    .dataframe thead th {\n        text-align: right;\n    }\n</style>\n<table border=\"1\" class=\"dataframe\">\n  <thead>\n    <tr style=\"text-align: right;\">\n      <th>3</th>\n      <th>razon_social_id</th>\n      <th>actividad_1_id</th>\n      <th>actividad_2_id</th>\n      <th>actividad_3_id</th>\n      <th>actividad_4_id</th>\n      <th>district_id</th>\n    </tr>\n  </thead>\n  <tbody>\n    <tr>\n      <th>4</th>\n      <td>Un puñado de tierra que respira S.R.L. (Hanan ...</td>\n      <td>Editorial</td>\n      <td>NaN</td>\n      <td>NaN</td>\n      <td>NaN</td>\n      <td>Villa María del Triunfo</td>\n    </tr>\n    <tr>\n      <th>5</th>\n      <td>Editorial Cthulhu</td>\n      <td>Editorial</td>\n      <td>NaN</td>\n      <td>NaN</td>\n      <td>NaN</td>\n      <td>Lima</td>\n    </tr>\n    <tr>\n      <th>6</th>\n      <td>Pobre cartonera</td>\n      <td>Cartonera</td>\n      <td>Fanzine</td>\n      <td>Otros</td>\n      <td>NaN</td>\n      <td>Pueblo Libre</td>\n    </tr>\n    <tr>\n      <th>7</th>\n      <td>Gato Viejo Producción Editorial S.A.C.</td>\n      <td>Editorial</td>\n      <td>NaN</td>\n      <td>NaN</td>\n      <td>NaN</td>\n      <td>San Juan de Lurigancho</td>\n    </tr>\n    <tr>\n      <th>8</th>\n      <td>Vivirsinenterarse S.A.C</td>\n      <td>Editorial</td>\n      <td>NaN</td>\n      <td>NaN</td>\n      <td>NaN</td>\n      <td>Carabayllo</td>\n    </tr>\n  </tbody>\n</table>\n</div>"
     },
     "metadata": {},
     "execution_count": 199
    }
   ],
   "source": [
    "delta.head()"
   ]
  },
  {
   "cell_type": "code",
   "execution_count": 200,
   "metadata": {},
   "outputs": [],
   "source": [
    "razon_social_dim = dict(zip(delta['razon_social_id'].dropna().unique(), range(1, len(delta['razon_social_id'].dropna().unique()) + 1 )))\n",
    "delta['razon_social_id'].replace(razon_social_dim, inplace=True)\n",
    "#razon_social_dim"
   ]
  },
  {
   "cell_type": "code",
   "execution_count": 201,
   "metadata": {},
   "outputs": [],
   "source": [
    "delta['actividad_1_id'] = delta['actividad_1_id'].replace('cartonera', 'Cartonera')"
   ]
  },
  {
   "cell_type": "code",
   "execution_count": 202,
   "metadata": {},
   "outputs": [
    {
     "output_type": "execute_result",
     "data": {
      "text/plain": [
       "{'Editorial': 1,\n",
       " 'Cartonera': 2,\n",
       " 'Librería': 3,\n",
       " 'Distribuidora': 4,\n",
       " 'Revista': 5,\n",
       " 'Imprenta': 6,\n",
       " 'Fondos Universitarios': 7,\n",
       " 'Prensa': 8,\n",
       " 'Autor-editor': 9,\n",
       " 'Fanzine': 10}"
      ]
     },
     "metadata": {},
     "execution_count": 202
    }
   ],
   "source": [
    "actividad_1_dim = dict(zip(delta['actividad_1_id'].dropna().unique(), range(1, len(delta['actividad_1_id'].dropna().unique()) + 1 )))\n",
    "delta['actividad_1_id'].replace(actividad_1_dim, inplace=True)\n",
    "actividad_1_dim"
   ]
  },
  {
   "cell_type": "code",
   "execution_count": 203,
   "metadata": {},
   "outputs": [
    {
     "output_type": "execute_result",
     "data": {
      "text/plain": [
       "{'Fanzine': 1,\n",
       " 'Libro Electrónico': 2,\n",
       " 'Imprenta': 3,\n",
       " 'Editorial': 4,\n",
       " 'Librería': 5,\n",
       " 'Distribuidora': 6}"
      ]
     },
     "metadata": {},
     "execution_count": 203
    }
   ],
   "source": [
    "actividad_2_dim = dict(zip(delta['actividad_2_id'].dropna().unique(), range(1, len(delta['actividad_2_id'].dropna().unique()) + 1 )))\n",
    "delta['actividad_2_id'].replace(actividad_2_dim, inplace=True)\n",
    "actividad_2_dim"
   ]
  },
  {
   "cell_type": "code",
   "execution_count": 204,
   "metadata": {},
   "outputs": [
    {
     "output_type": "execute_result",
     "data": {
      "text/plain": [
       "{'Otros': 1, 'Librería': 2, 'Distribuidora': 3}"
      ]
     },
     "metadata": {},
     "execution_count": 204
    }
   ],
   "source": [
    "actividad_3_dim = dict(zip(delta['actividad_3_id'].dropna().unique(), range(1, len(delta['actividad_3_id'].dropna().unique()) + 1 )))\n",
    "delta['actividad_3_id'].replace(actividad_3_dim, inplace=True)\n",
    "actividad_3_dim"
   ]
  },
  {
   "cell_type": "code",
   "execution_count": 205,
   "metadata": {},
   "outputs": [
    {
     "output_type": "execute_result",
     "data": {
      "text/plain": [
       "{'Librería': 1}"
      ]
     },
     "metadata": {},
     "execution_count": 205
    }
   ],
   "source": [
    "actividad_4_dim = dict(zip(delta['actividad_4_id'].dropna().unique(), range(1, len(delta['actividad_4_id'].dropna().unique()) + 1 )))\n",
    "delta['actividad_4_id'].replace(actividad_4_dim, inplace=True)\n",
    "actividad_4_dim"
   ]
  },
  {
   "cell_type": "code",
   "execution_count": 206,
   "metadata": {},
   "outputs": [],
   "source": [
    "delta['cantidad_asociacion'] = 1"
   ]
  },
  {
   "cell_type": "code",
   "execution_count": 207,
   "metadata": {},
   "outputs": [
    {
     "output_type": "execute_result",
     "data": {
      "text/plain": [
       "3    razon_social_id  actividad_1_id  actividad_2_id  actividad_3_id  \\\n",
       "4                  1               1             NaN             NaN   \n",
       "5                  2               1             NaN             NaN   \n",
       "6                  3               2             1.0             1.0   \n",
       "7                  4               1             NaN             NaN   \n",
       "8                  5               1             NaN             NaN   \n",
       "..               ...             ...             ...             ...   \n",
       "431              427               1             NaN             NaN   \n",
       "432              428               4             NaN             NaN   \n",
       "433              429               3             NaN             NaN   \n",
       "434              430               3             NaN             NaN   \n",
       "435              431               4             NaN             NaN   \n",
       "\n",
       "3    actividad_4_id              district_id  cantidad_asociacion  \n",
       "4               NaN  Villa María del Triunfo                    1  \n",
       "5               NaN                     Lima                    1  \n",
       "6               NaN             Pueblo Libre                    1  \n",
       "7               NaN   San Juan de Lurigancho                    1  \n",
       "8               NaN               Carabayllo                    1  \n",
       "..              ...                      ...                  ...  \n",
       "431             NaN                     Lima                    1  \n",
       "432             NaN                 Barranco                    1  \n",
       "433             NaN                     Lima                    1  \n",
       "434             NaN                 Barranco                    1  \n",
       "435             NaN                    Otros                    1  \n",
       "\n",
       "[432 rows x 7 columns]"
      ],
      "text/html": "<div>\n<style scoped>\n    .dataframe tbody tr th:only-of-type {\n        vertical-align: middle;\n    }\n\n    .dataframe tbody tr th {\n        vertical-align: top;\n    }\n\n    .dataframe thead th {\n        text-align: right;\n    }\n</style>\n<table border=\"1\" class=\"dataframe\">\n  <thead>\n    <tr style=\"text-align: right;\">\n      <th>3</th>\n      <th>razon_social_id</th>\n      <th>actividad_1_id</th>\n      <th>actividad_2_id</th>\n      <th>actividad_3_id</th>\n      <th>actividad_4_id</th>\n      <th>district_id</th>\n      <th>cantidad_asociacion</th>\n    </tr>\n  </thead>\n  <tbody>\n    <tr>\n      <th>4</th>\n      <td>1</td>\n      <td>1</td>\n      <td>NaN</td>\n      <td>NaN</td>\n      <td>NaN</td>\n      <td>Villa María del Triunfo</td>\n      <td>1</td>\n    </tr>\n    <tr>\n      <th>5</th>\n      <td>2</td>\n      <td>1</td>\n      <td>NaN</td>\n      <td>NaN</td>\n      <td>NaN</td>\n      <td>Lima</td>\n      <td>1</td>\n    </tr>\n    <tr>\n      <th>6</th>\n      <td>3</td>\n      <td>2</td>\n      <td>1.0</td>\n      <td>1.0</td>\n      <td>NaN</td>\n      <td>Pueblo Libre</td>\n      <td>1</td>\n    </tr>\n    <tr>\n      <th>7</th>\n      <td>4</td>\n      <td>1</td>\n      <td>NaN</td>\n      <td>NaN</td>\n      <td>NaN</td>\n      <td>San Juan de Lurigancho</td>\n      <td>1</td>\n    </tr>\n    <tr>\n      <th>8</th>\n      <td>5</td>\n      <td>1</td>\n      <td>NaN</td>\n      <td>NaN</td>\n      <td>NaN</td>\n      <td>Carabayllo</td>\n      <td>1</td>\n    </tr>\n    <tr>\n      <th>...</th>\n      <td>...</td>\n      <td>...</td>\n      <td>...</td>\n      <td>...</td>\n      <td>...</td>\n      <td>...</td>\n      <td>...</td>\n    </tr>\n    <tr>\n      <th>431</th>\n      <td>427</td>\n      <td>1</td>\n      <td>NaN</td>\n      <td>NaN</td>\n      <td>NaN</td>\n      <td>Lima</td>\n      <td>1</td>\n    </tr>\n    <tr>\n      <th>432</th>\n      <td>428</td>\n      <td>4</td>\n      <td>NaN</td>\n      <td>NaN</td>\n      <td>NaN</td>\n      <td>Barranco</td>\n      <td>1</td>\n    </tr>\n    <tr>\n      <th>433</th>\n      <td>429</td>\n      <td>3</td>\n      <td>NaN</td>\n      <td>NaN</td>\n      <td>NaN</td>\n      <td>Lima</td>\n      <td>1</td>\n    </tr>\n    <tr>\n      <th>434</th>\n      <td>430</td>\n      <td>3</td>\n      <td>NaN</td>\n      <td>NaN</td>\n      <td>NaN</td>\n      <td>Barranco</td>\n      <td>1</td>\n    </tr>\n    <tr>\n      <th>435</th>\n      <td>431</td>\n      <td>4</td>\n      <td>NaN</td>\n      <td>NaN</td>\n      <td>NaN</td>\n      <td>Otros</td>\n      <td>1</td>\n    </tr>\n  </tbody>\n</table>\n<p>432 rows × 7 columns</p>\n</div>"
     },
     "metadata": {},
     "execution_count": 207
    }
   ],
   "source": [
    "delta"
   ]
  }
 ]
}